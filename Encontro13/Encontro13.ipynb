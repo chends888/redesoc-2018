{
 "cells": [
  {
   "cell_type": "markdown",
   "metadata": {},
   "source": [
    "# Encontro 13: Medidas de Centralidade\n",
    "\n",
    "Importando a biblioteca:"
   ]
  },
  {
   "cell_type": "code",
   "execution_count": 1,
   "metadata": {},
   "outputs": [
    {
     "name": "stderr",
     "output_type": "stream",
     "text": [
      "/usr/lib/python3.6/importlib/_bootstrap.py:219: RuntimeWarning: numpy.dtype size changed, may indicate binary incompatibility. Expected 96, got 88\n",
      "  return f(*args, **kwds)\n",
      "/usr/lib/python3.6/importlib/_bootstrap.py:219: RuntimeWarning: numpy.dtype size changed, may indicate binary incompatibility. Expected 96, got 88\n",
      "  return f(*args, **kwds)\n"
     ]
    },
    {
     "data": {
      "text/html": [
       "<script>requirejs.config({paths: { 'plotly': ['https://cdn.plot.ly/plotly-latest.min']},});if(!window.Plotly) {{require(['plotly'],function(plotly) {window.Plotly=plotly;});}}</script>"
      ],
      "text/vnd.plotly.v1+html": [
       "<script>requirejs.config({paths: { 'plotly': ['https://cdn.plot.ly/plotly-latest.min']},});if(!window.Plotly) {{require(['plotly'],function(plotly) {window.Plotly=plotly;});}}</script>"
      ]
     },
     "metadata": {},
     "output_type": "display_data"
    }
   ],
   "source": [
    "import sys\n",
    "sys.path.append('..')\n",
    "\n",
    "from random import choice\n",
    "from itertools import permutations\n",
    "\n",
    "import pandas as pd\n",
    "import networkx as nx\n",
    "\n",
    "import socnet as sn\n",
    "\n",
    "from scipy import stats\n",
    "\n",
    "import matplotlib.pyplot as plt\n",
    "\n",
    "import math\n",
    "\n",
    "import numpy as np"
   ]
  },
  {
   "cell_type": "markdown",
   "metadata": {},
   "source": [
    "Configurando a biblioteca:"
   ]
  },
  {
   "cell_type": "code",
   "execution_count": 2,
   "metadata": {},
   "outputs": [],
   "source": [
    "sn.node_size = 10\n",
    "sn.node_color = (255, 255, 255)\n",
    "\n",
    "sn.edge_width = 1\n",
    "sn.edge_color = (192, 192, 192)\n",
    "\n",
    "sn.node_label_position = 'top center'"
   ]
  },
  {
   "cell_type": "markdown",
   "metadata": {},
   "source": [
    "Carregando rede de casamentos entre famílias de Florença durante a Renascença.\n",
    "\n",
    "J. F. Padgett e C. K. Ansell. *Robust action and the rise of the Medici, 1400–1434.* American Journal of\n",
    "Sociology 98, págs. 1259-1319, 1993."
   ]
  },
  {
   "cell_type": "code",
   "execution_count": 14,
   "metadata": {},
   "outputs": [
    {
     "data": {
      "application/vnd.plotly.v1+json": {
       "data": [
        {
         "hoverinfo": "none",
         "line": {
          "color": "rgb(192, 192, 192)",
          "width": 1
         },
         "mode": "lines",
         "type": "scatter",
         "uid": "5c4e8930-d081-11e8-a4da-0005165e06fb",
         "x": [
          0.5138211382113821,
          0.5609756097560976,
          null,
          0.9658536585365853,
          0.8097560975609757,
          null,
          0.5609756097560976,
          0.8097560975609757,
          null,
          0.5609756097560976,
          0.44552845528455287,
          null,
          0.8097560975609757,
          0.6130081300813008,
          null,
          0.8097560975609757,
          1,
          null,
          0,
          0.23414634146341465,
          null,
          0.23414634146341465,
          0.44552845528455287,
          null,
          0.44552845528455287,
          0.6130081300813008,
          null,
          0.44552845528455287,
          0.624390243902439,
          null,
          0.44552845528455287,
          0.26991869918699185,
          null,
          0.44552845528455287,
          0.5138211382113821,
          null,
          0.6130081300813008,
          0.624390243902439,
          null,
          1,
          0.9951219512195122,
          null,
          1,
          0.8357723577235773,
          null,
          0.624390243902439,
          0.8357723577235773,
          null,
          0.8357723577235773,
          0.7626016260162601,
          null,
          0.9951219512195122,
          0.7626016260162601,
          null,
          0.5138211382113821,
          0.7626016260162601,
          null
         ],
         "y": [
          1,
          0.736734693877551,
          null,
          0.8673469387755102,
          0.6714285714285715,
          null,
          0.736734693877551,
          0.6714285714285715,
          null,
          0.736734693877551,
          0.4285714285714286,
          null,
          0.6714285714285715,
          0.5326530612244897,
          null,
          0.6714285714285715,
          0.44897959183673475,
          null,
          0.5061224489795919,
          0.48367346938775513,
          null,
          0.48367346938775513,
          0.4285714285714286,
          null,
          0.4285714285714286,
          0.5326530612244897,
          null,
          0.4285714285714286,
          0.33673469387755106,
          null,
          0.4285714285714286,
          0.2204081632653061,
          null,
          0.4285714285714286,
          0.09999999999999998,
          null,
          0.5326530612244897,
          0.33673469387755106,
          null,
          0.44897959183673475,
          0.17755102040816328,
          null,
          0.44897959183673475,
          0.2020408163265306,
          null,
          0.33673469387755106,
          0.2020408163265306,
          null,
          0.2020408163265306,
          0,
          null,
          0.17755102040816328,
          0,
          null,
          0.09999999999999998,
          0,
          null
         ]
        },
        {
         "hoverinfo": "none",
         "marker": {
          "color": "rgb(255, 255, 255)",
          "line": {
           "color": "rgb(0, 0, 0)",
           "width": 1
          },
          "size": 10
         },
         "mode": "markers+text",
         "text": [
          "ginori",
          "lambertes",
          "albizzi",
          "guadagni",
          "pazzi",
          "salviati",
          "medici",
          "tornabuon",
          "bischeri",
          "ridolfi",
          "acciaiuol",
          "strozzi",
          "peruzzi",
          "barbadori",
          "castellan"
         ],
         "textfont": {
          "color": "rgb(0, 0, 0)"
         },
         "textposition": "top center",
         "type": "scatter",
         "uid": "5c4e8931-d081-11e8-a4da-0005165e06fb",
         "x": [
          0.5138211382113821,
          0.9658536585365853,
          0.5609756097560976,
          0.8097560975609757,
          0,
          0.23414634146341465,
          0.44552845528455287,
          0.6130081300813008,
          1,
          0.624390243902439,
          0.26991869918699185,
          0.8357723577235773,
          0.9951219512195122,
          0.5138211382113821,
          0.7626016260162601
         ],
         "y": [
          1,
          0.8673469387755102,
          0.736734693877551,
          0.6714285714285715,
          0.5061224489795919,
          0.48367346938775513,
          0.4285714285714286,
          0.5326530612244897,
          0.44897959183673475,
          0.33673469387755106,
          0.2204081632653061,
          0.2020408163265306,
          0.17755102040816328,
          0.09999999999999998,
          0
         ]
        }
       ],
       "layout": {
        "height": 450,
        "margin": {
         "b": 0,
         "l": 0,
         "r": 0,
         "t": 0
        },
        "showlegend": false,
        "width": 800,
        "xaxis": {
         "showgrid": false,
         "showticklabels": false,
         "zeroline": false
        },
        "yaxis": {
         "showgrid": false,
         "showticklabels": false,
         "zeroline": false
        }
       }
      },
      "text/html": [
       "<div id=\"aadc2cd1-f98a-428a-96b9-e0709d090e45\" style=\"height: 450px; width: 800px;\" class=\"plotly-graph-div\"></div><script type=\"text/javascript\">require([\"plotly\"], function(Plotly) { window.PLOTLYENV=window.PLOTLYENV || {};window.PLOTLYENV.BASE_URL=\"https://plot.ly\";Plotly.newPlot(\"aadc2cd1-f98a-428a-96b9-e0709d090e45\", [{\"hoverinfo\": \"none\", \"line\": {\"color\": \"rgb(192, 192, 192)\", \"width\": 1}, \"mode\": \"lines\", \"x\": [0.5138211382113821, 0.5609756097560976, null, 0.9658536585365853, 0.8097560975609757, null, 0.5609756097560976, 0.8097560975609757, null, 0.5609756097560976, 0.44552845528455287, null, 0.8097560975609757, 0.6130081300813008, null, 0.8097560975609757, 1.0, null, 0.0, 0.23414634146341465, null, 0.23414634146341465, 0.44552845528455287, null, 0.44552845528455287, 0.6130081300813008, null, 0.44552845528455287, 0.624390243902439, null, 0.44552845528455287, 0.26991869918699185, null, 0.44552845528455287, 0.5138211382113821, null, 0.6130081300813008, 0.624390243902439, null, 1.0, 0.9951219512195122, null, 1.0, 0.8357723577235773, null, 0.624390243902439, 0.8357723577235773, null, 0.8357723577235773, 0.7626016260162601, null, 0.9951219512195122, 0.7626016260162601, null, 0.5138211382113821, 0.7626016260162601, null], \"y\": [1.0, 0.736734693877551, null, 0.8673469387755102, 0.6714285714285715, null, 0.736734693877551, 0.6714285714285715, null, 0.736734693877551, 0.4285714285714286, null, 0.6714285714285715, 0.5326530612244897, null, 0.6714285714285715, 0.44897959183673475, null, 0.5061224489795919, 0.48367346938775513, null, 0.48367346938775513, 0.4285714285714286, null, 0.4285714285714286, 0.5326530612244897, null, 0.4285714285714286, 0.33673469387755106, null, 0.4285714285714286, 0.2204081632653061, null, 0.4285714285714286, 0.09999999999999998, null, 0.5326530612244897, 0.33673469387755106, null, 0.44897959183673475, 0.17755102040816328, null, 0.44897959183673475, 0.2020408163265306, null, 0.33673469387755106, 0.2020408163265306, null, 0.2020408163265306, 0.0, null, 0.17755102040816328, 0.0, null, 0.09999999999999998, 0.0, null], \"type\": \"scatter\", \"uid\": \"5c4e8932-d081-11e8-a4da-0005165e06fb\"}, {\"hoverinfo\": \"none\", \"marker\": {\"color\": \"rgb(255, 255, 255)\", \"line\": {\"color\": \"rgb(0, 0, 0)\", \"width\": 1}, \"size\": 10}, \"mode\": \"markers+text\", \"text\": [\"ginori\", \"lambertes\", \"albizzi\", \"guadagni\", \"pazzi\", \"salviati\", \"medici\", \"tornabuon\", \"bischeri\", \"ridolfi\", \"acciaiuol\", \"strozzi\", \"peruzzi\", \"barbadori\", \"castellan\"], \"textfont\": {\"color\": \"rgb(0, 0, 0)\"}, \"textposition\": \"top center\", \"x\": [0.5138211382113821, 0.9658536585365853, 0.5609756097560976, 0.8097560975609757, 0.0, 0.23414634146341465, 0.44552845528455287, 0.6130081300813008, 1.0, 0.624390243902439, 0.26991869918699185, 0.8357723577235773, 0.9951219512195122, 0.5138211382113821, 0.7626016260162601], \"y\": [1.0, 0.8673469387755102, 0.736734693877551, 0.6714285714285715, 0.5061224489795919, 0.48367346938775513, 0.4285714285714286, 0.5326530612244897, 0.44897959183673475, 0.33673469387755106, 0.2204081632653061, 0.2020408163265306, 0.17755102040816328, 0.09999999999999998, 0.0], \"type\": \"scatter\", \"uid\": \"5c4e8933-d081-11e8-a4da-0005165e06fb\"}], {\"height\": 450, \"margin\": {\"b\": 0, \"l\": 0, \"r\": 0, \"t\": 0}, \"showlegend\": false, \"width\": 800, \"xaxis\": {\"showgrid\": false, \"showticklabels\": false, \"zeroline\": false}, \"yaxis\": {\"showgrid\": false, \"showticklabels\": false, \"zeroline\": false}}, {\"showLink\": false, \"linkText\": \"Export to plot.ly\", \"displayModeBar\": false})});</script>"
      ],
      "text/vnd.plotly.v1+html": [
       "<div id=\"aadc2cd1-f98a-428a-96b9-e0709d090e45\" style=\"height: 450px; width: 800px;\" class=\"plotly-graph-div\"></div><script type=\"text/javascript\">require([\"plotly\"], function(Plotly) { window.PLOTLYENV=window.PLOTLYENV || {};window.PLOTLYENV.BASE_URL=\"https://plot.ly\";Plotly.newPlot(\"aadc2cd1-f98a-428a-96b9-e0709d090e45\", [{\"hoverinfo\": \"none\", \"line\": {\"color\": \"rgb(192, 192, 192)\", \"width\": 1}, \"mode\": \"lines\", \"x\": [0.5138211382113821, 0.5609756097560976, null, 0.9658536585365853, 0.8097560975609757, null, 0.5609756097560976, 0.8097560975609757, null, 0.5609756097560976, 0.44552845528455287, null, 0.8097560975609757, 0.6130081300813008, null, 0.8097560975609757, 1.0, null, 0.0, 0.23414634146341465, null, 0.23414634146341465, 0.44552845528455287, null, 0.44552845528455287, 0.6130081300813008, null, 0.44552845528455287, 0.624390243902439, null, 0.44552845528455287, 0.26991869918699185, null, 0.44552845528455287, 0.5138211382113821, null, 0.6130081300813008, 0.624390243902439, null, 1.0, 0.9951219512195122, null, 1.0, 0.8357723577235773, null, 0.624390243902439, 0.8357723577235773, null, 0.8357723577235773, 0.7626016260162601, null, 0.9951219512195122, 0.7626016260162601, null, 0.5138211382113821, 0.7626016260162601, null], \"y\": [1.0, 0.736734693877551, null, 0.8673469387755102, 0.6714285714285715, null, 0.736734693877551, 0.6714285714285715, null, 0.736734693877551, 0.4285714285714286, null, 0.6714285714285715, 0.5326530612244897, null, 0.6714285714285715, 0.44897959183673475, null, 0.5061224489795919, 0.48367346938775513, null, 0.48367346938775513, 0.4285714285714286, null, 0.4285714285714286, 0.5326530612244897, null, 0.4285714285714286, 0.33673469387755106, null, 0.4285714285714286, 0.2204081632653061, null, 0.4285714285714286, 0.09999999999999998, null, 0.5326530612244897, 0.33673469387755106, null, 0.44897959183673475, 0.17755102040816328, null, 0.44897959183673475, 0.2020408163265306, null, 0.33673469387755106, 0.2020408163265306, null, 0.2020408163265306, 0.0, null, 0.17755102040816328, 0.0, null, 0.09999999999999998, 0.0, null], \"type\": \"scatter\", \"uid\": \"5c4e8932-d081-11e8-a4da-0005165e06fb\"}, {\"hoverinfo\": \"none\", \"marker\": {\"color\": \"rgb(255, 255, 255)\", \"line\": {\"color\": \"rgb(0, 0, 0)\", \"width\": 1}, \"size\": 10}, \"mode\": \"markers+text\", \"text\": [\"ginori\", \"lambertes\", \"albizzi\", \"guadagni\", \"pazzi\", \"salviati\", \"medici\", \"tornabuon\", \"bischeri\", \"ridolfi\", \"acciaiuol\", \"strozzi\", \"peruzzi\", \"barbadori\", \"castellan\"], \"textfont\": {\"color\": \"rgb(0, 0, 0)\"}, \"textposition\": \"top center\", \"x\": [0.5138211382113821, 0.9658536585365853, 0.5609756097560976, 0.8097560975609757, 0.0, 0.23414634146341465, 0.44552845528455287, 0.6130081300813008, 1.0, 0.624390243902439, 0.26991869918699185, 0.8357723577235773, 0.9951219512195122, 0.5138211382113821, 0.7626016260162601], \"y\": [1.0, 0.8673469387755102, 0.736734693877551, 0.6714285714285715, 0.5061224489795919, 0.48367346938775513, 0.4285714285714286, 0.5326530612244897, 0.44897959183673475, 0.33673469387755106, 0.2204081632653061, 0.2020408163265306, 0.17755102040816328, 0.09999999999999998, 0.0], \"type\": \"scatter\", \"uid\": \"5c4e8933-d081-11e8-a4da-0005165e06fb\"}], {\"height\": 450, \"margin\": {\"b\": 0, \"l\": 0, \"r\": 0, \"t\": 0}, \"showlegend\": false, \"width\": 800, \"xaxis\": {\"showgrid\": false, \"showticklabels\": false, \"zeroline\": false}, \"yaxis\": {\"showgrid\": false, \"showticklabels\": false, \"zeroline\": false}}, {\"showLink\": false, \"linkText\": \"Export to plot.ly\", \"displayModeBar\": false})});</script>"
      ]
     },
     "metadata": {},
     "output_type": "display_data"
    }
   ],
   "source": [
    "g = sn.load_graph('Renaissance.gml', has_pos=True)\n",
    "\n",
    "sn.show_graph(g, nlab=True)"
   ]
  },
  {
   "cell_type": "markdown",
   "metadata": {},
   "source": [
    "Função que registra, em cada nó, seus sucessores em geodésicas de $s$ a $t$."
   ]
  },
  {
   "cell_type": "code",
   "execution_count": 4,
   "metadata": {},
   "outputs": [],
   "source": [
    "def set_geodesic_successors(g, s, t):\n",
    "    for n in g.nodes:\n",
    "        g.nodes[n]['geodesic_successors'] = set()\n",
    "\n",
    "    for p in nx.all_shortest_paths(g, s, t):\n",
    "        for i in range(len(p) - 1):\n",
    "            g.nodes[p[i]]['geodesic_successors'].add(p[i + 1])"
   ]
  },
  {
   "cell_type": "markdown",
   "metadata": {},
   "source": [
    "Funções que representam uma escolha aleatória de sucessor para diferentes tipos de trajetórias."
   ]
  },
  {
   "cell_type": "code",
   "execution_count": 5,
   "metadata": {},
   "outputs": [],
   "source": [
    "# Pense que o atributo 'passages' abaixo indica quantas\n",
    "# vezes um fluxo já passou por um nó ou por uma aresta.\n",
    "\n",
    "def random_geodesic_successor(g, n):\n",
    "    return choice([m for m in g.nodes[n]['geodesic_successors']])\n",
    "\n",
    "def random_path_successor(g, n):\n",
    "    return choice([m for m in g.neighbors(n) if g.nodes[m]['passages'] == 0])\n",
    "\n",
    "def random_trail_successor(g, n):\n",
    "    return choice([m for m in g.neighbors(n) if g.edges[n, m]['passages'] == 0])\n",
    "\n",
    "def random_walk_successor(g, n):\n",
    "    return choice([m for m in g.neighbors(n)])"
   ]
  },
  {
   "cell_type": "markdown",
   "metadata": {},
   "source": [
    "Função que faz uma simulação de fluxo de $s$ a $t$, que pode ou não ser bem-sucedida."
   ]
  },
  {
   "cell_type": "code",
   "execution_count": 6,
   "metadata": {},
   "outputs": [],
   "source": [
    "def simulate_single_flow(g, s, t, func, dup):\n",
    "    # Inicializa o atributo 'passages' de cada nó.\n",
    "    for n in g.nodes:\n",
    "        g.nodes[n]['passages'] = 0\n",
    "    g.nodes[s]['passages'] = 1\n",
    "\n",
    "    # Inicializa o atributo 'passages' de cada aresta.\n",
    "    for n, m in g.edges:\n",
    "        g.edges[n, m]['passages'] = 0\n",
    "\n",
    "    # Inicializa s como o único dono do insumo.\n",
    "    for n in g.nodes:\n",
    "        g.nodes[n]['owner'] = False\n",
    "    g.nodes[s]['owner'] = True\n",
    "\n",
    "    # Simula o fluxo, contando o número total de passos.\n",
    "    steps = 0\n",
    "\n",
    "    while True:\n",
    "        # O conjunto reached representa todos os nós\n",
    "        # que o fluxo consegue alcançar no passo atual.\n",
    "        reached = set()\n",
    "\n",
    "        # Verifica cada um dos donos atuais do insumo.\n",
    "        owners = [n for n in g.nodes if g.nodes[n]['owner']]\n",
    "\n",
    "        for n in owners:\n",
    "            # Escolhe aleatoriamente um dos sucessores.\n",
    "            try:\n",
    "                if ( func == 'geo'):\n",
    "                    m = random_geodesic_successor(g, n)\n",
    "                elif (func == 'path'):\n",
    "                    m = random_path_successor(g, n)\n",
    "                elif (func == 'trail'):\n",
    "                    m = random_trail_successor(g, n)\n",
    "                else:\n",
    "                     m = random_walk_successor(g, n)\n",
    "            except IndexError:\n",
    "                continue\n",
    "\n",
    "            # Deixa de ser dono do insumo.\n",
    "            if dup == 'dup':\n",
    "                g.nodes[n]['owner'] = True\n",
    "            else:\n",
    "                g.nodes[n]['owner'] = False\n",
    "\n",
    "            # Incrementa o atributo 'passages' do nó.\n",
    "            g.nodes[m]['passages'] += 1\n",
    "\n",
    "            # Incrementa o atributo 'passages' da aresta.\n",
    "            g.edges[n, m]['passages'] += 1\n",
    "\n",
    "            # Registra que consegue alcançar esse nó.\n",
    "            reached.add(m)\n",
    "\n",
    "        # Todo nó alcançado passa a ser dono do insumo.\n",
    "        for n in reached:\n",
    "            g.nodes[n]['owner'] = True\n",
    "\n",
    "        # Isso conclui o passo atual da simulação.\n",
    "        steps += 1\n",
    "\n",
    "        # Se o passo alcançou t, chegamos ao fim da simulação.\n",
    "        # Ela foi bem-sucedida: devolvemos o número de passos.\n",
    "        if t in reached:\n",
    "            return steps\n",
    "\n",
    "        # Se o passo não alcançou ninguém, chegamos ao fim da\n",
    "        # simulação. Ela não foi bem-sucedida: devolvemos -1.\n",
    "        if not reached:\n",
    "            return -1"
   ]
  },
  {
   "cell_type": "markdown",
   "metadata": {},
   "source": [
    "Função que faz simulações de fluxo de $s$ a $t$ até uma ser bem-sucedida."
   ]
  },
  {
   "cell_type": "code",
   "execution_count": 7,
   "metadata": {},
   "outputs": [],
   "source": [
    "def simulate_successful_flow(g, s, t, func, dup):\n",
    "    set_geodesic_successors(g, s, t)\n",
    "\n",
    "    while True:\n",
    "        steps = simulate_single_flow(g, s, t, func, dup)\n",
    "\n",
    "        if steps != -1:\n",
    "            return steps"
   ]
  },
  {
   "cell_type": "markdown",
   "metadata": {},
   "source": [
    "Função que faz simulações de fluxo para todo $s$ e $t$ possíveis, e tira disso um *closeness simulado* e um *betweenness simulado*."
   ]
  },
  {
   "cell_type": "code",
   "execution_count": 8,
   "metadata": {},
   "outputs": [],
   "source": [
    "def simulate_all_flows(g, func, dup):\n",
    "    for n in g.nodes:\n",
    "        g.nodes[n]['closeness'] = 0\n",
    "        g.nodes[n]['betweenness'] = 0\n",
    "\n",
    "    for s, t in permutations(g.nodes, 2):\n",
    "        steps = simulate_successful_flow(g, s, t, func, dup)\n",
    "\n",
    "        g.nodes[s]['closeness'] += steps\n",
    "        for n in g.nodes:\n",
    "            if n != s and n != t:\n",
    "                g.nodes[n]['betweenness'] += g.nodes[n]['passages']\n",
    "\n",
    "    # Normalizações necessárias para comparar com os\n",
    "    # resultados analíticos. Não é preciso entender.\n",
    "    for n in g.nodes:\n",
    "        g.nodes[n]['closeness'] = (g.number_of_nodes() - 1) / g.nodes[n]['closeness']\n",
    "        g.nodes[n]['betweenness'] /= (g.number_of_nodes() - 1) * (g.number_of_nodes() - 2)"
   ]
  },
  {
   "cell_type": "markdown",
   "metadata": {},
   "source": [
    "Média de *closeness simulado* e *betweenness simulado* para muitas repetições da simulação acima."
   ]
  },
  {
   "cell_type": "code",
   "execution_count": 9,
   "metadata": {},
   "outputs": [],
   "source": [
    "def main(tipo, dup):\n",
    "    TIMES = 100\n",
    "    \n",
    "    #Dicionário com valores de centralidade (closeness e betweenness) para todas as famíilas (porém de apenas um trajetória e com ou sem duplicação)\n",
    "    list_dict = {}\n",
    "\n",
    "    for n in g.nodes:\n",
    "#         g.nodes[n]['clos_list'] = []\n",
    "#         g.nodes[n]['bet_list'] =[]\n",
    "        \n",
    "        clos_list = []\n",
    "        bet_list = []\n",
    "#         list_dict[g.nodes[n]['label']+'_clos_'+tipo+'_'+dup+'_list'] = g.nodes[n]['clos_list']\n",
    "#         list_dict[g.nodes[n]['label']+'_bet_'+tipo+'_'+dup+'_list'] = g.nodes[n]['bet_list']\n",
    "        list_dict[g.nodes[n]['label']+'_clos_'+tipo+'_'+dup+'_list'] = clos_list\n",
    "        list_dict[g.nodes[n]['label']+'_bet_'+tipo+'_'+dup+'_list'] = bet_list\n",
    "#         print (g.nodes[n]['label']+'_bet_'+tipo+'_'+dup+'_list')\n",
    "\n",
    "    for _ in range(TIMES):\n",
    "        simulate_all_flows(g, tipo, dup)\n",
    "\n",
    "        for n in g.nodes:\n",
    "            list_dict[g.nodes[n]['label']+'_clos_'+tipo+'_'+dup+'_list'].append(g.nodes[n]['closeness'])\n",
    "            list_dict[g.nodes[n]['label']+'_bet_'+tipo+'_'+dup+'_list'].append(g.nodes[n]['betweenness'])\n",
    "#             clos_list.append(g.nodes[n]['closeness'])\n",
    "#             bet_list.append(g.nodes[n]['betweenness'])\n",
    "\n",
    "#             print(list_dict['medici_clos_geo_dup_list'])\n",
    "\n",
    "    return (list_dict)"
   ]
  },
  {
   "cell_type": "code",
   "execution_count": 10,
   "metadata": {},
   "outputs": [],
   "source": [
    "m = main('geo','notdup')"
   ]
  },
  {
   "cell_type": "markdown",
   "metadata": {},
   "source": [
    "Cálculo de *closeness* e *betweenness* a partir das funções prontas da NetworkX, para comparação."
   ]
  },
  {
   "cell_type": "code",
   "execution_count": 11,
   "metadata": {},
   "outputs": [],
   "source": [
    "# cc = nx.closeness_centrality(g)\n",
    "\n",
    "# bc = nx.betweenness_centrality(g)"
   ]
  },
  {
   "cell_type": "markdown",
   "metadata": {},
   "source": [
    "Construção de data frame só para comparar mais facilmente."
   ]
  },
  {
   "cell_type": "code",
   "execution_count": 12,
   "metadata": {},
   "outputs": [],
   "source": [
    "# pd.DataFrame({\n",
    "#     'família': [g.nodes[n]['label'] for n in g.nodes],\n",
    "#     'closeness simulado': [g.nodes[n]['mean_closeness'] for n in g.nodes],\n",
    "#     'closeness analítico': [cc[n] for n in g.nodes],\n",
    "#     'betweenness simulado': [g.nodes[n]['mean_betweenness'] for n in g.nodes],\n",
    "#     'betweenness analítico': [bc[n] for n in g.nodes],\n",
    "# })"
   ]
  },
  {
   "cell_type": "markdown",
   "metadata": {},
   "source": [
    "E agora, vamos pensar um pouco...\n",
    "\n",
    "* Onde você precisa mudar o código para usar uma *trajetória* que não seja a *geodésica*? (caminho, trilha, passeio)\n",
    "\n",
    "* Onde você precisa mudar o código para usar uma *difusão* que não seja a *transferência*? (duplicação)\n",
    "\n",
    "Considere então a seguinte **hipótese**:\n",
    "\n",
    ">Quando consideramos outros tipos de trajetória e outros tipos de difusão, os nós com maior *closeness simulado* e *betweenness simulado* não são necessariamente os nós com maior *closeness* e *betweenness* segundo as fórmulas clássicas. (que correspondem ao uso de geodésica e transferência na simulação)\n",
    "\n",
    "Queremos:\n",
    "\n",
    "1. Operacionalização e teste dessas hipótese. (Objetivo 3)\n",
    "2. Interpretação dos resultados na linguagem de Análise de Redes Sociais (Objetivo 4)\n",
    "\n",
    "Um *feedback* da atividade sobre *coreness no Jazz* será dado em breve, para vocês terem uma melhor referência do item 2."
   ]
  },
  {
   "cell_type": "markdown",
   "metadata": {},
   "source": [
    "Montando dicionários com os valores de centralidade (closeness e betweenness) para cada amostra (todas as famílias sendo testadas com todos os tipos de trajetória ora tendo transferência, ora não)"
   ]
  },
  {
   "cell_type": "code",
   "execution_count": 13,
   "metadata": {
    "scrolled": true
   },
   "outputs": [
    {
     "ename": "KeyboardInterrupt",
     "evalue": "",
     "output_type": "error",
     "traceback": [
      "\u001b[0;31m---------------------------------------------------------------------------\u001b[0m",
      "\u001b[0;31mKeyboardInterrupt\u001b[0m                         Traceback (most recent call last)",
      "\u001b[0;32m<ipython-input-13-718d58408189>\u001b[0m in \u001b[0;36m<module>\u001b[0;34m()\u001b[0m\n\u001b[1;32m      2\u001b[0m \u001b[0;34m\u001b[0m\u001b[0m\n\u001b[1;32m      3\u001b[0m \u001b[0mall_dict\u001b[0m\u001b[0;34m[\u001b[0m\u001b[0;34m'dup_geo_bet_clos_dict'\u001b[0m\u001b[0;34m]\u001b[0m \u001b[0;34m=\u001b[0m \u001b[0mmain\u001b[0m\u001b[0;34m(\u001b[0m\u001b[0;34m'geo'\u001b[0m\u001b[0;34m,\u001b[0m\u001b[0;34m'dup'\u001b[0m\u001b[0;34m)\u001b[0m\u001b[0;34m\u001b[0m\u001b[0m\n\u001b[0;32m----> 4\u001b[0;31m \u001b[0mall_dict\u001b[0m\u001b[0;34m[\u001b[0m\u001b[0;34m'dup_path_bet_clos_dict'\u001b[0m\u001b[0;34m]\u001b[0m \u001b[0;34m=\u001b[0m \u001b[0mmain\u001b[0m\u001b[0;34m(\u001b[0m\u001b[0;34m'path'\u001b[0m\u001b[0;34m,\u001b[0m\u001b[0;34m'dup'\u001b[0m\u001b[0;34m)\u001b[0m\u001b[0;34m\u001b[0m\u001b[0m\n\u001b[0m\u001b[1;32m      5\u001b[0m \u001b[0mall_dict\u001b[0m\u001b[0;34m[\u001b[0m\u001b[0;34m'dup_trail_bet_clos_dict'\u001b[0m\u001b[0;34m]\u001b[0m \u001b[0;34m=\u001b[0m \u001b[0mmain\u001b[0m\u001b[0;34m(\u001b[0m\u001b[0;34m'trail'\u001b[0m\u001b[0;34m,\u001b[0m\u001b[0;34m'dup'\u001b[0m\u001b[0;34m)\u001b[0m\u001b[0;34m\u001b[0m\u001b[0m\n\u001b[1;32m      6\u001b[0m \u001b[0mall_dict\u001b[0m\u001b[0;34m[\u001b[0m\u001b[0;34m'dup_walk_bet_clos_dict'\u001b[0m\u001b[0;34m]\u001b[0m \u001b[0;34m=\u001b[0m \u001b[0mmain\u001b[0m\u001b[0;34m(\u001b[0m\u001b[0;34m'walk'\u001b[0m\u001b[0;34m,\u001b[0m\u001b[0;34m'dup'\u001b[0m\u001b[0;34m)\u001b[0m\u001b[0;34m\u001b[0m\u001b[0m\n",
      "\u001b[0;32m<ipython-input-9-0db6fd540b6f>\u001b[0m in \u001b[0;36mmain\u001b[0;34m(tipo, dup)\u001b[0m\n\u001b[1;32m     18\u001b[0m \u001b[0;34m\u001b[0m\u001b[0m\n\u001b[1;32m     19\u001b[0m     \u001b[0;32mfor\u001b[0m \u001b[0m_\u001b[0m \u001b[0;32min\u001b[0m \u001b[0mrange\u001b[0m\u001b[0;34m(\u001b[0m\u001b[0mTIMES\u001b[0m\u001b[0;34m)\u001b[0m\u001b[0;34m:\u001b[0m\u001b[0;34m\u001b[0m\u001b[0m\n\u001b[0;32m---> 20\u001b[0;31m         \u001b[0msimulate_all_flows\u001b[0m\u001b[0;34m(\u001b[0m\u001b[0mg\u001b[0m\u001b[0;34m,\u001b[0m \u001b[0mtipo\u001b[0m\u001b[0;34m,\u001b[0m \u001b[0mdup\u001b[0m\u001b[0;34m)\u001b[0m\u001b[0;34m\u001b[0m\u001b[0m\n\u001b[0m\u001b[1;32m     21\u001b[0m \u001b[0;34m\u001b[0m\u001b[0m\n\u001b[1;32m     22\u001b[0m         \u001b[0;32mfor\u001b[0m \u001b[0mn\u001b[0m \u001b[0;32min\u001b[0m \u001b[0mg\u001b[0m\u001b[0;34m.\u001b[0m\u001b[0mnodes\u001b[0m\u001b[0;34m:\u001b[0m\u001b[0;34m\u001b[0m\u001b[0m\n",
      "\u001b[0;32m<ipython-input-8-64b998baf5bd>\u001b[0m in \u001b[0;36msimulate_all_flows\u001b[0;34m(g, func, dup)\u001b[0m\n\u001b[1;32m      5\u001b[0m \u001b[0;34m\u001b[0m\u001b[0m\n\u001b[1;32m      6\u001b[0m     \u001b[0;32mfor\u001b[0m \u001b[0ms\u001b[0m\u001b[0;34m,\u001b[0m \u001b[0mt\u001b[0m \u001b[0;32min\u001b[0m \u001b[0mpermutations\u001b[0m\u001b[0;34m(\u001b[0m\u001b[0mg\u001b[0m\u001b[0;34m.\u001b[0m\u001b[0mnodes\u001b[0m\u001b[0;34m,\u001b[0m \u001b[0;36m2\u001b[0m\u001b[0;34m)\u001b[0m\u001b[0;34m:\u001b[0m\u001b[0;34m\u001b[0m\u001b[0m\n\u001b[0;32m----> 7\u001b[0;31m         \u001b[0msteps\u001b[0m \u001b[0;34m=\u001b[0m \u001b[0msimulate_successful_flow\u001b[0m\u001b[0;34m(\u001b[0m\u001b[0mg\u001b[0m\u001b[0;34m,\u001b[0m \u001b[0ms\u001b[0m\u001b[0;34m,\u001b[0m \u001b[0mt\u001b[0m\u001b[0;34m,\u001b[0m \u001b[0mfunc\u001b[0m\u001b[0;34m,\u001b[0m \u001b[0mdup\u001b[0m\u001b[0;34m)\u001b[0m\u001b[0;34m\u001b[0m\u001b[0m\n\u001b[0m\u001b[1;32m      8\u001b[0m \u001b[0;34m\u001b[0m\u001b[0m\n\u001b[1;32m      9\u001b[0m         \u001b[0mg\u001b[0m\u001b[0;34m.\u001b[0m\u001b[0mnodes\u001b[0m\u001b[0;34m[\u001b[0m\u001b[0ms\u001b[0m\u001b[0;34m]\u001b[0m\u001b[0;34m[\u001b[0m\u001b[0;34m'closeness'\u001b[0m\u001b[0;34m]\u001b[0m \u001b[0;34m+=\u001b[0m \u001b[0msteps\u001b[0m\u001b[0;34m\u001b[0m\u001b[0m\n",
      "\u001b[0;32m<ipython-input-7-d01b6438bacd>\u001b[0m in \u001b[0;36msimulate_successful_flow\u001b[0;34m(g, s, t, func, dup)\u001b[0m\n\u001b[1;32m      3\u001b[0m \u001b[0;34m\u001b[0m\u001b[0m\n\u001b[1;32m      4\u001b[0m     \u001b[0;32mwhile\u001b[0m \u001b[0;32mTrue\u001b[0m\u001b[0;34m:\u001b[0m\u001b[0;34m\u001b[0m\u001b[0m\n\u001b[0;32m----> 5\u001b[0;31m         \u001b[0msteps\u001b[0m \u001b[0;34m=\u001b[0m \u001b[0msimulate_single_flow\u001b[0m\u001b[0;34m(\u001b[0m\u001b[0mg\u001b[0m\u001b[0;34m,\u001b[0m \u001b[0ms\u001b[0m\u001b[0;34m,\u001b[0m \u001b[0mt\u001b[0m\u001b[0;34m,\u001b[0m \u001b[0mfunc\u001b[0m\u001b[0;34m,\u001b[0m \u001b[0mdup\u001b[0m\u001b[0;34m)\u001b[0m\u001b[0;34m\u001b[0m\u001b[0m\n\u001b[0m\u001b[1;32m      6\u001b[0m \u001b[0;34m\u001b[0m\u001b[0m\n\u001b[1;32m      7\u001b[0m         \u001b[0;32mif\u001b[0m \u001b[0msteps\u001b[0m \u001b[0;34m!=\u001b[0m \u001b[0;34m-\u001b[0m\u001b[0;36m1\u001b[0m\u001b[0;34m:\u001b[0m\u001b[0;34m\u001b[0m\u001b[0m\n",
      "\u001b[0;32m<ipython-input-6-5294ca488fa1>\u001b[0m in \u001b[0;36msimulate_single_flow\u001b[0;34m(g, s, t, func, dup)\u001b[0m\n\u001b[1;32m     11\u001b[0m     \u001b[0;31m# Inicializa s como o único dono do insumo.\u001b[0m\u001b[0;34m\u001b[0m\u001b[0;34m\u001b[0m\u001b[0m\n\u001b[1;32m     12\u001b[0m     \u001b[0;32mfor\u001b[0m \u001b[0mn\u001b[0m \u001b[0;32min\u001b[0m \u001b[0mg\u001b[0m\u001b[0;34m.\u001b[0m\u001b[0mnodes\u001b[0m\u001b[0;34m:\u001b[0m\u001b[0;34m\u001b[0m\u001b[0m\n\u001b[0;32m---> 13\u001b[0;31m         \u001b[0mg\u001b[0m\u001b[0;34m.\u001b[0m\u001b[0mnodes\u001b[0m\u001b[0;34m[\u001b[0m\u001b[0mn\u001b[0m\u001b[0;34m]\u001b[0m\u001b[0;34m[\u001b[0m\u001b[0;34m'owner'\u001b[0m\u001b[0;34m]\u001b[0m \u001b[0;34m=\u001b[0m \u001b[0;32mFalse\u001b[0m\u001b[0;34m\u001b[0m\u001b[0m\n\u001b[0m\u001b[1;32m     14\u001b[0m     \u001b[0mg\u001b[0m\u001b[0;34m.\u001b[0m\u001b[0mnodes\u001b[0m\u001b[0;34m[\u001b[0m\u001b[0ms\u001b[0m\u001b[0;34m]\u001b[0m\u001b[0;34m[\u001b[0m\u001b[0;34m'owner'\u001b[0m\u001b[0;34m]\u001b[0m \u001b[0;34m=\u001b[0m \u001b[0;32mTrue\u001b[0m\u001b[0;34m\u001b[0m\u001b[0m\n\u001b[1;32m     15\u001b[0m \u001b[0;34m\u001b[0m\u001b[0m\n",
      "\u001b[0;32m/home/chends/.local/lib/python3.6/site-packages/networkx/classes/graph.py\u001b[0m in \u001b[0;36mnodes\u001b[0;34m(self)\u001b[0m\n\u001b[1;32m    717\u001b[0m \u001b[0;34m\u001b[0m\u001b[0m\n\u001b[1;32m    718\u001b[0m         \"\"\"\n\u001b[0;32m--> 719\u001b[0;31m         \u001b[0mnodes\u001b[0m \u001b[0;34m=\u001b[0m \u001b[0mNodeView\u001b[0m\u001b[0;34m(\u001b[0m\u001b[0mself\u001b[0m\u001b[0;34m)\u001b[0m\u001b[0;34m\u001b[0m\u001b[0m\n\u001b[0m\u001b[1;32m    720\u001b[0m         \u001b[0;31m# Lazy View creation: overload the (class) property on the instance\u001b[0m\u001b[0;34m\u001b[0m\u001b[0;34m\u001b[0m\u001b[0m\n\u001b[1;32m    721\u001b[0m         \u001b[0;31m# Then future G.nodes use the existing View\u001b[0m\u001b[0;34m\u001b[0m\u001b[0;34m\u001b[0m\u001b[0m\n",
      "\u001b[0;31mKeyboardInterrupt\u001b[0m: "
     ]
    }
   ],
   "source": [
    "all_dict = {}\n",
    "\n",
    "all_dict['dup_geo_bet_clos_dict'] = main('geo','dup')\n",
    "all_dict['dup_path_bet_clos_dict'] = main('path','dup')\n",
    "all_dict['dup_trail_bet_clos_dict'] = main('trail','dup')\n",
    "all_dict['dup_walk_bet_clos_dict'] = main('walk','dup')\n",
    "all_dict['notdup_geo_bet_clos_dict'] = main('geo','notdup')\n",
    "all_dict['notdup_path_bet_clos_dict']= main('path','notdup')\n",
    "all_dict['notdup_trail_bet_clos_dict'] = main('trail','notdup')\n",
    "all_dict['notdup_walk_bet_clos_dict'] = main('walk','notdup')\n"
   ]
  },
  {
   "cell_type": "markdown",
   "metadata": {},
   "source": [
    "Analisando as listas dos valores de centralidade nos diferentes casos com os valores padrão (valores de centralidade utilizando geodésica com transferência)"
   ]
  },
  {
   "cell_type": "code",
   "execution_count": null,
   "metadata": {
    "scrolled": true
   },
   "outputs": [],
   "source": [
    "fam_list = []\n",
    "traject_list = ['geo', 'path', 'trail', 'walk']\n",
    "dup_list = ['dup', 'notdup']\n",
    "bet_clos_list = ['bet', 'clos']\n",
    "\n",
    "# bench = all_dict['dup_geo_bet_clos_dict']['ginori_bet_geo_dup_list']\n",
    "\n",
    "#Adicionando nomes das famílias na lista\n",
    "for n in g.nodes:\n",
    "    fam_list.append(g.nodes[n]['label'])\n",
    "\n",
    "\n",
    "#Realizando testes-t para combinações entre famílias, tipos de trajetórias e difusão\n",
    "t_p_value_dict_clos = {}\n",
    "t_p_value_dict_bet = {}\n",
    "# tvalue_list = []\n",
    "#Realizando teste t para betweenness, comparando o 'benchmark' (famíliax com geodésica e com transferência)\n",
    "for fam in fam_list:\n",
    "    for traject in traject_list:\n",
    "        for dup in dup_list:\n",
    "            if dup != 'dup' or traject != 'geo':\n",
    "                ttest = stats.ttest_ind(all_dict[''+dup+'_'+traject+'_bet_clos_dict'][''+fam+'_clos_'+traject+'_'+dup+'_list'], all_dict['dup_geo_bet_clos_dict'][''+fam+'_clos_geo_dup_list']) \n",
    "                if not(math.isnan(ttest[0])):\n",
    "                    if  not(math.isnan(ttest[1])):\n",
    "                        if ttest[1] != 1:\n",
    "                            t_p_value_dict_clos[ttest[0]] = ttest[1]\n",
    "#                     tvalue_list.append(ttest[0])\n",
    "                print('P-value de: '+fam+' '+dup+' '+traject+' clos COM: '+fam+' dup geo clos         ', ttest[1], 't-value: ', ttest[0])\n",
    "\n",
    "#Realizando teste t para closeness, comparando o 'benchmark' (famíliax com geodésica e com transferência)\n",
    "for fam in fam_list:\n",
    "    for traject in traject_list:\n",
    "        for dup in dup_list:\n",
    "            if dup != 'dup' or traject != 'geo':\n",
    "                ttest = stats.ttest_ind(all_dict[''+dup+'_'+traject+'_bet_clos_dict'][''+fam+'_bet_'+traject+'_'+dup+'_list'], all_dict['dup_geo_bet_clos_dict'][''+fam+'_bet_geo_dup_list']) \n",
    "                if not(math.isnan(ttest[0])):\n",
    "                    if  not(math.isnan(ttest[1])):\n",
    "                        if ttest[1] != 1:\n",
    "                            t_p_value_dict_bet[ttest[0]] = ttest[1]\n",
    "#                     tvalue_list.append(ttest[0])\n",
    "                print('P-value de: '+fam+' '+dup+' '+traject+' bet COM: '+fam+' dup geo bet         ', ttest[1], 't-value: ', ttest[0])\n",
    "# print(stats.ttest_ind(all_dict['dup_geo_bet_clos_dict']['ginori_bet_geo_dup_list'],all_dict['dup_geo_bet_clos_dict']['medici_bet_geo_dup_list']))\n"
   ]
  },
  {
   "cell_type": "markdown",
   "metadata": {},
   "source": [
    "Hipótese nula:  Quando os tipos de trajetória e difusão são alterados, as famílias que anteriormente tinham altas medidas de centralidade, tentem a ser as mesmas.\n",
    "\n",
    "Hipótese alternativa: Quando mudamos os tipos de trajetória e difusão, as famílias com maiores medidas de centraildade tendem não ser as mesmas."
   ]
  },
  {
   "cell_type": "code",
   "execution_count": null,
   "metadata": {},
   "outputs": [],
   "source": []
  },
  {
   "cell_type": "code",
   "execution_count": null,
   "metadata": {
    "scrolled": true
   },
   "outputs": [],
   "source": [
    "plt.ylim(-500,0)\n",
    "# tvalue_list.sort()\n",
    "# print(sorted(t_p_value_dict))\n",
    "\n",
    "pvalue_clos_list = []\n",
    "for key in sorted(t_p_value_dict_clos):\n",
    "    pvalue_clos_list.append(t_p_value_dict_clos[key])\n",
    "plt.scatter(x = pvalue_clos_list, y = sorted(t_p_value_dict_clos))\n",
    "\n",
    "plt.xlabel('p-value')\n",
    "plt.ylabel('t-value')\n",
    "plt.title('Scatter plot closeness')"
   ]
  },
  {
   "cell_type": "code",
   "execution_count": null,
   "metadata": {
    "scrolled": true
   },
   "outputs": [],
   "source": [
    "plt.ylim(-500,200)\n",
    "# tvalue_list.sort()\n",
    "# print(sorted(t_p_value_dict))\n",
    "\n",
    "pvalue_bet_list = []\n",
    "for key in sorted(t_p_value_dict_bet):\n",
    "    pvalue_bet_list.append(t_p_value_dict_bet[key])\n",
    "plt.scatter(x = pvalue_bet_list, y = sorted(t_p_value_dict_bet))\n",
    "\n",
    "plt.xlabel('p-value')\n",
    "plt.ylabel('t-value')\n",
    "plt.title('Scatter plot betweenness')"
   ]
  },
  {
   "cell_type": "code",
   "execution_count": null,
   "metadata": {},
   "outputs": [],
   "source": [
    "#Montando listas de p-values\n",
    "\n",
    "pvalue_clos_list = []\n",
    "for key in sorted(t_p_value_dict_clos):\n",
    "    pvalue_clos_list.append(t_p_value_dict_clos[key])\n",
    "\n",
    "\n",
    "pvalue_bet_list = []\n",
    "for key in sorted(t_p_value_dict_bet):\n",
    "    pvalue_bet_list.append(t_p_value_dict_bet[key])\n",
    "\n",
    "\n",
    "#Retirando outliers\n",
    "\n",
    "#t-values do betweenness\n",
    "elements = np.array(sorted(t_p_value_dict_bet))\n",
    "\n",
    "mean = np.mean(elements, axis=0)\n",
    "sd = np.std(elements, axis=0)\n",
    "\n",
    "tvalue_bet_list = [x for x in sorted(t_p_value_dict_bet) if (x > mean - 2 * sd)]\n",
    "tvalue_bet_list = [x for x in tvalue_bet_list if (x < mean + 2 * sd)]\n",
    "\n",
    "#t-values do closeness\n",
    "elements = np.array(sorted(t_p_value_dict_clos))\n",
    "\n",
    "mean = np.mean(elements, axis=0)\n",
    "sd = np.std(elements, axis=0)\n",
    "\n",
    "tvalue_clos_list = [x for x in sorted(t_p_value_dict_clos) if (x > mean - 2 * sd)]\n",
    "tvalue_clos_list = [x for x in tvalue_clos_list if (x < mean + 2 * sd)]\n",
    "\n",
    "#p-values do betweenness\n",
    "elements = np.array(pvalue_bet_list)\n",
    "\n",
    "mean = np.mean(elements, axis=0)\n",
    "sd = np.std(elements, axis=0)\n",
    "\n",
    "pvalue_bet_list2 = [x for x in pvalue_bet_list if (x > mean - 2 * sd)]\n",
    "pvalue_bet_list2 = [x for x in pvalue_bet_list2 if (x < mean + 2 * sd)]\n",
    "\n",
    "#p-values do closeness\n",
    "elements = np.array(pvalue_clos_list)\n",
    "\n",
    "mean = np.mean(elements, axis=0)\n",
    "sd = np.std(elements, axis=0)\n",
    "\n",
    "pvalue_clos_list = [x for x in pvalue_clos_list if (x > mean - 2 * sd)]\n",
    "pvalue_clos_list = [x for x in pvalue_clos_list if (x < mean + 2 * sd)]"
   ]
  },
  {
   "cell_type": "code",
   "execution_count": null,
   "metadata": {
    "scrolled": true
   },
   "outputs": [],
   "source": [
    "plt.ylim(-500,160)\n",
    "\n",
    "plt.plot(sorted(t_p_value_dict_clos))\n",
    "\n",
    "# plt.xlabel('p-value')\n",
    "plt.ylabel('t-value')\n",
    "plt.title('t-valores do closeness')\n",
    "\n",
    "count = 0\n",
    "for i in sorted(t_p_value_dict_clos):\n",
    "    if i < 0:\n",
    "        count += 1\n",
    "\n",
    "print('t-valores negativos:', count)\n",
    "print('t-valores positivos: ', len(sorted(t_p_value_dict_clos)) - count)"
   ]
  },
  {
   "cell_type": "code",
   "execution_count": null,
   "metadata": {},
   "outputs": [],
   "source": [
    "plt.ylim(-500,160)\n",
    "\n",
    "plt.plot(sorted(tvalue_bet_list))\n",
    "\n",
    "# plt.xlabel('p-value')\n",
    "plt.ylabel('t-value')\n",
    "plt.title('t-valores do betweenness')\n",
    "\n",
    "count = 0\n",
    "for i in sorted(t_p_value_dict_bet):\n",
    "    if i < 0:\n",
    "        count += 1\n",
    "\n",
    "print('t-valores negativos:', count)\n",
    "print('t-valores positivos: ', len(sorted(t_p_value_dict_bet)) - count)"
   ]
  },
  {
   "cell_type": "markdown",
   "metadata": {},
   "source": [
    "Analisando os dois primeiro gráficos, percebemos que os p-valores são extremamente baixos (na escala de e-100), significando que as nossas respostas são bastante confiáveis, ou seja, valores diferentes da média observada ocorrem em baixíssima frequência. E quais seriam estas respostas? Para isso foram usados os t-valores obtidos nos testes t-student realizados. Os t-valores representam o quanto os dois grupos são diferentes ou parecidos, tendo valores altos se os grupos forem diferentes, e valores baixos caso sejam similares.\n",
    "\n",
    "Analisando os dois gráficos seguintes reparamos que: os t-valores dos dados de closenes amostrados são todos negativos, significando que para as amostras, nos dizendo que famílias que possuiam um alto valor de closeness utilizando geodésica com transferência permaneceram com altos valores de closeness quando alterados o tipo de trajeto e difusão.\n",
    "\n",
    "Agora analizando o gráfico/dados de betweenness percebemos uma mudança drástica na contagem de valores positivos e negativos, sendo a maioria (70) positivos, e a minoria (21) negativos, significando que famílias que possuíam valores de betweenness alto utilizando-se geodésica e difusão são altos como métodos de anáilse, não mantiveram seus valores altos quando alterados estes métodos.\n",
    "\n",
    "https://www.statisticshowto.datasciencecentral.com/probability-and-statistics/t-test/"
   ]
  },
  {
   "cell_type": "code",
   "execution_count": null,
   "metadata": {},
   "outputs": [],
   "source": [
    "plt.hist(pvalue_clos_list)"
   ]
  },
  {
   "cell_type": "code",
   "execution_count": null,
   "metadata": {},
   "outputs": [],
   "source": [
    "plt.hist(pvalue_bet_list2)\n",
    "pvalue_bet_list2.describe()"
   ]
  },
  {
   "cell_type": "code",
   "execution_count": null,
   "metadata": {},
   "outputs": [],
   "source": [
    "plt.hist(sorted(tvalue_clos_list))"
   ]
  },
  {
   "cell_type": "code",
   "execution_count": null,
   "metadata": {},
   "outputs": [],
   "source": [
    "plt.hist(sorted(tvalue_bet_list))"
   ]
  },
  {
   "cell_type": "code",
   "execution_count": null,
   "metadata": {},
   "outputs": [],
   "source": [
    "# pd.DataFrame({\n",
    "#     'tvalue_clos': [i for i in  sorted(t_p_value_dict_clos)],\n",
    "#     'tvalue_bet': [i for i in  sorted(t_p_value_dict_bet)],\n",
    "#     'pvalue_clos': [i for i in pvalue_clos_list],\n",
    "#     'pvalue_bet': [i for i in pvalue_bet_list],\n",
    "# })"
   ]
  },
  {
   "cell_type": "code",
   "execution_count": null,
   "metadata": {},
   "outputs": [],
   "source": [
    "stats.describe(pvalue_bet_list)"
   ]
  },
  {
   "cell_type": "code",
   "execution_count": null,
   "metadata": {},
   "outputs": [],
   "source": [
    "stats.describe(pvalue_clos_list)"
   ]
  },
  {
   "cell_type": "code",
   "execution_count": null,
   "metadata": {},
   "outputs": [],
   "source": []
  }
 ],
 "metadata": {
  "kernelspec": {
   "display_name": "Python 3",
   "language": "python",
   "name": "python3"
  },
  "language_info": {
   "codemirror_mode": {
    "name": "ipython",
    "version": 3
   },
   "file_extension": ".py",
   "mimetype": "text/x-python",
   "name": "python",
   "nbconvert_exporter": "python",
   "pygments_lexer": "ipython3",
   "version": "3.6.5"
  }
 },
 "nbformat": 4,
 "nbformat_minor": 1
}
