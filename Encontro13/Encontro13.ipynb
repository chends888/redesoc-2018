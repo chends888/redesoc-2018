{
 "cells": [
  {
   "cell_type": "markdown",
   "metadata": {},
   "source": [
    "# Encontro 13: Medidas de Centralidade\n",
    "\n",
    "Importando a biblioteca:"
   ]
  },
  {
   "cell_type": "code",
   "execution_count": 40,
   "metadata": {},
   "outputs": [],
   "source": [
    "import sys\n",
    "sys.path.append('..')\n",
    "\n",
    "from random import choice\n",
    "from itertools import permutations\n",
    "\n",
    "import pandas as pd\n",
    "import networkx as nx\n",
    "\n",
    "import socnet as sn\n",
    "\n",
    "from scipy import stats\n",
    "\n",
    "import matplotlib.pyplot as plt\n",
    "\n",
    "import math\n",
    "\n",
    "import numpy as np"
   ]
  },
  {
   "cell_type": "markdown",
   "metadata": {},
   "source": [
    "Configurando a biblioteca:"
   ]
  },
  {
   "cell_type": "code",
   "execution_count": 2,
   "metadata": {},
   "outputs": [],
   "source": [
    "sn.node_size = 10\n",
    "sn.node_color = (255, 255, 255)\n",
    "\n",
    "sn.edge_width = 1\n",
    "sn.edge_color = (192, 192, 192)\n",
    "\n",
    "sn.node_label_position = 'top center'"
   ]
  },
  {
   "cell_type": "markdown",
   "metadata": {},
   "source": [
    "Carregando rede de casamentos entre famílias de Florença durante a Renascença.\n",
    "\n",
    "J. F. Padgett e C. K. Ansell. *Robust action and the rise of the Medici, 1400–1434.* American Journal of\n",
    "Sociology 98, págs. 1259-1319, 1993."
   ]
  },
  {
   "cell_type": "code",
   "execution_count": 3,
   "metadata": {},
   "outputs": [
    {
     "data": {
      "application/vnd.plotly.v1+json": {
       "data": [
        {
         "hoverinfo": "none",
         "line": {
          "color": "rgb(192, 192, 192)",
          "width": 1
         },
         "mode": "lines",
         "type": "scatter",
         "uid": "b2149500-c904-11e8-8288-0005165e06fb",
         "x": [
          0.5138211382113821,
          0.5609756097560976,
          null,
          0.9658536585365853,
          0.8097560975609757,
          null,
          0.5609756097560976,
          0.8097560975609757,
          null,
          0.5609756097560976,
          0.44552845528455287,
          null,
          0.8097560975609757,
          0.6130081300813008,
          null,
          0.8097560975609757,
          1,
          null,
          0,
          0.23414634146341465,
          null,
          0.23414634146341465,
          0.44552845528455287,
          null,
          0.44552845528455287,
          0.6130081300813008,
          null,
          0.44552845528455287,
          0.624390243902439,
          null,
          0.44552845528455287,
          0.26991869918699185,
          null,
          0.44552845528455287,
          0.5138211382113821,
          null,
          0.6130081300813008,
          0.624390243902439,
          null,
          1,
          0.9951219512195122,
          null,
          1,
          0.8357723577235773,
          null,
          0.624390243902439,
          0.8357723577235773,
          null,
          0.8357723577235773,
          0.7626016260162601,
          null,
          0.9951219512195122,
          0.7626016260162601,
          null,
          0.5138211382113821,
          0.7626016260162601,
          null
         ],
         "y": [
          1,
          0.736734693877551,
          null,
          0.8673469387755102,
          0.6714285714285715,
          null,
          0.736734693877551,
          0.6714285714285715,
          null,
          0.736734693877551,
          0.4285714285714286,
          null,
          0.6714285714285715,
          0.5326530612244897,
          null,
          0.6714285714285715,
          0.44897959183673475,
          null,
          0.5061224489795919,
          0.48367346938775513,
          null,
          0.48367346938775513,
          0.4285714285714286,
          null,
          0.4285714285714286,
          0.5326530612244897,
          null,
          0.4285714285714286,
          0.33673469387755106,
          null,
          0.4285714285714286,
          0.2204081632653061,
          null,
          0.4285714285714286,
          0.09999999999999998,
          null,
          0.5326530612244897,
          0.33673469387755106,
          null,
          0.44897959183673475,
          0.17755102040816328,
          null,
          0.44897959183673475,
          0.2020408163265306,
          null,
          0.33673469387755106,
          0.2020408163265306,
          null,
          0.2020408163265306,
          0,
          null,
          0.17755102040816328,
          0,
          null,
          0.09999999999999998,
          0,
          null
         ]
        },
        {
         "hoverinfo": "none",
         "marker": {
          "color": "rgb(255, 255, 255)",
          "line": {
           "color": "rgb(0, 0, 0)",
           "width": 1
          },
          "size": 10
         },
         "mode": "markers+text",
         "text": [
          "ginori",
          "lambertes",
          "albizzi",
          "guadagni",
          "pazzi",
          "salviati",
          "medici",
          "tornabuon",
          "bischeri",
          "ridolfi",
          "acciaiuol",
          "strozzi",
          "peruzzi",
          "barbadori",
          "castellan"
         ],
         "textfont": {
          "color": "rgb(0, 0, 0)"
         },
         "textposition": "top center",
         "type": "scatter",
         "uid": "b2149501-c904-11e8-8288-0005165e06fb",
         "x": [
          0.5138211382113821,
          0.9658536585365853,
          0.5609756097560976,
          0.8097560975609757,
          0,
          0.23414634146341465,
          0.44552845528455287,
          0.6130081300813008,
          1,
          0.624390243902439,
          0.26991869918699185,
          0.8357723577235773,
          0.9951219512195122,
          0.5138211382113821,
          0.7626016260162601
         ],
         "y": [
          1,
          0.8673469387755102,
          0.736734693877551,
          0.6714285714285715,
          0.5061224489795919,
          0.48367346938775513,
          0.4285714285714286,
          0.5326530612244897,
          0.44897959183673475,
          0.33673469387755106,
          0.2204081632653061,
          0.2020408163265306,
          0.17755102040816328,
          0.09999999999999998,
          0
         ]
        }
       ],
       "layout": {
        "height": 450,
        "margin": {
         "b": 0,
         "l": 0,
         "r": 0,
         "t": 0
        },
        "showlegend": false,
        "width": 800,
        "xaxis": {
         "showgrid": false,
         "showticklabels": false,
         "zeroline": false
        },
        "yaxis": {
         "showgrid": false,
         "showticklabels": false,
         "zeroline": false
        }
       }
      },
      "text/html": [
       "<div id=\"83225f1c-0d2a-4ca8-b741-2bfbceb81860\" style=\"height: 450px; width: 800px;\" class=\"plotly-graph-div\"></div><script type=\"text/javascript\">require([\"plotly\"], function(Plotly) { window.PLOTLYENV=window.PLOTLYENV || {};window.PLOTLYENV.BASE_URL=\"https://plot.ly\";Plotly.newPlot(\"83225f1c-0d2a-4ca8-b741-2bfbceb81860\", [{\"hoverinfo\": \"none\", \"line\": {\"color\": \"rgb(192, 192, 192)\", \"width\": 1}, \"mode\": \"lines\", \"x\": [0.5138211382113821, 0.5609756097560976, null, 0.9658536585365853, 0.8097560975609757, null, 0.5609756097560976, 0.8097560975609757, null, 0.5609756097560976, 0.44552845528455287, null, 0.8097560975609757, 0.6130081300813008, null, 0.8097560975609757, 1.0, null, 0.0, 0.23414634146341465, null, 0.23414634146341465, 0.44552845528455287, null, 0.44552845528455287, 0.6130081300813008, null, 0.44552845528455287, 0.624390243902439, null, 0.44552845528455287, 0.26991869918699185, null, 0.44552845528455287, 0.5138211382113821, null, 0.6130081300813008, 0.624390243902439, null, 1.0, 0.9951219512195122, null, 1.0, 0.8357723577235773, null, 0.624390243902439, 0.8357723577235773, null, 0.8357723577235773, 0.7626016260162601, null, 0.9951219512195122, 0.7626016260162601, null, 0.5138211382113821, 0.7626016260162601, null], \"y\": [1.0, 0.736734693877551, null, 0.8673469387755102, 0.6714285714285715, null, 0.736734693877551, 0.6714285714285715, null, 0.736734693877551, 0.4285714285714286, null, 0.6714285714285715, 0.5326530612244897, null, 0.6714285714285715, 0.44897959183673475, null, 0.5061224489795919, 0.48367346938775513, null, 0.48367346938775513, 0.4285714285714286, null, 0.4285714285714286, 0.5326530612244897, null, 0.4285714285714286, 0.33673469387755106, null, 0.4285714285714286, 0.2204081632653061, null, 0.4285714285714286, 0.09999999999999998, null, 0.5326530612244897, 0.33673469387755106, null, 0.44897959183673475, 0.17755102040816328, null, 0.44897959183673475, 0.2020408163265306, null, 0.33673469387755106, 0.2020408163265306, null, 0.2020408163265306, 0.0, null, 0.17755102040816328, 0.0, null, 0.09999999999999998, 0.0, null], \"type\": \"scatter\", \"uid\": \"b2149502-c904-11e8-8288-0005165e06fb\"}, {\"hoverinfo\": \"none\", \"marker\": {\"color\": \"rgb(255, 255, 255)\", \"line\": {\"color\": \"rgb(0, 0, 0)\", \"width\": 1}, \"size\": 10}, \"mode\": \"markers+text\", \"text\": [\"ginori\", \"lambertes\", \"albizzi\", \"guadagni\", \"pazzi\", \"salviati\", \"medici\", \"tornabuon\", \"bischeri\", \"ridolfi\", \"acciaiuol\", \"strozzi\", \"peruzzi\", \"barbadori\", \"castellan\"], \"textfont\": {\"color\": \"rgb(0, 0, 0)\"}, \"textposition\": \"top center\", \"x\": [0.5138211382113821, 0.9658536585365853, 0.5609756097560976, 0.8097560975609757, 0.0, 0.23414634146341465, 0.44552845528455287, 0.6130081300813008, 1.0, 0.624390243902439, 0.26991869918699185, 0.8357723577235773, 0.9951219512195122, 0.5138211382113821, 0.7626016260162601], \"y\": [1.0, 0.8673469387755102, 0.736734693877551, 0.6714285714285715, 0.5061224489795919, 0.48367346938775513, 0.4285714285714286, 0.5326530612244897, 0.44897959183673475, 0.33673469387755106, 0.2204081632653061, 0.2020408163265306, 0.17755102040816328, 0.09999999999999998, 0.0], \"type\": \"scatter\", \"uid\": \"b2149503-c904-11e8-8288-0005165e06fb\"}], {\"height\": 450, \"margin\": {\"b\": 0, \"l\": 0, \"r\": 0, \"t\": 0}, \"showlegend\": false, \"width\": 800, \"xaxis\": {\"showgrid\": false, \"showticklabels\": false, \"zeroline\": false}, \"yaxis\": {\"showgrid\": false, \"showticklabels\": false, \"zeroline\": false}}, {\"showLink\": false, \"linkText\": \"Export to plot.ly\", \"displayModeBar\": false})});</script>"
      ],
      "text/vnd.plotly.v1+html": [
       "<div id=\"83225f1c-0d2a-4ca8-b741-2bfbceb81860\" style=\"height: 450px; width: 800px;\" class=\"plotly-graph-div\"></div><script type=\"text/javascript\">require([\"plotly\"], function(Plotly) { window.PLOTLYENV=window.PLOTLYENV || {};window.PLOTLYENV.BASE_URL=\"https://plot.ly\";Plotly.newPlot(\"83225f1c-0d2a-4ca8-b741-2bfbceb81860\", [{\"hoverinfo\": \"none\", \"line\": {\"color\": \"rgb(192, 192, 192)\", \"width\": 1}, \"mode\": \"lines\", \"x\": [0.5138211382113821, 0.5609756097560976, null, 0.9658536585365853, 0.8097560975609757, null, 0.5609756097560976, 0.8097560975609757, null, 0.5609756097560976, 0.44552845528455287, null, 0.8097560975609757, 0.6130081300813008, null, 0.8097560975609757, 1.0, null, 0.0, 0.23414634146341465, null, 0.23414634146341465, 0.44552845528455287, null, 0.44552845528455287, 0.6130081300813008, null, 0.44552845528455287, 0.624390243902439, null, 0.44552845528455287, 0.26991869918699185, null, 0.44552845528455287, 0.5138211382113821, null, 0.6130081300813008, 0.624390243902439, null, 1.0, 0.9951219512195122, null, 1.0, 0.8357723577235773, null, 0.624390243902439, 0.8357723577235773, null, 0.8357723577235773, 0.7626016260162601, null, 0.9951219512195122, 0.7626016260162601, null, 0.5138211382113821, 0.7626016260162601, null], \"y\": [1.0, 0.736734693877551, null, 0.8673469387755102, 0.6714285714285715, null, 0.736734693877551, 0.6714285714285715, null, 0.736734693877551, 0.4285714285714286, null, 0.6714285714285715, 0.5326530612244897, null, 0.6714285714285715, 0.44897959183673475, null, 0.5061224489795919, 0.48367346938775513, null, 0.48367346938775513, 0.4285714285714286, null, 0.4285714285714286, 0.5326530612244897, null, 0.4285714285714286, 0.33673469387755106, null, 0.4285714285714286, 0.2204081632653061, null, 0.4285714285714286, 0.09999999999999998, null, 0.5326530612244897, 0.33673469387755106, null, 0.44897959183673475, 0.17755102040816328, null, 0.44897959183673475, 0.2020408163265306, null, 0.33673469387755106, 0.2020408163265306, null, 0.2020408163265306, 0.0, null, 0.17755102040816328, 0.0, null, 0.09999999999999998, 0.0, null], \"type\": \"scatter\", \"uid\": \"b2149502-c904-11e8-8288-0005165e06fb\"}, {\"hoverinfo\": \"none\", \"marker\": {\"color\": \"rgb(255, 255, 255)\", \"line\": {\"color\": \"rgb(0, 0, 0)\", \"width\": 1}, \"size\": 10}, \"mode\": \"markers+text\", \"text\": [\"ginori\", \"lambertes\", \"albizzi\", \"guadagni\", \"pazzi\", \"salviati\", \"medici\", \"tornabuon\", \"bischeri\", \"ridolfi\", \"acciaiuol\", \"strozzi\", \"peruzzi\", \"barbadori\", \"castellan\"], \"textfont\": {\"color\": \"rgb(0, 0, 0)\"}, \"textposition\": \"top center\", \"x\": [0.5138211382113821, 0.9658536585365853, 0.5609756097560976, 0.8097560975609757, 0.0, 0.23414634146341465, 0.44552845528455287, 0.6130081300813008, 1.0, 0.624390243902439, 0.26991869918699185, 0.8357723577235773, 0.9951219512195122, 0.5138211382113821, 0.7626016260162601], \"y\": [1.0, 0.8673469387755102, 0.736734693877551, 0.6714285714285715, 0.5061224489795919, 0.48367346938775513, 0.4285714285714286, 0.5326530612244897, 0.44897959183673475, 0.33673469387755106, 0.2204081632653061, 0.2020408163265306, 0.17755102040816328, 0.09999999999999998, 0.0], \"type\": \"scatter\", \"uid\": \"b2149503-c904-11e8-8288-0005165e06fb\"}], {\"height\": 450, \"margin\": {\"b\": 0, \"l\": 0, \"r\": 0, \"t\": 0}, \"showlegend\": false, \"width\": 800, \"xaxis\": {\"showgrid\": false, \"showticklabels\": false, \"zeroline\": false}, \"yaxis\": {\"showgrid\": false, \"showticklabels\": false, \"zeroline\": false}}, {\"showLink\": false, \"linkText\": \"Export to plot.ly\", \"displayModeBar\": false})});</script>"
      ]
     },
     "metadata": {},
     "output_type": "display_data"
    }
   ],
   "source": [
    "g = sn.load_graph('Renaissance.gml', has_pos=True)\n",
    "\n",
    "sn.show_graph(g, nlab=True)"
   ]
  },
  {
   "cell_type": "markdown",
   "metadata": {},
   "source": [
    "Função que registra, em cada nó, seus sucessores em geodésicas de $s$ a $t$."
   ]
  },
  {
   "cell_type": "code",
   "execution_count": 4,
   "metadata": {},
   "outputs": [],
   "source": [
    "def set_geodesic_successors(g, s, t):\n",
    "    for n in g.nodes:\n",
    "        g.nodes[n]['geodesic_successors'] = set()\n",
    "\n",
    "    for p in nx.all_shortest_paths(g, s, t):\n",
    "        for i in range(len(p) - 1):\n",
    "            g.nodes[p[i]]['geodesic_successors'].add(p[i + 1])"
   ]
  },
  {
   "cell_type": "markdown",
   "metadata": {},
   "source": [
    "Funções que representam uma escolha aleatória de sucessor para diferentes tipos de trajetórias."
   ]
  },
  {
   "cell_type": "code",
   "execution_count": 5,
   "metadata": {},
   "outputs": [],
   "source": [
    "# Pense que o atributo 'passages' abaixo indica quantas\n",
    "# vezes um fluxo já passou por um nó ou por uma aresta.\n",
    "\n",
    "def random_geodesic_successor(g, n):\n",
    "    return choice([m for m in g.nodes[n]['geodesic_successors']])\n",
    "\n",
    "def random_path_successor(g, n):\n",
    "    return choice([m for m in g.neighbors(n) if g.nodes[m]['passages'] == 0])\n",
    "\n",
    "def random_trail_successor(g, n):\n",
    "    return choice([m for m in g.neighbors(n) if g.edges[n, m]['passages'] == 0])\n",
    "\n",
    "def random_walk_successor(g, n):\n",
    "    return choice([m for m in g.neighbors(n)])"
   ]
  },
  {
   "cell_type": "markdown",
   "metadata": {},
   "source": [
    "Função que faz uma simulação de fluxo de $s$ a $t$, que pode ou não ser bem-sucedida."
   ]
  },
  {
   "cell_type": "code",
   "execution_count": 6,
   "metadata": {},
   "outputs": [],
   "source": [
    "def simulate_single_flow(g, s, t, func, dup):\n",
    "    # Inicializa o atributo 'passages' de cada nó.\n",
    "    for n in g.nodes:\n",
    "        g.nodes[n]['passages'] = 0\n",
    "    g.nodes[s]['passages'] = 1\n",
    "\n",
    "    # Inicializa o atributo 'passages' de cada aresta.\n",
    "    for n, m in g.edges:\n",
    "        g.edges[n, m]['passages'] = 0\n",
    "\n",
    "    # Inicializa s como o único dono do insumo.\n",
    "    for n in g.nodes:\n",
    "        g.nodes[n]['owner'] = False\n",
    "    g.nodes[s]['owner'] = True\n",
    "\n",
    "    # Simula o fluxo, contando o número total de passos.\n",
    "    steps = 0\n",
    "\n",
    "    while True:\n",
    "        # O conjunto reached representa todos os nós\n",
    "        # que o fluxo consegue alcançar no passo atual.\n",
    "        reached = set()\n",
    "\n",
    "        # Verifica cada um dos donos atuais do insumo.\n",
    "        owners = [n for n in g.nodes if g.nodes[n]['owner']]\n",
    "\n",
    "        for n in owners:\n",
    "            # Escolhe aleatoriamente um dos sucessores.\n",
    "            try:\n",
    "                if ( func == 'geo'):\n",
    "                    m = random_geodesic_successor(g, n)\n",
    "                elif (func == 'path'):\n",
    "                    m = random_path_successor(g, n)\n",
    "                elif (func == 'trail'):\n",
    "                    m = random_trail_successor(g, n)\n",
    "                else:\n",
    "                     m = random_walk_successor(g, n)\n",
    "            except IndexError:\n",
    "                continue\n",
    "\n",
    "            # Deixa de ser dono do insumo.\n",
    "            if dup == 'dup':\n",
    "                g.nodes[n]['owner'] = True\n",
    "            else:\n",
    "                g.nodes[n]['owner'] = False\n",
    "\n",
    "            # Incrementa o atributo 'passages' do nó.\n",
    "            g.nodes[m]['passages'] += 1\n",
    "\n",
    "            # Incrementa o atributo 'passages' da aresta.\n",
    "            g.edges[n, m]['passages'] += 1\n",
    "\n",
    "            # Registra que consegue alcançar esse nó.\n",
    "            reached.add(m)\n",
    "\n",
    "        # Todo nó alcançado passa a ser dono do insumo.\n",
    "        for n in reached:\n",
    "            g.nodes[n]['owner'] = True\n",
    "\n",
    "        # Isso conclui o passo atual da simulação.\n",
    "        steps += 1\n",
    "\n",
    "        # Se o passo alcançou t, chegamos ao fim da simulação.\n",
    "        # Ela foi bem-sucedida: devolvemos o número de passos.\n",
    "        if t in reached:\n",
    "            return steps\n",
    "\n",
    "        # Se o passo não alcançou ninguém, chegamos ao fim da\n",
    "        # simulação. Ela não foi bem-sucedida: devolvemos -1.\n",
    "        if not reached:\n",
    "            return -1"
   ]
  },
  {
   "cell_type": "markdown",
   "metadata": {},
   "source": [
    "Função que faz simulações de fluxo de $s$ a $t$ até uma ser bem-sucedida."
   ]
  },
  {
   "cell_type": "code",
   "execution_count": 7,
   "metadata": {},
   "outputs": [],
   "source": [
    "def simulate_successful_flow(g, s, t, func, dup):\n",
    "    set_geodesic_successors(g, s, t)\n",
    "\n",
    "    while True:\n",
    "        steps = simulate_single_flow(g, s, t, func, dup)\n",
    "\n",
    "        if steps != -1:\n",
    "            return steps"
   ]
  },
  {
   "cell_type": "markdown",
   "metadata": {},
   "source": [
    "Função que faz simulações de fluxo para todo $s$ e $t$ possíveis, e tira disso um *closeness simulado* e um *betweenness simulado*."
   ]
  },
  {
   "cell_type": "code",
   "execution_count": 8,
   "metadata": {},
   "outputs": [],
   "source": [
    "def simulate_all_flows(g, func, dup):\n",
    "    for n in g.nodes:\n",
    "        g.nodes[n]['closeness'] = 0\n",
    "        g.nodes[n]['betweenness'] = 0\n",
    "\n",
    "    for s, t in permutations(g.nodes, 2):\n",
    "        steps = simulate_successful_flow(g, s, t, func, dup)\n",
    "\n",
    "        g.nodes[s]['closeness'] += steps\n",
    "        for n in g.nodes:\n",
    "            if n != s and n != t:\n",
    "                g.nodes[n]['betweenness'] += g.nodes[n]['passages']\n",
    "\n",
    "    # Normalizações necessárias para comparar com os\n",
    "    # resultados analíticos. Não é preciso entender.\n",
    "    for n in g.nodes:\n",
    "        g.nodes[n]['closeness'] = (g.number_of_nodes() - 1) / g.nodes[n]['closeness']\n",
    "        g.nodes[n]['betweenness'] /= (g.number_of_nodes() - 1) * (g.number_of_nodes() - 2)"
   ]
  },
  {
   "cell_type": "markdown",
   "metadata": {},
   "source": [
    "Média de *closeness simulado* e *betweenness simulado* para muitas repetições da simulação acima."
   ]
  },
  {
   "cell_type": "code",
   "execution_count": 9,
   "metadata": {},
   "outputs": [],
   "source": [
    "def main(tipo, dup):\n",
    "    TIMES = 100\n",
    "    \n",
    "    #Dicionário com valores de centralidade (closeness e betweenness) para todas as famíilas (porém de apenas um trajetória e com ou sem duplicação)\n",
    "    list_dict = {}\n",
    "\n",
    "    for n in g.nodes:\n",
    "#         g.nodes[n]['clos_list'] = []\n",
    "#         g.nodes[n]['bet_list'] =[]\n",
    "        \n",
    "        clos_list = []\n",
    "        bet_list = []\n",
    "#         list_dict[g.nodes[n]['label']+'_clos_'+tipo+'_'+dup+'_list'] = g.nodes[n]['clos_list']\n",
    "#         list_dict[g.nodes[n]['label']+'_bet_'+tipo+'_'+dup+'_list'] = g.nodes[n]['bet_list']\n",
    "        list_dict[g.nodes[n]['label']+'_clos_'+tipo+'_'+dup+'_list'] = clos_list\n",
    "        list_dict[g.nodes[n]['label']+'_bet_'+tipo+'_'+dup+'_list'] = bet_list\n",
    "#         print (g.nodes[n]['label']+'_bet_'+tipo+'_'+dup+'_list')\n",
    "\n",
    "    for _ in range(TIMES):\n",
    "        simulate_all_flows(g, tipo, dup)\n",
    "\n",
    "        for n in g.nodes:\n",
    "            list_dict[g.nodes[n]['label']+'_clos_'+tipo+'_'+dup+'_list'].append(g.nodes[n]['closeness'])\n",
    "            list_dict[g.nodes[n]['label']+'_bet_'+tipo+'_'+dup+'_list'].append(g.nodes[n]['betweenness'])\n",
    "#             clos_list.append(g.nodes[n]['closeness'])\n",
    "#             bet_list.append(g.nodes[n]['betweenness'])\n",
    "\n",
    "#             print(list_dict['medici_clos_geo_dup_list'])\n",
    "\n",
    "    return (list_dict)"
   ]
  },
  {
   "cell_type": "code",
   "execution_count": 10,
   "metadata": {},
   "outputs": [],
   "source": [
    "m = main('geo','notdup')"
   ]
  },
  {
   "cell_type": "markdown",
   "metadata": {},
   "source": [
    "Cálculo de *closeness* e *betweenness* a partir das funções prontas da NetworkX, para comparação."
   ]
  },
  {
   "cell_type": "code",
   "execution_count": 11,
   "metadata": {},
   "outputs": [],
   "source": [
    "# cc = nx.closeness_centrality(g)\n",
    "\n",
    "# bc = nx.betweenness_centrality(g)"
   ]
  },
  {
   "cell_type": "markdown",
   "metadata": {},
   "source": [
    "Construção de data frame só para comparar mais facilmente."
   ]
  },
  {
   "cell_type": "code",
   "execution_count": 12,
   "metadata": {},
   "outputs": [],
   "source": [
    "# pd.DataFrame({\n",
    "#     'família': [g.nodes[n]['label'] for n in g.nodes],\n",
    "#     'closeness simulado': [g.nodes[n]['mean_closeness'] for n in g.nodes],\n",
    "#     'closeness analítico': [cc[n] for n in g.nodes],\n",
    "#     'betweenness simulado': [g.nodes[n]['mean_betweenness'] for n in g.nodes],\n",
    "#     'betweenness analítico': [bc[n] for n in g.nodes],\n",
    "# })"
   ]
  },
  {
   "cell_type": "markdown",
   "metadata": {},
   "source": [
    "E agora, vamos pensar um pouco...\n",
    "\n",
    "* Onde você precisa mudar o código para usar uma *trajetória* que não seja a *geodésica*? (caminho, trilha, passeio)\n",
    "\n",
    "* Onde você precisa mudar o código para usar uma *difusão* que não seja a *transferência*? (duplicação)\n",
    "\n",
    "Considere então a seguinte **hipótese**:\n",
    "\n",
    ">Quando consideramos outros tipos de trajetória e outros tipos de difusão, os nós com maior *closeness simulado* e *betweenness simulado* não são necessariamente os nós com maior *closeness* e *betweenness* segundo as fórmulas clássicas. (que correspondem ao uso de geodésica e transferência na simulação)\n",
    "\n",
    "Queremos:\n",
    "\n",
    "1. Operacionalização e teste dessas hipótese. (Objetivo 3)\n",
    "2. Interpretação dos resultados na linguagem de Análise de Redes Sociais (Objetivo 4)\n",
    "\n",
    "Um *feedback* da atividade sobre *coreness no Jazz* será dado em breve, para vocês terem uma melhor referência do item 2."
   ]
  },
  {
   "cell_type": "markdown",
   "metadata": {},
   "source": [
    "Montando dicionários com os valores de centralidade (closeness e betweenness) para cada amostra (todas as famílias sendo testadas com todos os tipos de trajetória ora tendo transferência, ora não)"
   ]
  },
  {
   "cell_type": "code",
   "execution_count": 21,
   "metadata": {
    "scrolled": true
   },
   "outputs": [],
   "source": [
    "all_dict = {}\n",
    "\n",
    "all_dict['dup_geo_bet_clos_dict'] = main('geo','dup')\n",
    "all_dict['dup_path_bet_clos_dict'] = main('path','dup')\n",
    "all_dict['dup_trail_bet_clos_dict'] = main('trail','dup')\n",
    "all_dict['dup_walk_bet_clos_dict'] = main('walk','dup')\n",
    "all_dict['notdup_geo_bet_clos_dict'] = main('geo','notdup')\n",
    "all_dict['notdup_path_bet_clos_dict']= main('path','notdup')\n",
    "all_dict['notdup_trail_bet_clos_dict'] = main('trail','notdup')\n",
    "all_dict['notdup_walk_bet_clos_dict'] = main('walk','notdup')\n"
   ]
  },
  {
   "cell_type": "markdown",
   "metadata": {},
   "source": [
    "Analisando as listas dos valores de centralidade nos diferentes casos com os valores padrão (valores de centralidade utilizando geodésica com transferência)"
   ]
  },
  {
   "cell_type": "code",
   "execution_count": 22,
   "metadata": {
    "scrolled": true
   },
   "outputs": [
    {
     "name": "stdout",
     "output_type": "stream",
     "text": [
      "P-value de: ginori notdup geo clos COM: ginori dup geo clos          1.0 t-value:  0.0\n",
      "P-value de: ginori dup path clos COM: ginori dup geo clos          1.6961599159355923e-156 t-value:  -83.70149144485535\n",
      "P-value de: ginori notdup path clos COM: ginori dup geo clos          1.7503322908414793e-116 t-value:  -51.41118523825425\n",
      "P-value de: ginori dup trail clos COM: ginori dup geo clos          9.848019197600427e-163 t-value:  -90.16780715157017\n",
      "P-value de: ginori notdup trail clos COM: ginori dup geo clos          3.516148740305978e-101 t-value:  -42.33907471648447\n",
      "P-value de: ginori dup walk clos COM: ginori dup geo clos          3.625570385455023e-189 t-value:  -123.2989572709713\n",
      "P-value de: ginori notdup walk clos COM: ginori dup geo clos          1.0489388511974875e-266 t-value:  -305.42624219474305\n",
      "P-value de: lambertes notdup geo clos COM: lambertes dup geo clos          1.0 t-value:  0.0\n",
      "P-value de: lambertes dup path clos COM: lambertes dup geo clos          2.614879504324772e-150 t-value:  -77.72014591485052\n",
      "P-value de: lambertes notdup path clos COM: lambertes dup geo clos          1.2940083371251203e-107 t-value:  -45.97557821677379\n",
      "P-value de: lambertes dup trail clos COM: lambertes dup geo clos          8.721430973178305e-157 t-value:  -83.99105992872883\n",
      "P-value de: lambertes notdup trail clos COM: lambertes dup geo clos          3.877768352122824e-99 t-value:  -41.234629016954806\n",
      "P-value de: lambertes dup walk clos COM: lambertes dup geo clos          2.3775923524487712e-166 t-value:  -94.13353395146422\n",
      "P-value de: lambertes notdup walk clos COM: lambertes dup geo clos          8.471449697541769e-241 t-value:  -225.77839297260894\n",
      "P-value de: albizzi notdup geo clos COM: albizzi dup geo clos          1.0 t-value:  0.0\n",
      "P-value de: albizzi dup path clos COM: albizzi dup geo clos          1.6763677088945878e-184 t-value:  -116.70141351301595\n",
      "P-value de: albizzi notdup path clos COM: albizzi dup geo clos          2.769595395860626e-134 t-value:  -64.02910284269457\n",
      "P-value de: albizzi dup trail clos COM: albizzi dup geo clos          2.1907575828148337e-189 t-value:  -123.61712670539339\n",
      "P-value de: albizzi notdup trail clos COM: albizzi dup geo clos          1.4712503920894833e-112 t-value:  -48.9423381892462\n",
      "P-value de: albizzi dup walk clos COM: albizzi dup geo clos          1.0245549911681814e-203 t-value:  -146.30012350091192\n",
      "P-value de: albizzi notdup walk clos COM: albizzi dup geo clos          1.0719649824746915e-285 t-value:  -381.05002602138626\n",
      "P-value de: guadagni notdup geo clos COM: guadagni dup geo clos          1.0 t-value:  0.0\n",
      "P-value de: guadagni dup path clos COM: guadagni dup geo clos          4.2382502265206786e-175 t-value:  -104.42824513381925\n",
      "P-value de: guadagni notdup path clos COM: guadagni dup geo clos          2.7618353641010545e-125 t-value:  -57.34382100934527\n",
      "P-value de: guadagni dup trail clos COM: guadagni dup geo clos          1.509526194145147e-184 t-value:  -116.76411262845004\n",
      "P-value de: guadagni notdup trail clos COM: guadagni dup geo clos          5.52469664981491e-111 t-value:  -47.980539760887964\n",
      "P-value de: guadagni dup walk clos COM: guadagni dup geo clos          8.778780695328785e-197 t-value:  -134.85903777406466\n",
      "P-value de: guadagni notdup walk clos COM: guadagni dup geo clos          5.3755088964622e-306 t-value:  -482.6328650460178\n",
      "P-value de: pazzi notdup geo clos COM: pazzi dup geo clos          1.0 t-value:  0.0\n",
      "P-value de: pazzi dup path clos COM: pazzi dup geo clos          2.713827776119961e-141 t-value:  -69.71708290842083\n",
      "P-value de: pazzi notdup path clos COM: pazzi dup geo clos          6.77598823323716e-113 t-value:  -49.15011161393879\n",
      "P-value de: pazzi dup trail clos COM: pazzi dup geo clos          7.375953987105965e-138 t-value:  -66.87466631701957\n",
      "P-value de: pazzi notdup trail clos COM: pazzi dup geo clos          5.801412552669251e-103 t-value:  -43.32220670317163\n",
      "P-value de: pazzi dup walk clos COM: pazzi dup geo clos          1.1325211852543381e-187 t-value:  -121.14653692568876\n",
      "P-value de: pazzi notdup walk clos COM: pazzi dup geo clos          2.418857616204112e-248 t-value:  -246.55860278836883\n",
      "P-value de: salviati notdup geo clos COM: salviati dup geo clos          1.0 t-value:  0.0\n",
      "P-value de: salviati dup path clos COM: salviati dup geo clos          4.26213006130199e-182 t-value:  -113.4351258098496\n",
      "P-value de: salviati notdup path clos COM: salviati dup geo clos          8.787081772218611e-109 t-value:  -46.662519373762194\n",
      "P-value de: salviati dup trail clos COM: salviati dup geo clos          1.0430580289483074e-174 t-value:  -103.94575745394457\n",
      "P-value de: salviati notdup trail clos COM: salviati dup geo clos          1.1780845689687377e-108 t-value:  -46.587224643960305\n",
      "P-value de: salviati dup walk clos COM: salviati dup geo clos          1.314193152149208e-204 t-value:  -147.8393843711102\n",
      "P-value de: salviati notdup walk clos COM: salviati dup geo clos          6.161989433483556e-257 t-value:  -272.5530819084746\n",
      "P-value de: medici notdup geo clos COM: medici dup geo clos          1.0 t-value:  0.0\n",
      "P-value de: medici dup path clos COM: medici dup geo clos          2.184878290514412e-187 t-value:  -120.73975068955743\n",
      "P-value de: medici notdup path clos COM: medici dup geo clos          7.476348310101806e-130 t-value:  -60.65431883199034\n",
      "P-value de: medici dup trail clos COM: medici dup geo clos          2.8333256068206185e-198 t-value:  -137.24332056548218\n",
      "P-value de: medici notdup trail clos COM: medici dup geo clos          4.7310172556141826e-122 t-value:  -55.09804957710993\n",
      "P-value de: medici dup walk clos COM: medici dup geo clos          7.444630853521495e-195 t-value:  -131.83559768683307\n",
      "P-value de: medici notdup walk clos COM: medici dup geo clos          9.64989795395407e-279 t-value:  -351.4045039369759\n",
      "P-value de: tornabuon notdup geo clos COM: tornabuon dup geo clos          1.0 t-value:  0.0\n",
      "P-value de: tornabuon dup path clos COM: tornabuon dup geo clos          4.44389635757663e-176 t-value:  -105.64595809468136\n",
      "P-value de: tornabuon notdup path clos COM: tornabuon dup geo clos          5.489285779010958e-129 t-value:  -60.013956777449025\n",
      "P-value de: tornabuon dup trail clos COM: tornabuon dup geo clos          2.5421388827851713e-185 t-value:  -117.83453901911366\n",
      "P-value de: tornabuon notdup trail clos COM: tornabuon dup geo clos          2.4857256158801357e-127 t-value:  -58.806072598747335\n",
      "P-value de: tornabuon dup walk clos COM: tornabuon dup geo clos          2.571864881616849e-184 t-value:  -116.44577223392723\n",
      "P-value de: tornabuon notdup walk clos COM: tornabuon dup geo clos          3.344536437157412e-268 t-value:  -310.7990497691039\n",
      "P-value de: bischeri notdup geo clos COM: bischeri dup geo clos          1.0 t-value:  0.0\n",
      "P-value de: bischeri dup path clos COM: bischeri dup geo clos          1.310332518296739e-168 t-value:  -96.69391371313353\n",
      "P-value de: bischeri notdup path clos COM: bischeri dup geo clos          1.3074197925566856e-140 t-value:  -69.14322613169291\n",
      "P-value de: bischeri dup trail clos COM: bischeri dup geo clos          3.664932738012272e-161 t-value:  -88.49581757174118\n",
      "P-value de: bischeri notdup trail clos COM: bischeri dup geo clos          1.6814664204995432e-128 t-value:  -59.657049146397405\n",
      "P-value de: bischeri dup walk clos COM: bischeri dup geo clos          4.1509994107809e-177 t-value:  -106.94084582451082\n",
      "P-value de: bischeri notdup walk clos COM: bischeri dup geo clos          4.0222949882209287e-261 t-value:  -286.18187040307674\n",
      "P-value de: ridolfi notdup geo clos COM: ridolfi dup geo clos          1.0 t-value:  0.0\n",
      "P-value de: ridolfi dup path clos COM: ridolfi dup geo clos          4.71704897844568e-193 t-value:  -129.07055966104505\n",
      "P-value de: ridolfi notdup path clos COM: ridolfi dup geo clos          1.4245371518496138e-154 t-value:  -81.79661878721066\n",
      "P-value de: ridolfi dup trail clos COM: ridolfi dup geo clos          2.5376377246421336e-177 t-value:  -107.21154885171235\n",
      "P-value de: ridolfi notdup trail clos COM: ridolfi dup geo clos          6.101709645062639e-129 t-value:  -59.98015293676227\n",
      "P-value de: ridolfi dup walk clos COM: ridolfi dup geo clos          4.225424334306321e-183 t-value:  -114.7872713509959\n",
      "P-value de: ridolfi notdup walk clos COM: ridolfi dup geo clos          4.912893111525209e-282 t-value:  -365.1447963454659\n",
      "P-value de: acciaiuol notdup geo clos COM: acciaiuol dup geo clos          1.0 t-value:  0.0\n",
      "P-value de: acciaiuol dup path clos COM: acciaiuol dup geo clos          2.33867394839484e-160 t-value:  -87.6504877946834\n",
      "P-value de: acciaiuol notdup path clos COM: acciaiuol dup geo clos          9.268775835796272e-96 t-value:  -39.4578955437176\n",
      "P-value de: acciaiuol dup trail clos COM: acciaiuol dup geo clos          1.471262479713658e-155 t-value:  -82.7675231272227\n",
      "P-value de: acciaiuol notdup trail clos COM: acciaiuol dup geo clos          2.5456952486008726e-118 t-value:  -52.603273388185436\n",
      "P-value de: acciaiuol dup walk clos COM: acciaiuol dup geo clos          1.0578988838565864e-181 t-value:  -112.90751764565823\n",
      "P-value de: acciaiuol notdup walk clos COM: acciaiuol dup geo clos          4.1817227497909593e-243 t-value:  -231.94003381344905\n",
      "P-value de: strozzi notdup geo clos COM: strozzi dup geo clos          1.0 t-value:  0.0\n",
      "P-value de: strozzi dup path clos COM: strozzi dup geo clos          2.4562919749786414e-185 t-value:  -117.85527509498365\n",
      "P-value de: strozzi notdup path clos COM: strozzi dup geo clos          3.886211102307418e-137 t-value:  -66.29101802271805\n",
      "P-value de: strozzi dup trail clos COM: strozzi dup geo clos          2.540585997140522e-185 t-value:  -117.83490782623993\n",
      "P-value de: strozzi notdup trail clos COM: strozzi dup geo clos          1.008187153482841e-127 t-value:  -59.08996321182034\n",
      "P-value de: strozzi dup walk clos COM: strozzi dup geo clos          5.6853991210001647e-188 t-value:  -121.57457604167794\n",
      "P-value de: strozzi notdup walk clos COM: strozzi dup geo clos          8.251344733565999e-286 t-value:  -381.5546871600754\n",
      "P-value de: peruzzi notdup geo clos COM: peruzzi dup geo clos          1.0 t-value:  0.0\n",
      "P-value de: peruzzi dup path clos COM: peruzzi dup geo clos          2.9835554349116954e-165 t-value:  -92.91181072559351\n",
      "P-value de: peruzzi notdup path clos COM: peruzzi dup geo clos          1.7032309942394535e-115 t-value:  -50.77973860080857\n",
      "P-value de: peruzzi dup trail clos COM: peruzzi dup geo clos          3.0898467202444718e-173 t-value:  -102.14953709696499\n",
      "P-value de: peruzzi notdup trail clos COM: peruzzi dup geo clos          3.8107620068862465e-96 t-value:  -39.65781316559702\n",
      "P-value de: peruzzi dup walk clos COM: peruzzi dup geo clos          1.978024602154766e-191 t-value:  -126.6291409087311\n",
      "P-value de: peruzzi notdup walk clos COM: peruzzi dup geo clos          1.904910460643472e-262 t-value:  -290.63496413924264\n",
      "P-value de: barbadori notdup geo clos COM: barbadori dup geo clos          nan t-value:  nan\n",
      "P-value de: barbadori dup path clos COM: barbadori dup geo clos          4.3238985311882263e-184 t-value:  -116.13619522978277\n",
      "P-value de: barbadori notdup path clos COM: barbadori dup geo clos          3.388629263951575e-140 t-value:  -68.79774569062533\n",
      "P-value de: barbadori dup trail clos COM: barbadori dup geo clos          5.635405645812734e-173 t-value:  -101.8341209313034\n",
      "P-value de: barbadori notdup trail clos COM: barbadori dup geo clos          4.3835142789737834e-125 t-value:  -57.202173873847016\n",
      "P-value de: barbadori dup walk clos COM: barbadori dup geo clos          6.600218534474841e-182 t-value:  -113.18101591878623\n",
      "P-value de: barbadori notdup walk clos COM: barbadori dup geo clos          5.6855164005303334e-267 t-value:  -306.3744267643763\n",
      "P-value de: castellan notdup geo clos COM: castellan dup geo clos          1.0 t-value:  0.0\n",
      "P-value de: castellan dup path clos COM: castellan dup geo clos          4.7578093599958356e-181 t-value:  -112.04015773889095\n",
      "P-value de: castellan notdup path clos COM: castellan dup geo clos          3.6827076067052764e-112 t-value:  -48.69741367549655\n",
      "P-value de: castellan dup trail clos COM: castellan dup geo clos          7.432638970077459e-185 t-value:  -117.18871291076093\n",
      "P-value de: castellan notdup trail clos COM: castellan dup geo clos          2.4792608230518664e-123 t-value:  -55.977962465831126\n",
      "P-value de: castellan dup walk clos COM: castellan dup geo clos          1.6804987775380203e-182 t-value:  -113.97773348556159\n",
      "P-value de: castellan notdup walk clos COM: castellan dup geo clos          1.0454645597738036e-261 t-value:  -288.1406657904397\n",
      "P-value de: ginori notdup geo bet COM: ginori dup geo bet          nan t-value:  nan\n",
      "P-value de: ginori dup path bet COM: ginori dup geo bet          9.159384051152062e-205 t-value:  148.11162722622922\n",
      "P-value de: ginori notdup path bet COM: ginori dup geo bet          nan t-value:  nan\n",
      "P-value de: ginori dup trail bet COM: ginori dup geo bet          7.074443044229117e-195 t-value:  131.86994754217017\n",
      "P-value de: ginori notdup trail bet COM: ginori dup geo bet          nan t-value:  nan\n",
      "P-value de: ginori dup walk bet COM: ginori dup geo bet          2.5874895387395776e-153 t-value:  80.57227858915448\n",
      "P-value de: ginori notdup walk bet COM: ginori dup geo bet          5.873055121562277e-143 t-value:  71.13458916623324\n",
      "P-value de: lambertes notdup geo bet COM: lambertes dup geo bet          nan t-value:  nan\n",
      "P-value de: lambertes dup path bet COM: lambertes dup geo bet          8.755737365864499e-220 t-value:  176.61182676238457\n",
      "P-value de: lambertes notdup path bet COM: lambertes dup geo bet          nan t-value:  nan\n",
      "P-value de: lambertes dup trail bet COM: lambertes dup geo bet          2.9102017264915195e-201 t-value:  142.14659172003394\n",
      "P-value de: lambertes notdup trail bet COM: lambertes dup geo bet          nan t-value:  nan\n",
      "P-value de: lambertes dup walk bet COM: lambertes dup geo bet          6.965234474459358e-159 t-value:  86.12233467715065\n",
      "P-value de: lambertes notdup walk bet COM: lambertes dup geo bet          1.919506836635148e-146 t-value:  74.18950695073494\n",
      "P-value de: albizzi notdup geo bet COM: albizzi dup geo bet          4.409704606934694e-189 t-value:  -123.17551106042818\n",
      "P-value de: albizzi dup path bet COM: albizzi dup geo bet          5.170109189546287e-22 t-value:  10.913324415600762\n",
      "P-value de: albizzi notdup path bet COM: albizzi dup geo bet          6.904502765968221e-180 t-value:  -110.51292170671316\n",
      "P-value de: albizzi dup trail bet COM: albizzi dup geo bet          7.388296091154401e-64 t-value:  25.26403039420824\n",
      "P-value de: albizzi notdup trail bet COM: albizzi dup geo bet          1.3799500773228556e-157 t-value:  -84.79865677169647\n",
      "P-value de: albizzi dup walk bet COM: albizzi dup geo bet          1.0590851602543772e-161 t-value:  89.06635949892741\n",
      "P-value de: albizzi notdup walk bet COM: albizzi dup geo bet          5.286595081911359e-147 t-value:  74.69153337248066\n",
      "P-value de: guadagni notdup geo bet COM: guadagni dup geo bet          1.5259148337826285e-230 t-value:  -200.2905105540229\n",
      "P-value de: guadagni dup path bet COM: guadagni dup geo bet          3.087296079978015e-44 t-value:  18.231089348178603\n",
      "P-value de: guadagni notdup path bet COM: guadagni dup geo bet          2.0646689158053137e-158 t-value:  -85.63843654523878\n",
      "P-value de: guadagni dup trail bet COM: guadagni dup geo bet          6.794933661542343e-107 t-value:  45.55620913337628\n",
      "P-value de: guadagni notdup trail bet COM: guadagni dup geo bet          8.218329451850529e-149 t-value:  -76.33438842491631\n",
      "P-value de: guadagni dup walk bet COM: guadagni dup geo bet          7.334676406658554e-164 t-value:  91.3870178141379\n",
      "P-value de: guadagni notdup walk bet COM: guadagni dup geo bet          4.682245212197342e-157 t-value:  84.26269513394564\n",
      "P-value de: pazzi notdup geo bet COM: pazzi dup geo bet          nan t-value:  nan\n",
      "P-value de: pazzi dup path bet COM: pazzi dup geo bet          6.308164475932734e-186 t-value:  118.67868442557958\n",
      "P-value de: pazzi notdup path bet COM: pazzi dup geo bet          nan t-value:  nan\n",
      "P-value de: pazzi dup trail bet COM: pazzi dup geo bet          4.599117182647237e-182 t-value:  113.3908713984912\n",
      "P-value de: pazzi notdup trail bet COM: pazzi dup geo bet          nan t-value:  nan\n",
      "P-value de: pazzi dup walk bet COM: pazzi dup geo bet          4.898902760250052e-153 t-value:  80.30506159992797\n",
      "P-value de: pazzi notdup walk bet COM: pazzi dup geo bet          3.287384621323587e-120 t-value:  53.85378558903652\n",
      "P-value de: salviati notdup geo bet COM: salviati dup geo bet          0.0 t-value:  -2.1140838588969296e+16\n",
      "P-value de: salviati dup path bet COM: salviati dup geo bet          5.244048701832339e-29 t-value:  13.217664516822541\n",
      "P-value de: salviati notdup path bet COM: salviati dup geo bet          0.0 t-value:  -2.1140838588969296e+16\n",
      "P-value de: salviati dup trail bet COM: salviati dup geo bet          2.9571671603746216e-06 t-value:  4.812046444816736\n",
      "P-value de: salviati notdup trail bet COM: salviati dup geo bet          0.0 t-value:  -2.1140838588969296e+16\n",
      "P-value de: salviati dup walk bet COM: salviati dup geo bet          1.8541054671952421e-137 t-value:  66.55035095045298\n",
      "P-value de: salviati notdup walk bet COM: salviati dup geo bet          3.6041538533074685e-127 t-value:  58.689549039437104\n",
      "P-value de: medici notdup geo bet COM: medici dup geo bet          2.1711953613597222e-296 t-value:  -431.5730785753344\n",
      "P-value de: medici dup path bet COM: medici dup geo bet          2.232195748757396e-238 t-value:  -219.48640859675885\n",
      "P-value de: medici notdup path bet COM: medici dup geo bet          1.44711139730004e-252 t-value:  -259.0089760057268\n",
      "P-value de: medici dup trail bet COM: medici dup geo bet          3.0013858026347646e-63 t-value:  -25.030619590003955\n",
      "P-value de: medici notdup trail bet COM: medici dup geo bet          6.4351908652558394e-220 t-value:  -176.88844020292245\n",
      "P-value de: medici dup walk bet COM: medici dup geo bet          1.2439461597365514e-173 t-value:  102.62886722646591\n",
      "P-value de: medici notdup walk bet COM: medici dup geo bet          2.511127792818088e-155 t-value:  82.53792136968215\n",
      "P-value de: tornabuon notdup geo bet COM: tornabuon dup geo bet          1.6094718701559707e-117 t-value:  -52.08074244358243\n",
      "P-value de: tornabuon dup path bet COM: tornabuon dup geo bet          8.354902097845577e-192 t-value:  127.18829271126162\n",
      "P-value de: tornabuon notdup path bet COM: tornabuon dup geo bet          3.1146401863136754e-49 t-value:  19.938409463520852\n",
      "P-value de: tornabuon dup trail bet COM: tornabuon dup geo bet          8.925472804433969e-198 t-value:  136.44194352862866\n",
      "P-value de: tornabuon notdup trail bet COM: tornabuon dup geo bet          7.503538962958731e-45 t-value:  18.43861444749634\n",
      "P-value de: tornabuon dup walk bet COM: tornabuon dup geo bet          4.518397598337779e-173 t-value:  101.94996052428493\n",
      "P-value de: tornabuon notdup walk bet COM: tornabuon dup geo bet          2.4479711341672977e-164 t-value:  91.90685380555443\n",
      "P-value de: bischeri notdup geo bet COM: bischeri dup geo bet          3.0457507727965797e-187 t-value:  -120.53461643085606\n",
      "P-value de: bischeri dup path bet COM: bischeri dup geo bet          1.9362814770091735e-192 t-value:  128.14239426994752\n",
      "P-value de: bischeri notdup path bet COM: bischeri dup geo bet          6.894489795495158e-39 t-value:  16.447497042122983\n",
      "P-value de: bischeri dup trail bet COM: bischeri dup geo bet          2.697518588041261e-191 t-value:  126.42845153212227\n",
      "P-value de: bischeri notdup trail bet COM: bischeri dup geo bet          1.4502627289877544e-14 t-value:  8.315711817768836\n",
      "P-value de: bischeri dup walk bet COM: bischeri dup geo bet          5.309531798828488e-172 t-value:  100.6650979762779\n",
      "P-value de: bischeri notdup walk bet COM: bischeri dup geo bet          4.4890007330950887e-150 t-value:  77.5013916051645\n",
      "P-value de: ridolfi notdup geo bet COM: ridolfi dup geo bet          3.8676196688801395e-153 t-value:  -80.40391508181395\n",
      "P-value de: ridolfi dup path bet COM: ridolfi dup geo bet          2.1441154609619955e-209 t-value:  156.37781117517713\n",
      "P-value de: ridolfi notdup path bet COM: ridolfi dup geo bet          9.027451438688434e-67 t-value:  26.39703654371527\n",
      "P-value de: ridolfi dup trail bet COM: ridolfi dup geo bet          1.5322417798893048e-212 t-value:  162.2508616156194\n",
      "P-value de: ridolfi notdup trail bet COM: ridolfi dup geo bet          3.623146537094727e-59 t-value:  23.49414203825775\n",
      "P-value de: ridolfi dup walk bet COM: ridolfi dup geo bet          2.5362565346096023e-178 t-value:  108.48728255698579\n",
      "P-value de: ridolfi notdup walk bet COM: ridolfi dup geo bet          2.442138156235589e-158 t-value:  85.56389533063275\n",
      "P-value de: acciaiuol notdup geo bet COM: acciaiuol dup geo bet          nan t-value:  nan\n",
      "P-value de: acciaiuol dup path bet COM: acciaiuol dup geo bet          1.0136804821423839e-192 t-value:  128.566949847938\n",
      "P-value de: acciaiuol notdup path bet COM: acciaiuol dup geo bet          nan t-value:  nan\n",
      "P-value de: acciaiuol dup trail bet COM: acciaiuol dup geo bet          1.2956903045189652e-198 t-value:  137.79238975608627\n",
      "P-value de: acciaiuol notdup trail bet COM: acciaiuol dup geo bet          nan t-value:  nan\n",
      "P-value de: acciaiuol dup walk bet COM: acciaiuol dup geo bet          1.7199440471262886e-166 t-value:  94.2910220038361\n",
      "P-value de: acciaiuol notdup walk bet COM: acciaiuol dup geo bet          4.349701115536395e-149 t-value:  76.58837011174919\n",
      "P-value de: strozzi notdup geo bet COM: strozzi dup geo bet          1.2501939754211949e-116 t-value:  -51.505144237255244\n",
      "P-value de: strozzi dup path bet COM: strozzi dup geo bet          2.2079177881999566e-202 t-value:  144.0280706338658\n",
      "P-value de: strozzi notdup path bet COM: strozzi dup geo bet          2.7779679803427758e-98 t-value:  40.77908217034006\n",
      "P-value de: strozzi dup trail bet COM: strozzi dup geo bet          2.6592748541573913e-207 t-value:  152.58594001871788\n",
      "P-value de: strozzi notdup trail bet COM: strozzi dup geo bet          3.237921537044766e-76 t-value:  30.27106767886126\n",
      "P-value de: strozzi dup walk bet COM: strozzi dup geo bet          6.653139446028505e-176 t-value:  105.42705261374483\n",
      "P-value de: strozzi notdup walk bet COM: strozzi dup geo bet          4.960718039617267e-153 t-value:  80.29982073992298\n",
      "P-value de: peruzzi notdup geo bet COM: peruzzi dup geo bet          1.803279586947364e-56 t-value:  -22.50462371128283\n",
      "P-value de: peruzzi dup path bet COM: peruzzi dup geo bet          5.7755770882825413e-207 t-value:  151.98435815487966\n",
      "P-value de: peruzzi notdup path bet COM: peruzzi dup geo bet          2.0386089805163477e-133 t-value:  63.35581128949035\n",
      "P-value de: peruzzi dup trail bet COM: peruzzi dup geo bet          2.3849722602010116e-199 t-value:  138.9874636502191\n",
      "P-value de: peruzzi notdup trail bet COM: peruzzi dup geo bet          9.698314021358865e-123 t-value:  55.56942149027595\n",
      "P-value de: peruzzi dup walk bet COM: peruzzi dup geo bet          3.285440971664842e-166 t-value:  93.97648387983067\n",
      "P-value de: peruzzi notdup walk bet COM: peruzzi dup geo bet          5.5139403467124575e-151 t-value:  78.35345132026745\n",
      "P-value de: barbadori notdup geo bet COM: barbadori dup geo bet          4.414250091612892e-251 t-value:  -254.56322934611174\n",
      "P-value de: barbadori dup path bet COM: barbadori dup geo bet          1.3002528501089233e-168 t-value:  96.6977643967007\n",
      "P-value de: barbadori notdup path bet COM: barbadori dup geo bet          9.028270227994084e-59 t-value:  -23.347424692133252\n",
      "P-value de: barbadori dup trail bet COM: barbadori dup geo bet          4.687245221916345e-153 t-value:  80.32352372700495\n",
      "P-value de: barbadori notdup trail bet COM: barbadori dup geo bet          6.879811405998244e-38 t-value:  -16.118250724892093\n",
      "P-value de: barbadori dup walk bet COM: barbadori dup geo bet          6.510133370325327e-156 t-value:  83.11885482079947\n",
      "P-value de: barbadori notdup walk bet COM: barbadori dup geo bet          9.214719465681047e-141 t-value:  69.27053371696425\n",
      "P-value de: castellan notdup geo bet COM: castellan dup geo bet          4.126162323937744e-194 t-value:  -130.6873851663944\n",
      "P-value de: castellan dup path bet COM: castellan dup geo bet          2.779639844686057e-193 t-value:  129.41984725275682\n",
      "P-value de: castellan notdup path bet COM: castellan dup geo bet          1.9309511229892238e-116 t-value:  51.38379185547207\n",
      "P-value de: castellan dup trail bet COM: castellan dup geo bet          5.543012467820568e-190 t-value:  124.48918367075626\n",
      "P-value de: castellan notdup trail bet COM: castellan dup geo bet          4.600826014451862e-94 t-value:  38.58883596031395\n",
      "P-value de: castellan dup walk bet COM: castellan dup geo bet          8.249345456413571e-168 t-value:  95.78064484028093\n",
      "P-value de: castellan notdup walk bet COM: castellan dup geo bet          2.67087616309137e-150 t-value:  77.71155808302191\n"
     ]
    }
   ],
   "source": [
    "fam_list = []\n",
    "traject_list = ['geo', 'path', 'trail', 'walk']\n",
    "dup_list = ['dup', 'notdup']\n",
    "bet_clos_list = ['bet', 'clos']\n",
    "\n",
    "# bench = all_dict['dup_geo_bet_clos_dict']['ginori_bet_geo_dup_list']\n",
    "\n",
    "#Adicionando nomes das famílias na lista\n",
    "for n in g.nodes:\n",
    "    fam_list.append(g.nodes[n]['label'])\n",
    "\n",
    "\n",
    "#Realizando testes-t para combinações entre famílias, tipos de trajetórias e difusão\n",
    "t_p_value_dict_clos = {}\n",
    "t_p_value_dict_bet = {}\n",
    "# tvalue_list = []\n",
    "#Realizando teste t para betweenness, comparando o 'benchmark' (famíliax com geodésica e com transferência)\n",
    "for fam in fam_list:\n",
    "    for traject in traject_list:\n",
    "        for dup in dup_list:\n",
    "            if dup != 'dup' or traject != 'geo':\n",
    "                ttest = stats.ttest_ind(all_dict[''+dup+'_'+traject+'_bet_clos_dict'][''+fam+'_clos_'+traject+'_'+dup+'_list'], all_dict['dup_geo_bet_clos_dict'][''+fam+'_clos_geo_dup_list']) \n",
    "                if not(math.isnan(ttest[0])):\n",
    "                    if  not(math.isnan(ttest[1])):\n",
    "                        if ttest[1] != 1:\n",
    "                            t_p_value_dict_clos[ttest[0]] = ttest[1]\n",
    "#                     tvalue_list.append(ttest[0])\n",
    "                print('P-value de: '+fam+' '+dup+' '+traject+' clos COM: '+fam+' dup geo clos         ', ttest[1], 't-value: ', ttest[0])\n",
    "\n",
    "#Realizando teste t para closeness, comparando o 'benchmark' (famíliax com geodésica e com transferência)\n",
    "for fam in fam_list:\n",
    "    for traject in traject_list:\n",
    "        for dup in dup_list:\n",
    "            if dup != 'dup' or traject != 'geo':\n",
    "                ttest = stats.ttest_ind(all_dict[''+dup+'_'+traject+'_bet_clos_dict'][''+fam+'_bet_'+traject+'_'+dup+'_list'], all_dict['dup_geo_bet_clos_dict'][''+fam+'_bet_geo_dup_list']) \n",
    "                if not(math.isnan(ttest[0])):\n",
    "                    if  not(math.isnan(ttest[1])):\n",
    "                        if ttest[1] != 1:\n",
    "                            t_p_value_dict_bet[ttest[0]] = ttest[1]\n",
    "#                     tvalue_list.append(ttest[0])\n",
    "                print('P-value de: '+fam+' '+dup+' '+traject+' bet COM: '+fam+' dup geo bet         ', ttest[1], 't-value: ', ttest[0])\n",
    "# print(stats.ttest_ind(all_dict['dup_geo_bet_clos_dict']['ginori_bet_geo_dup_list'],all_dict['dup_geo_bet_clos_dict']['medici_bet_geo_dup_list']))\n"
   ]
  },
  {
   "cell_type": "markdown",
   "metadata": {},
   "source": [
    "Hipótese nula:  Quando os tipos de trajetória e difusão são alterados, as famílias que anteriormente tinham altas medidas de centralidade, tentem a ser as mesmas.\n",
    "\n",
    "Hipótese alternativa: Quando mudamos os tipos de trajetória e difusão, as famílias com maiores medidas de centraildade tendem não ser as mesmas."
   ]
  },
  {
   "cell_type": "code",
   "execution_count": 49,
   "metadata": {},
   "outputs": [],
   "source": []
  },
  {
   "cell_type": "code",
   "execution_count": 52,
   "metadata": {
    "scrolled": true
   },
   "outputs": [
    {
     "data": {
      "text/plain": [
       "Text(0.5,1,'Scatter plot closeness')"
      ]
     },
     "execution_count": 52,
     "metadata": {},
     "output_type": "execute_result"
    },
    {
     "data": {
      "image/png": "[encoded data removed]",
      "text/plain": [
       "<Figure size 432x288 with 1 Axes>"
      ]
     },
     "metadata": {},
     "output_type": "display_data"
    }
   ],
   "source": [
    "plt.ylim(-500,0)\n",
    "# tvalue_list.sort()\n",
    "# print(sorted(t_p_value_dict))\n",
    "\n",
    "pvalue_clos_list = []\n",
    "for key in sorted(t_p_value_dict_clos):\n",
    "    pvalue_clos_list.append(t_p_value_dict_clos[key])\n",
    "plt.scatter(x = pvalue_clos_list, y = sorted(t_p_value_dict_clos))\n",
    "\n",
    "plt.xlabel('p-value')\n",
    "plt.ylabel('t-value')\n",
    "plt.title('Scatter plot closeness')"
   ]
  },
  {
   "cell_type": "code",
   "execution_count": 53,
   "metadata": {
    "scrolled": true
   },
   "outputs": [
    {
     "data": {
      "text/plain": [
       "Text(0.5,1,'Scatter plot betweenness')"
      ]
     },
     "execution_count": 53,
     "metadata": {},
     "output_type": "execute_result"
    },
    {
     "data": {
      "image/png": "[encoded data removed]",
      "text/plain": [
       "<Figure size 432x288 with 1 Axes>"
      ]
     },
     "metadata": {},
     "output_type": "display_data"
    }
   ],
   "source": [
    "plt.ylim(-500,200)\n",
    "# tvalue_list.sort()\n",
    "# print(sorted(t_p_value_dict))\n",
    "\n",
    "pvalue_bet_list = []\n",
    "for key in sorted(t_p_value_dict_bet):\n",
    "    pvalue_bet_list.append(t_p_value_dict_bet[key])\n",
    "plt.scatter(x = pvalue_bet_list, y = sorted(t_p_value_dict_bet))\n",
    "\n",
    "plt.xlabel('p-value')\n",
    "plt.ylabel('t-value')\n",
    "plt.title('Scatter plot betweenness')"
   ]
  },
  {
   "cell_type": "code",
   "execution_count": 67,
   "metadata": {},
   "outputs": [],
   "source": [
    "#Montando listas de p-values\n",
    "\n",
    "pvalue_clos_list = []\n",
    "for key in sorted(t_p_value_dict_clos):\n",
    "    pvalue_clos_list.append(t_p_value_dict_clos[key])\n",
    "\n",
    "\n",
    "pvalue_bet_list = []\n",
    "for key in sorted(t_p_value_dict_bet):\n",
    "    pvalue_bet_list.append(t_p_value_dict_bet[key])\n",
    "\n",
    "\n",
    "#Retirando outliers\n",
    "\n",
    "#t-values do betweenness\n",
    "elements = np.array(sorted(t_p_value_dict_bet))\n",
    "\n",
    "mean = np.mean(elements, axis=0)\n",
    "sd = np.std(elements, axis=0)\n",
    "\n",
    "tvalue_bet_list = [x for x in sorted(t_p_value_dict_bet) if (x > mean - 2 * sd)]\n",
    "tvalue_bet_list = [x for x in tvalue_bet_list if (x < mean + 2 * sd)]\n",
    "\n",
    "#t-values do closeness\n",
    "elements = np.array(sorted(t_p_value_dict_clos))\n",
    "\n",
    "mean = np.mean(elements, axis=0)\n",
    "sd = np.std(elements, axis=0)\n",
    "\n",
    "tvalue_clos_list = [x for x in sorted(t_p_value_dict_clos) if (x > mean - 2 * sd)]\n",
    "tvalue_clos_list = [x for x in tvalue_clos_list if (x < mean + 2 * sd)]\n",
    "\n",
    "#p-values do betweenness\n",
    "elements = np.array(pvalue_bet_list)\n",
    "\n",
    "mean = np.mean(elements, axis=0)\n",
    "sd = np.std(elements, axis=0)\n",
    "\n",
    "pvalue_bet_list2 = [x for x in pvalue_bet_list if (x > mean - 2 * sd)]\n",
    "pvalue_bet_list2 = [x for x in pvalue_bet_list2 if (x < mean + 2 * sd)]\n",
    "\n",
    "#p-values do closeness\n",
    "elements = np.array(pvalue_clos_list)\n",
    "\n",
    "mean = np.mean(elements, axis=0)\n",
    "sd = np.std(elements, axis=0)\n",
    "\n",
    "pvalue_clos_list = [x for x in pvalue_clos_list if (x > mean - 2 * sd)]\n",
    "pvalue_clos_list = [x for x in pvalue_clos_list if (x < mean + 2 * sd)]"
   ]
  },
  {
   "cell_type": "code",
   "execution_count": 55,
   "metadata": {
    "scrolled": true
   },
   "outputs": [
    {
     "name": "stdout",
     "output_type": "stream",
     "text": [
      "t-valores negativos: 90\n",
      "t-valores positivos:  0\n"
     ]
    },
    {
     "data": {
      "image/png": "[encoded data removed]",
      "text/plain": [
       "<Figure size 432x288 with 1 Axes>"
      ]
     },
     "metadata": {},
     "output_type": "display_data"
    }
   ],
   "source": [
    "plt.ylim(-500,160)\n",
    "\n",
    "plt.plot(sorted(t_p_value_dict_clos))\n",
    "\n",
    "# plt.xlabel('p-value')\n",
    "plt.ylabel('t-value')\n",
    "plt.title('t-valores do closeness')\n",
    "\n",
    "count = 0\n",
    "for i in sorted(t_p_value_dict_clos):\n",
    "    if i < 0:\n",
    "        count += 1\n",
    "\n",
    "print('t-valores negativos:', count)\n",
    "print('t-valores positivos: ', len(sorted(t_p_value_dict_clos)) - count)"
   ]
  },
  {
   "cell_type": "code",
   "execution_count": 56,
   "metadata": {},
   "outputs": [
    {
     "name": "stdout",
     "output_type": "stream",
     "text": [
      "t-valores negativos: 21\n",
      "t-valores positivos:  70\n"
     ]
    },
    {
     "data": {
      "image/png": "[encoded data removed]",
      "text/plain": [
       "<Figure size 432x288 with 1 Axes>"
      ]
     },
     "metadata": {},
     "output_type": "display_data"
    }
   ],
   "source": [
    "plt.ylim(-500,160)\n",
    "\n",
    "plt.plot(sorted(tvalue_bet_list))\n",
    "\n",
    "# plt.xlabel('p-value')\n",
    "plt.ylabel('t-value')\n",
    "plt.title('t-valores do betweenness')\n",
    "\n",
    "count = 0\n",
    "for i in sorted(t_p_value_dict_bet):\n",
    "    if i < 0:\n",
    "        count += 1\n",
    "\n",
    "print('t-valores negativos:', count)\n",
    "print('t-valores positivos: ', len(sorted(t_p_value_dict_bet)) - count)"
   ]
  },
  {
   "cell_type": "markdown",
   "metadata": {},
   "source": [
    "Analisando os dois primeiro gráficos, percebemos que os p-valores são extremamente baixos (na escala de e-100), significando que as nossas respostas são bastante confiáveis, ou seja, valores diferentes da média observada ocorrem em baixíssima frequência. E quais seriam estas respostas? Para isso foram usados os t-valores obtidos nos testes t-student realizados. Os t-valores representam o quanto os dois grupos são diferentes ou parecidos, tendo valores altos se os grupos forem diferentes, e valores baixos caso sejam similares.\n",
    "\n",
    "Analisando os dois gráficos seguintes reparamos que: os t-valores dos dados de closenes amostrados são todos negativos, significando que para as amostras, nos dizendo que famílias que possuiam um alto valor de closeness utilizando geodésica com transferência permaneceram com altos valores de closeness quando alterados o tipo de trajeto e difusão.\n",
    "\n",
    "Agora analizando o gráfico/dados de betweenness percebemos uma mudança drástica na contagem de valores positivos e negativos, sendo a maioria (70) positivos, e a minoria (21) negativos, significando que famílias que possuíam valores de betweenness alto utilizando-se geodésica e difusão são altos como métodos de anáilse, não mantiveram seus valores altos quando alterados estes métodos.\n",
    "\n",
    "https://www.statisticshowto.datasciencecentral.com/probability-and-statistics/t-test/"
   ]
  },
  {
   "cell_type": "code",
   "execution_count": 57,
   "metadata": {},
   "outputs": [
    {
     "data": {
      "text/plain": [
       "(array([87.,  0.,  0.,  0.,  0.,  0.,  0.,  0.,  0.,  1.]),\n",
       " array([5.37550890e-306, 3.87776835e-100, 7.75553670e-100, 1.16333051e-099,\n",
       "        1.55110734e-099, 1.93888418e-099, 2.32666101e-099, 2.71443785e-099,\n",
       "        3.10221468e-099, 3.48999152e-099, 3.87776835e-099]),\n",
       " <a list of 10 Patch objects>)"
      ]
     },
     "execution_count": 57,
     "metadata": {},
     "output_type": "execute_result"
    },
    {
     "data": {
      "image/png": "[encoded data removed]",
      "text/plain": [
       "<Figure size 432x288 with 1 Axes>"
      ]
     },
     "metadata": {},
     "output_type": "display_data"
    }
   ],
   "source": [
    "plt.hist(pvalue_clos_list)"
   ]
  },
  {
   "cell_type": "code",
   "execution_count": 72,
   "metadata": {},
   "outputs": [
    {
     "ename": "AttributeError",
     "evalue": "'list' object has no attribute 'describe'",
     "output_type": "error",
     "traceback": [
      "\u001b[0;31m---------------------------------------------------------------------------\u001b[0m",
      "\u001b[0;31mAttributeError\u001b[0m                            Traceback (most recent call last)",
      "\u001b[0;32m<ipython-input-72-df523702a5a5>\u001b[0m in \u001b[0;36m<module>\u001b[0;34m()\u001b[0m\n\u001b[1;32m      1\u001b[0m \u001b[0mplt\u001b[0m\u001b[0;34m.\u001b[0m\u001b[0mhist\u001b[0m\u001b[0;34m(\u001b[0m\u001b[0mpvalue_bet_list2\u001b[0m\u001b[0;34m)\u001b[0m\u001b[0;34m\u001b[0m\u001b[0m\n\u001b[0;32m----> 2\u001b[0;31m \u001b[0mpvalue_bet_list2\u001b[0m\u001b[0;34m.\u001b[0m\u001b[0mdescribe\u001b[0m\u001b[0;34m(\u001b[0m\u001b[0;34m)\u001b[0m\u001b[0;34m\u001b[0m\u001b[0m\n\u001b[0m",
      "\u001b[0;31mAttributeError\u001b[0m: 'list' object has no attribute 'describe'"
     ]
    },
    {
     "data": {
      "image/png": "[encoded data removed]",
      "text/plain": [
       "<Figure size 432x288 with 1 Axes>"
      ]
     },
     "metadata": {},
     "output_type": "display_data"
    }
   ],
   "source": [
    "plt.hist(pvalue_bet_list2)\n",
    "pvalue_bet_list2.describe()"
   ]
  },
  {
   "cell_type": "code",
   "execution_count": 63,
   "metadata": {},
   "outputs": [
    {
     "data": {
      "text/plain": [
       "(array([ 6.,  1.,  2.,  1.,  0.,  0., 11., 24., 13., 27.]),\n",
       " array([-310.79904977, -283.66493435, -256.53081892, -229.3967035 ,\n",
       "        -202.26258808, -175.12847266, -147.99435723, -120.86024181,\n",
       "         -93.72612639,  -66.59201097,  -39.45789554]),\n",
       " <a list of 10 Patch objects>)"
      ]
     },
     "execution_count": 63,
     "metadata": {},
     "output_type": "execute_result"
    },
    {
     "data": {
      "image/png": "[encoded data removed]",
      "text/plain": [
       "<Figure size 432x288 with 1 Axes>"
      ]
     },
     "metadata": {},
     "output_type": "display_data"
    }
   ],
   "source": [
    "plt.hist(sorted(tvalue_clos_list))"
   ]
  },
  {
   "cell_type": "code",
   "execution_count": 64,
   "metadata": {},
   "outputs": [
    {
     "data": {
      "text/plain": [
       "(array([ 1.,  0.,  2.,  2.,  2.,  7.,  6., 17., 34., 19.]),\n",
       " array([-431.57307858, -370.75458804, -309.93609751, -249.11760697,\n",
       "        -188.29911644, -127.48062591,  -66.66213537,   -5.84364484,\n",
       "          54.97484569,  115.79333623,  176.61182676]),\n",
       " <a list of 10 Patch objects>)"
      ]
     },
     "execution_count": 64,
     "metadata": {},
     "output_type": "execute_result"
    },
    {
     "data": {
      "image/png": "[encoded data removed]",
      "text/plain": [
       "<Figure size 432x288 with 1 Axes>"
      ]
     },
     "metadata": {},
     "output_type": "display_data"
    }
   ],
   "source": [
    "plt.hist(sorted(tvalue_bet_list))"
   ]
  },
  {
   "cell_type": "code",
   "execution_count": 65,
   "metadata": {},
   "outputs": [],
   "source": [
    "# pd.DataFrame({\n",
    "#     'tvalue_clos': [i for i in  sorted(t_p_value_dict_clos)],\n",
    "#     'tvalue_bet': [i for i in  sorted(t_p_value_dict_bet)],\n",
    "#     'pvalue_clos': [i for i in pvalue_clos_list],\n",
    "#     'pvalue_bet': [i for i in pvalue_bet_list],\n",
    "# })"
   ]
  },
  {
   "cell_type": "code",
   "execution_count": 74,
   "metadata": {},
   "outputs": [
    {
     "data": {
      "text/plain": [
       "DescribeResult(nobs=91, minmax=(0.0, 2.9571671603746216e-06), mean=3.2496342581068677e-08, variance=9.609711663126447e-14, skewness=9.381423725166187, kurtosis=86.01111111111109)"
      ]
     },
     "execution_count": 74,
     "metadata": {},
     "output_type": "execute_result"
    }
   ],
   "source": [
    "stats.describe(pvalue_bet_list)"
   ]
  },
  {
   "cell_type": "code",
   "execution_count": 75,
   "metadata": {},
   "outputs": [
    {
     "data": {
      "text/plain": [
       "DescribeResult(nobs=88, minmax=(5.3755088964622e-306, 3.877768352122824e-99), mean=4.4471704497546984e-101, variance=1.7085383447591872e-199, skewness=9.219011274972782, kurtosis=nan)"
      ]
     },
     "execution_count": 75,
     "metadata": {},
     "output_type": "execute_result"
    }
   ],
   "source": [
    "stats.describe(pvalue_clos_list)"
   ]
  },
  {
   "cell_type": "code",
   "execution_count": null,
   "metadata": {},
   "outputs": [],
   "source": []
  }
 ],
 "metadata": {
  "kernelspec": {
   "display_name": "Python 3",
   "language": "python",
   "name": "python3"
  },
  "language_info": {
   "codemirror_mode": {
    "name": "ipython",
    "version": 3
   },
   "file_extension": ".py",
   "mimetype": "text/x-python",
   "name": "python",
   "nbconvert_exporter": "python",
   "pygments_lexer": "ipython3",
   "version": "3.6.5"
  }
 },
 "nbformat": 4,
 "nbformat_minor": 1
}
