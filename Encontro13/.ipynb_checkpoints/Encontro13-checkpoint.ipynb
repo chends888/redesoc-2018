{
 "cells": [
  {
   "cell_type": "markdown",
   "metadata": {},
   "source": [
    "# Encontro 13: Medidas de Centralidade\n",
    "\n",
    "Importando a biblioteca:"
   ]
  },
  {
   "cell_type": "code",
   "execution_count": 2,
   "metadata": {},
   "outputs": [
    {
     "ename": "AttributeError",
     "evalue": "module 'pandas' has no attribute 'plotting'",
     "output_type": "error",
     "traceback": [
      "\u001b[1;31m---------------------------------------------------------------------------\u001b[0m",
      "\u001b[1;31mAttributeError\u001b[0m                            Traceback (most recent call last)",
      "\u001b[1;32m<ipython-input-2-81a6259e2448>\u001b[0m in \u001b[0;36m<module>\u001b[1;34m()\u001b[0m\n\u001b[0;32m      5\u001b[0m \u001b[1;32mfrom\u001b[0m \u001b[0mitertools\u001b[0m \u001b[1;32mimport\u001b[0m \u001b[0mpermutations\u001b[0m\u001b[1;33m\u001b[0m\u001b[0m\n\u001b[0;32m      6\u001b[0m \u001b[1;33m\u001b[0m\u001b[0m\n\u001b[1;32m----> 7\u001b[1;33m \u001b[1;32mimport\u001b[0m \u001b[0mpandas\u001b[0m \u001b[1;32mas\u001b[0m \u001b[0mpd\u001b[0m\u001b[1;33m\u001b[0m\u001b[0m\n\u001b[0m\u001b[0;32m      8\u001b[0m \u001b[1;32mimport\u001b[0m \u001b[0mnetworkx\u001b[0m \u001b[1;32mas\u001b[0m \u001b[0mnx\u001b[0m\u001b[1;33m\u001b[0m\u001b[0m\n\u001b[0;32m      9\u001b[0m \u001b[1;33m\u001b[0m\u001b[0m\n",
      "\u001b[1;32mD:\\Anaconda3\\lib\\site-packages\\pandas\\__init__.py\u001b[0m in \u001b[0;36m<module>\u001b[1;34m()\u001b[0m\n\u001b[0;32m     48\u001b[0m \u001b[1;31m# deprecate tools.plotting, plot_params and scatter_matrix on the top namespace\u001b[0m\u001b[1;33m\u001b[0m\u001b[1;33m\u001b[0m\u001b[0m\n\u001b[0;32m     49\u001b[0m \u001b[1;32mimport\u001b[0m \u001b[0mpandas\u001b[0m\u001b[1;33m.\u001b[0m\u001b[0mtools\u001b[0m\u001b[1;33m.\u001b[0m\u001b[0mplotting\u001b[0m\u001b[1;33m\u001b[0m\u001b[0m\n\u001b[1;32m---> 50\u001b[1;33m \u001b[0mplot_params\u001b[0m \u001b[1;33m=\u001b[0m \u001b[0mpandas\u001b[0m\u001b[1;33m.\u001b[0m\u001b[0mplotting\u001b[0m\u001b[1;33m.\u001b[0m\u001b[0m_style\u001b[0m\u001b[1;33m.\u001b[0m\u001b[0m_Options\u001b[0m\u001b[1;33m(\u001b[0m\u001b[0mdeprecated\u001b[0m\u001b[1;33m=\u001b[0m\u001b[1;32mTrue\u001b[0m\u001b[1;33m)\u001b[0m\u001b[1;33m\u001b[0m\u001b[0m\n\u001b[0m\u001b[0;32m     51\u001b[0m \u001b[1;31m# do not import deprecate to top namespace\u001b[0m\u001b[1;33m\u001b[0m\u001b[1;33m\u001b[0m\u001b[0m\n\u001b[0;32m     52\u001b[0m scatter_matrix = pandas.util._decorators.deprecate(\n",
      "\u001b[1;31mAttributeError\u001b[0m: module 'pandas' has no attribute 'plotting'"
     ]
    }
   ],
   "source": [
    "import sys\n",
    "sys.path.append('..')\n",
    "\n",
    "from random import choice\n",
    "from itertools import permutations\n",
    "\n",
    "import pandas as pd\n",
    "import networkx as nx\n",
    "\n",
    "import socnet as sn"
   ]
  },
  {
   "cell_type": "markdown",
   "metadata": {},
   "source": [
    "Configurando a biblioteca:"
   ]
  },
  {
   "cell_type": "code",
   "execution_count": null,
   "metadata": {},
   "outputs": [],
   "source": [
    "sn.node_size = 10\n",
    "sn.node_color = (255, 255, 255)\n",
    "\n",
    "sn.edge_width = 1\n",
    "sn.edge_color = (192, 192, 192)\n",
    "\n",
    "sn.node_label_position = 'top center'"
   ]
  },
  {
   "cell_type": "markdown",
   "metadata": {},
   "source": [
    "Carregando rede de casamentos entre famílias de Florença durante a Renascença.\n",
    "\n",
    "J. F. Padgett e C. K. Ansell. *Robust action and the rise of the Medici, 1400–1434.* American Journal of\n",
    "Sociology 98, págs. 1259-1319, 1993."
   ]
  },
  {
   "cell_type": "code",
   "execution_count": null,
   "metadata": {},
   "outputs": [],
   "source": [
    "g = sn.load_graph('Renaissance.gml', has_pos=True)\n",
    "\n",
    "sn.show_graph(g, nlab=True)"
   ]
  },
  {
   "cell_type": "markdown",
   "metadata": {},
   "source": [
    "Função que registra, em cada nó, seus sucessores em geodésicas de $s$ a $t$."
   ]
  },
  {
   "cell_type": "code",
   "execution_count": null,
   "metadata": {},
   "outputs": [],
   "source": [
    "def set_geodesic_successors(g, s, t):\n",
    "    for n in g.nodes:\n",
    "        g.nodes[n]['geodesic_successors'] = set()\n",
    "\n",
    "    for p in nx.all_shortest_paths(g, s, t):\n",
    "        for i in range(len(p) - 1):\n",
    "            g.nodes[p[i]]['geodesic_successors'].add(p[i + 1])"
   ]
  },
  {
   "cell_type": "markdown",
   "metadata": {},
   "source": [
    "Funções que representam uma escolha aleatória de sucessor para diferentes tipos de trajetórias."
   ]
  },
  {
   "cell_type": "code",
   "execution_count": null,
   "metadata": {},
   "outputs": [],
   "source": [
    "# Pense que o atributo 'passages' abaixo indica quantas\n",
    "# vezes um fluxo já passou por um nó ou por uma aresta.\n",
    "\n",
    "def random_geodesic_successor(g, n):\n",
    "    return choice([m for m in g.nodes[n]['geodesic_successors']])\n",
    "\n",
    "def random_path_successor(g, n):\n",
    "    return choice([m for m in g.neighbors(n) if g.nodes[m]['passages'] == 0])\n",
    "\n",
    "def random_trail_successor(g, n):\n",
    "    return choice([m for m in g.neighbors(n) if g.edges[n, m]['passages'] == 0])\n",
    "\n",
    "def random_walk_successor(g, n):\n",
    "    return choice([m for m in g.neighbors(n)])"
   ]
  },
  {
   "cell_type": "markdown",
   "metadata": {},
   "source": [
    "Função que faz uma simulação de fluxo de $s$ a $t$, que pode ou não ser bem-sucedida."
   ]
  },
  {
   "cell_type": "code",
   "execution_count": null,
   "metadata": {},
   "outputs": [],
   "source": [
    "def simulate_single_flow(g, s, t, func, dup):\n",
    "    # Inicializa o atributo 'passages' de cada nó.\n",
    "    for n in g.nodes:\n",
    "        g.nodes[n]['passages'] = 0\n",
    "    g.nodes[s]['passages'] = 1\n",
    "\n",
    "    # Inicializa o atributo 'passages' de cada aresta.\n",
    "    for n, m in g.edges:\n",
    "        g.edges[n, m]['passages'] = 0\n",
    "\n",
    "    # Inicializa s como o único dono do insumo.\n",
    "    for n in g.nodes:\n",
    "        g.nodes[n]['owner'] = False\n",
    "    g.nodes[s]['owner'] = True\n",
    "\n",
    "    # Simula o fluxo, contando o número total de passos.\n",
    "    steps = 0\n",
    "\n",
    "    while True:\n",
    "        # O conjunto reached representa todos os nós\n",
    "        # que o fluxo consegue alcançar no passo atual.\n",
    "        reached = set()\n",
    "\n",
    "        # Verifica cada um dos donos atuais do insumo.\n",
    "        owners = [n for n in g.nodes if g.nodes[n]['owner']]\n",
    "\n",
    "        for n in owners:\n",
    "            # Escolhe aleatoriamente um dos sucessores.\n",
    "            try:\n",
    "                if ( func == 'geo'):\n",
    "                    m = random_geodesic_successor(g, n)\n",
    "                elif (func == 'path'):\n",
    "                    m = random_path_successor(g, n)\n",
    "                elif (func == 'trail'):\n",
    "                    m = random_trail_successor(g, n)\n",
    "                else:\n",
    "                     m = random_walk_successor(g, n)\n",
    "            except IndexError:\n",
    "                continue\n",
    "\n",
    "            # Deixa de ser dono do insumo.\n",
    "            if dup == 'dup':\n",
    "                g.nodes[n]['owner'] = True\n",
    "            else:\n",
    "                g.nodes[n]['owner'] = False\n",
    "\n",
    "            # Incrementa o atributo 'passages' do nó.\n",
    "            g.nodes[m]['passages'] += 1\n",
    "\n",
    "            # Incrementa o atributo 'passages' da aresta.\n",
    "            g.edges[n, m]['passages'] += 1\n",
    "\n",
    "            # Registra que consegue alcançar esse nó.\n",
    "            reached.add(m)\n",
    "\n",
    "        # Todo nó alcançado passa a ser dono do insumo.\n",
    "        for n in reached:\n",
    "            g.nodes[n]['owner'] = True\n",
    "\n",
    "        # Isso conclui o passo atual da simulação.\n",
    "        steps += 1\n",
    "\n",
    "        # Se o passo alcançou t, chegamos ao fim da simulação.\n",
    "        # Ela foi bem-sucedida: devolvemos o número de passos.\n",
    "        if t in reached:\n",
    "            return steps\n",
    "\n",
    "        # Se o passo não alcançou ninguém, chegamos ao fim da\n",
    "        # simulação. Ela não foi bem-sucedida: devolvemos -1.\n",
    "        if not reached:\n",
    "            return -1"
   ]
  },
  {
   "cell_type": "markdown",
   "metadata": {},
   "source": [
    "Função que faz simulações de fluxo de $s$ a $t$ até uma ser bem-sucedida."
   ]
  },
  {
   "cell_type": "code",
   "execution_count": null,
   "metadata": {},
   "outputs": [],
   "source": [
    "def simulate_successful_flow(g, s, t, func, dup):\n",
    "    set_geodesic_successors(g, s, t)\n",
    "\n",
    "    while True:\n",
    "        steps = simulate_single_flow(g, s, t, func, dup)\n",
    "\n",
    "        if steps != -1:\n",
    "            return steps"
   ]
  },
  {
   "cell_type": "markdown",
   "metadata": {},
   "source": [
    "Função que faz simulações de fluxo para todo $s$ e $t$ possíveis, e tira disso um *closeness simulado* e um *betweenness simulado*."
   ]
  },
  {
   "cell_type": "code",
   "execution_count": null,
   "metadata": {},
   "outputs": [],
   "source": [
    "def simulate_all_flows(g, func, dup):\n",
    "    for n in g.nodes:\n",
    "        g.nodes[n]['closeness'] = 0\n",
    "        g.nodes[n]['betweenness'] = 0\n",
    "\n",
    "    for s, t in permutations(g.nodes, 2):\n",
    "        steps = simulate_successful_flow(g, s, t, func, dup)\n",
    "\n",
    "        g.nodes[s]['closeness'] += steps\n",
    "        for n in g.nodes:\n",
    "            if n != s and n != t:\n",
    "                g.nodes[n]['betweenness'] += g.nodes[n]['passages']\n",
    "\n",
    "    # Normalizações necessárias para comparar com os\n",
    "    # resultados analíticos. Não é preciso entender.\n",
    "    for n in g.nodes:\n",
    "        g.nodes[n]['closeness'] = (g.number_of_nodes() - 1) / g.nodes[n]['closeness']\n",
    "        g.nodes[n]['betweenness'] /= (g.number_of_nodes() - 1) * (g.number_of_nodes() - 2)"
   ]
  },
  {
   "cell_type": "markdown",
   "metadata": {},
   "source": [
    "Média de *closeness simulado* e *betweenness simulado* para muitas repetições da simulação acima."
   ]
  },
  {
   "cell_type": "code",
   "execution_count": null,
   "metadata": {},
   "outputs": [],
   "source": [
    "def main(tipo, dup):\n",
    "    TIMES = 10\n",
    "\n",
    "\n",
    "    for n in g.nodes:\n",
    "        g.nodes[n]['mean_closeness'] = 0\n",
    "        g.nodes[n]['mean_betweenness'] = 0\n",
    "\n",
    "    for _ in range(TIMES):\n",
    "        simulate_all_flows(g, tipo)\n",
    "\n",
    "        for n in g.nodes:\n",
    "            g.nodes[n]['mean_closeness'] += g.nodes[n]['closeness']\n",
    "            g.nodes[n]['mean_betweenness'] += g.nodes[n]['betweenness']\n",
    "\n",
    "    for n in g.nodes:\n",
    "        g.nodes[n]['mean_closeness'] /= TIMES\n",
    "        g.nodes[n]['mean_betweenness'] /= TIMES\n",
    "\n",
    "    cc = nx.closeness_centrality(g)\n",
    "\n",
    "    bc = nx.betweenness_centrality(g)\n",
    "\n",
    "    return (pd.DataFrame({\n",
    "        'família': [g.nodes[n]['label'] for n in g.nodes],\n",
    "        'closeness simulado': [g.nodes[n]['mean_closeness'] for n in g.nodes],\n",
    "        'closeness analítico': [cc[n] for n in g.nodes],\n",
    "        'betweenness simulado': [g.nodes[n]['mean_betweenness'] for n in g.nodes],\n",
    "        'betweenness analítico': [bc[n] for n in g.nodes],\n",
    "    }))"
   ]
  },
  {
   "cell_type": "markdown",
   "metadata": {},
   "source": [
    "Cálculo de *closeness* e *betweenness* a partir das funções prontas da NetworkX, para comparação."
   ]
  },
  {
   "cell_type": "code",
   "execution_count": null,
   "metadata": {},
   "outputs": [],
   "source": [
    "# cc = nx.closeness_centrality(g)\n",
    "\n",
    "# bc = nx.betweenness_centrality(g)"
   ]
  },
  {
   "cell_type": "markdown",
   "metadata": {},
   "source": [
    "Construção de data frame só para comparar mais facilmente."
   ]
  },
  {
   "cell_type": "code",
   "execution_count": null,
   "metadata": {},
   "outputs": [],
   "source": [
    "# pd.DataFrame({\n",
    "#     'família': [g.nodes[n]['label'] for n in g.nodes],\n",
    "#     'closeness simulado': [g.nodes[n]['mean_closeness'] for n in g.nodes],\n",
    "#     'closeness analítico': [cc[n] for n in g.nodes],\n",
    "#     'betweenness simulado': [g.nodes[n]['mean_betweenness'] for n in g.nodes],\n",
    "#     'betweenness analítico': [bc[n] for n in g.nodes],\n",
    "# })"
   ]
  },
  {
   "cell_type": "markdown",
   "metadata": {},
   "source": [
    "E agora, vamos pensar um pouco...\n",
    "\n",
    "* Onde você precisa mudar o código para usar uma *trajetória* que não seja a *geodésica*? (caminho, trilha, passeio)\n",
    "\n",
    "* Onde você precisa mudar o código para usar uma *difusão* que não seja a *transferência*? (duplicação)\n",
    "\n",
    "Considere então a seguinte **hipótese**:\n",
    "\n",
    ">Quando consideramos outros tipos de trajetória e outros tipos de difusão, os nós com maior *closeness simulado* e *betweenness simulado* não são necessariamente os nós com maior *closeness* e *betweenness* segundo as fórmulas clássicas. (que correspondem ao uso de geodésica e transferência na simulação)\n",
    "\n",
    "Queremos:\n",
    "\n",
    "1. Operacionalização e teste dessas hipótese. (Objetivo 3)\n",
    "2. Interpretação dos resultados na linguagem de Análise de Redes Sociais (Objetivo 4)\n",
    "\n",
    "Um *feedback* da atividade sobre *coreness no Jazz* será dado em breve, para vocês terem uma melhor referência do item 2."
   ]
  },
  {
   "cell_type": "code",
   "execution_count": null,
   "metadata": {},
   "outputs": [],
   "source": [
    "main('geo', 'dup')"
   ]
  },
  {
   "cell_type": "code",
   "execution_count": null,
   "metadata": {},
   "outputs": [],
   "source": [
    "main('path')"
   ]
  },
  {
   "cell_type": "code",
   "execution_count": null,
   "metadata": {},
   "outputs": [],
   "source": [
    "main('trail')"
   ]
  },
  {
   "cell_type": "code",
   "execution_count": null,
   "metadata": {},
   "outputs": [],
   "source": [
    "main('walk')"
   ]
  }
 ],
 "metadata": {
  "kernelspec": {
   "display_name": "Python 3",
   "language": "python",
   "name": "python3"
  },
  "language_info": {
   "codemirror_mode": {
    "name": "ipython",
    "version": 3
   },
   "file_extension": ".py",
   "mimetype": "text/x-python",
   "name": "python",
   "nbconvert_exporter": "python",
   "pygments_lexer": "ipython3",
   "version": "3.5.5"
  }
 },
 "nbformat": 4,
 "nbformat_minor": 1
}
