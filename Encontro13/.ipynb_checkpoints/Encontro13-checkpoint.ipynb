{
 "cells": [
  {
   "cell_type": "markdown",
   "metadata": {},
   "source": [
    "# Encontro 13: Medidas de Centralidade\n",
    "\n",
    "Importando a biblioteca:"
   ]
  },
  {
   "cell_type": "code",
   "execution_count": 28,
   "metadata": {},
   "outputs": [],
   "source": [
    "import sys\n",
    "sys.path.append('..')\n",
    "\n",
    "from random import choice\n",
    "from itertools import permutations\n",
    "\n",
    "import pandas as pd\n",
    "import networkx as nx\n",
    "\n",
    "import socnet as sn\n",
    "\n",
    "from scipy import stats\n",
    "\n",
    "import matplotlib.pyplot as plt\n",
    "\n",
    "import math"
   ]
  },
  {
   "cell_type": "markdown",
   "metadata": {},
   "source": [
    "Configurando a biblioteca:"
   ]
  },
  {
   "cell_type": "code",
   "execution_count": 3,
   "metadata": {},
   "outputs": [],
   "source": [
    "sn.node_size = 10\n",
    "sn.node_color = (255, 255, 255)\n",
    "\n",
    "sn.edge_width = 1\n",
    "sn.edge_color = (192, 192, 192)\n",
    "\n",
    "sn.node_label_position = 'top center'"
   ]
  },
  {
   "cell_type": "markdown",
   "metadata": {},
   "source": [
    "Carregando rede de casamentos entre famílias de Florença durante a Renascença.\n",
    "\n",
    "J. F. Padgett e C. K. Ansell. *Robust action and the rise of the Medici, 1400–1434.* American Journal of\n",
    "Sociology 98, págs. 1259-1319, 1993."
   ]
  },
  {
   "cell_type": "code",
   "execution_count": 4,
   "metadata": {},
   "outputs": [
    {
     "data": {
      "application/vnd.plotly.v1+json": {
       "data": [
        {
         "hoverinfo": "none",
         "line": {
          "color": "rgb(192, 192, 192)",
          "width": 1
         },
         "mode": "lines",
         "type": "scatter",
         "uid": "6fc27356-c842-11e8-bd61-0005165e06fb",
         "x": [
          0.5138211382113821,
          0.5609756097560976,
          null,
          0.9658536585365853,
          0.8097560975609757,
          null,
          0.5609756097560976,
          0.8097560975609757,
          null,
          0.5609756097560976,
          0.44552845528455287,
          null,
          0.8097560975609757,
          0.6130081300813008,
          null,
          0.8097560975609757,
          1,
          null,
          0,
          0.23414634146341465,
          null,
          0.23414634146341465,
          0.44552845528455287,
          null,
          0.44552845528455287,
          0.6130081300813008,
          null,
          0.44552845528455287,
          0.624390243902439,
          null,
          0.44552845528455287,
          0.26991869918699185,
          null,
          0.44552845528455287,
          0.5138211382113821,
          null,
          0.6130081300813008,
          0.624390243902439,
          null,
          1,
          0.9951219512195122,
          null,
          1,
          0.8357723577235773,
          null,
          0.624390243902439,
          0.8357723577235773,
          null,
          0.8357723577235773,
          0.7626016260162601,
          null,
          0.9951219512195122,
          0.7626016260162601,
          null,
          0.5138211382113821,
          0.7626016260162601,
          null
         ],
         "y": [
          1,
          0.736734693877551,
          null,
          0.8673469387755102,
          0.6714285714285715,
          null,
          0.736734693877551,
          0.6714285714285715,
          null,
          0.736734693877551,
          0.4285714285714286,
          null,
          0.6714285714285715,
          0.5326530612244897,
          null,
          0.6714285714285715,
          0.44897959183673475,
          null,
          0.5061224489795919,
          0.48367346938775513,
          null,
          0.48367346938775513,
          0.4285714285714286,
          null,
          0.4285714285714286,
          0.5326530612244897,
          null,
          0.4285714285714286,
          0.33673469387755106,
          null,
          0.4285714285714286,
          0.2204081632653061,
          null,
          0.4285714285714286,
          0.09999999999999998,
          null,
          0.5326530612244897,
          0.33673469387755106,
          null,
          0.44897959183673475,
          0.17755102040816328,
          null,
          0.44897959183673475,
          0.2020408163265306,
          null,
          0.33673469387755106,
          0.2020408163265306,
          null,
          0.2020408163265306,
          0,
          null,
          0.17755102040816328,
          0,
          null,
          0.09999999999999998,
          0,
          null
         ]
        },
        {
         "hoverinfo": "none",
         "marker": {
          "color": "rgb(255, 255, 255)",
          "line": {
           "color": "rgb(0, 0, 0)",
           "width": 1
          },
          "size": 10
         },
         "mode": "markers+text",
         "text": [
          "ginori",
          "lambertes",
          "albizzi",
          "guadagni",
          "pazzi",
          "salviati",
          "medici",
          "tornabuon",
          "bischeri",
          "ridolfi",
          "acciaiuol",
          "strozzi",
          "peruzzi",
          "barbadori",
          "castellan"
         ],
         "textfont": {
          "color": "rgb(0, 0, 0)"
         },
         "textposition": "top center",
         "type": "scatter",
         "uid": "6fc27357-c842-11e8-bd61-0005165e06fb",
         "x": [
          0.5138211382113821,
          0.9658536585365853,
          0.5609756097560976,
          0.8097560975609757,
          0,
          0.23414634146341465,
          0.44552845528455287,
          0.6130081300813008,
          1,
          0.624390243902439,
          0.26991869918699185,
          0.8357723577235773,
          0.9951219512195122,
          0.5138211382113821,
          0.7626016260162601
         ],
         "y": [
          1,
          0.8673469387755102,
          0.736734693877551,
          0.6714285714285715,
          0.5061224489795919,
          0.48367346938775513,
          0.4285714285714286,
          0.5326530612244897,
          0.44897959183673475,
          0.33673469387755106,
          0.2204081632653061,
          0.2020408163265306,
          0.17755102040816328,
          0.09999999999999998,
          0
         ]
        }
       ],
       "layout": {
        "height": 450,
        "margin": {
         "b": 0,
         "l": 0,
         "r": 0,
         "t": 0
        },
        "showlegend": false,
        "width": 800,
        "xaxis": {
         "showgrid": false,
         "showticklabels": false,
         "zeroline": false
        },
        "yaxis": {
         "showgrid": false,
         "showticklabels": false,
         "zeroline": false
        }
       }
      },
      "text/html": [
       "<div id=\"2ccf2866-3cb4-445f-b73a-3a3d2b2b6da1\" style=\"height: 450px; width: 800px;\" class=\"plotly-graph-div\"></div><script type=\"text/javascript\">require([\"plotly\"], function(Plotly) { window.PLOTLYENV=window.PLOTLYENV || {};window.PLOTLYENV.BASE_URL=\"https://plot.ly\";Plotly.newPlot(\"2ccf2866-3cb4-445f-b73a-3a3d2b2b6da1\", [{\"hoverinfo\": \"none\", \"line\": {\"color\": \"rgb(192, 192, 192)\", \"width\": 1}, \"mode\": \"lines\", \"x\": [0.5138211382113821, 0.5609756097560976, null, 0.9658536585365853, 0.8097560975609757, null, 0.5609756097560976, 0.8097560975609757, null, 0.5609756097560976, 0.44552845528455287, null, 0.8097560975609757, 0.6130081300813008, null, 0.8097560975609757, 1.0, null, 0.0, 0.23414634146341465, null, 0.23414634146341465, 0.44552845528455287, null, 0.44552845528455287, 0.6130081300813008, null, 0.44552845528455287, 0.624390243902439, null, 0.44552845528455287, 0.26991869918699185, null, 0.44552845528455287, 0.5138211382113821, null, 0.6130081300813008, 0.624390243902439, null, 1.0, 0.9951219512195122, null, 1.0, 0.8357723577235773, null, 0.624390243902439, 0.8357723577235773, null, 0.8357723577235773, 0.7626016260162601, null, 0.9951219512195122, 0.7626016260162601, null, 0.5138211382113821, 0.7626016260162601, null], \"y\": [1.0, 0.736734693877551, null, 0.8673469387755102, 0.6714285714285715, null, 0.736734693877551, 0.6714285714285715, null, 0.736734693877551, 0.4285714285714286, null, 0.6714285714285715, 0.5326530612244897, null, 0.6714285714285715, 0.44897959183673475, null, 0.5061224489795919, 0.48367346938775513, null, 0.48367346938775513, 0.4285714285714286, null, 0.4285714285714286, 0.5326530612244897, null, 0.4285714285714286, 0.33673469387755106, null, 0.4285714285714286, 0.2204081632653061, null, 0.4285714285714286, 0.09999999999999998, null, 0.5326530612244897, 0.33673469387755106, null, 0.44897959183673475, 0.17755102040816328, null, 0.44897959183673475, 0.2020408163265306, null, 0.33673469387755106, 0.2020408163265306, null, 0.2020408163265306, 0.0, null, 0.17755102040816328, 0.0, null, 0.09999999999999998, 0.0, null], \"type\": \"scatter\", \"uid\": \"6fc27358-c842-11e8-bd61-0005165e06fb\"}, {\"hoverinfo\": \"none\", \"marker\": {\"color\": \"rgb(255, 255, 255)\", \"line\": {\"color\": \"rgb(0, 0, 0)\", \"width\": 1}, \"size\": 10}, \"mode\": \"markers+text\", \"text\": [\"ginori\", \"lambertes\", \"albizzi\", \"guadagni\", \"pazzi\", \"salviati\", \"medici\", \"tornabuon\", \"bischeri\", \"ridolfi\", \"acciaiuol\", \"strozzi\", \"peruzzi\", \"barbadori\", \"castellan\"], \"textfont\": {\"color\": \"rgb(0, 0, 0)\"}, \"textposition\": \"top center\", \"x\": [0.5138211382113821, 0.9658536585365853, 0.5609756097560976, 0.8097560975609757, 0.0, 0.23414634146341465, 0.44552845528455287, 0.6130081300813008, 1.0, 0.624390243902439, 0.26991869918699185, 0.8357723577235773, 0.9951219512195122, 0.5138211382113821, 0.7626016260162601], \"y\": [1.0, 0.8673469387755102, 0.736734693877551, 0.6714285714285715, 0.5061224489795919, 0.48367346938775513, 0.4285714285714286, 0.5326530612244897, 0.44897959183673475, 0.33673469387755106, 0.2204081632653061, 0.2020408163265306, 0.17755102040816328, 0.09999999999999998, 0.0], \"type\": \"scatter\", \"uid\": \"6fc27359-c842-11e8-bd61-0005165e06fb\"}], {\"height\": 450, \"margin\": {\"b\": 0, \"l\": 0, \"r\": 0, \"t\": 0}, \"showlegend\": false, \"width\": 800, \"xaxis\": {\"showgrid\": false, \"showticklabels\": false, \"zeroline\": false}, \"yaxis\": {\"showgrid\": false, \"showticklabels\": false, \"zeroline\": false}}, {\"showLink\": false, \"linkText\": \"Export to plot.ly\", \"displayModeBar\": false})});</script>"
      ],
      "text/vnd.plotly.v1+html": [
       "<div id=\"2ccf2866-3cb4-445f-b73a-3a3d2b2b6da1\" style=\"height: 450px; width: 800px;\" class=\"plotly-graph-div\"></div><script type=\"text/javascript\">require([\"plotly\"], function(Plotly) { window.PLOTLYENV=window.PLOTLYENV || {};window.PLOTLYENV.BASE_URL=\"https://plot.ly\";Plotly.newPlot(\"2ccf2866-3cb4-445f-b73a-3a3d2b2b6da1\", [{\"hoverinfo\": \"none\", \"line\": {\"color\": \"rgb(192, 192, 192)\", \"width\": 1}, \"mode\": \"lines\", \"x\": [0.5138211382113821, 0.5609756097560976, null, 0.9658536585365853, 0.8097560975609757, null, 0.5609756097560976, 0.8097560975609757, null, 0.5609756097560976, 0.44552845528455287, null, 0.8097560975609757, 0.6130081300813008, null, 0.8097560975609757, 1.0, null, 0.0, 0.23414634146341465, null, 0.23414634146341465, 0.44552845528455287, null, 0.44552845528455287, 0.6130081300813008, null, 0.44552845528455287, 0.624390243902439, null, 0.44552845528455287, 0.26991869918699185, null, 0.44552845528455287, 0.5138211382113821, null, 0.6130081300813008, 0.624390243902439, null, 1.0, 0.9951219512195122, null, 1.0, 0.8357723577235773, null, 0.624390243902439, 0.8357723577235773, null, 0.8357723577235773, 0.7626016260162601, null, 0.9951219512195122, 0.7626016260162601, null, 0.5138211382113821, 0.7626016260162601, null], \"y\": [1.0, 0.736734693877551, null, 0.8673469387755102, 0.6714285714285715, null, 0.736734693877551, 0.6714285714285715, null, 0.736734693877551, 0.4285714285714286, null, 0.6714285714285715, 0.5326530612244897, null, 0.6714285714285715, 0.44897959183673475, null, 0.5061224489795919, 0.48367346938775513, null, 0.48367346938775513, 0.4285714285714286, null, 0.4285714285714286, 0.5326530612244897, null, 0.4285714285714286, 0.33673469387755106, null, 0.4285714285714286, 0.2204081632653061, null, 0.4285714285714286, 0.09999999999999998, null, 0.5326530612244897, 0.33673469387755106, null, 0.44897959183673475, 0.17755102040816328, null, 0.44897959183673475, 0.2020408163265306, null, 0.33673469387755106, 0.2020408163265306, null, 0.2020408163265306, 0.0, null, 0.17755102040816328, 0.0, null, 0.09999999999999998, 0.0, null], \"type\": \"scatter\", \"uid\": \"6fc27358-c842-11e8-bd61-0005165e06fb\"}, {\"hoverinfo\": \"none\", \"marker\": {\"color\": \"rgb(255, 255, 255)\", \"line\": {\"color\": \"rgb(0, 0, 0)\", \"width\": 1}, \"size\": 10}, \"mode\": \"markers+text\", \"text\": [\"ginori\", \"lambertes\", \"albizzi\", \"guadagni\", \"pazzi\", \"salviati\", \"medici\", \"tornabuon\", \"bischeri\", \"ridolfi\", \"acciaiuol\", \"strozzi\", \"peruzzi\", \"barbadori\", \"castellan\"], \"textfont\": {\"color\": \"rgb(0, 0, 0)\"}, \"textposition\": \"top center\", \"x\": [0.5138211382113821, 0.9658536585365853, 0.5609756097560976, 0.8097560975609757, 0.0, 0.23414634146341465, 0.44552845528455287, 0.6130081300813008, 1.0, 0.624390243902439, 0.26991869918699185, 0.8357723577235773, 0.9951219512195122, 0.5138211382113821, 0.7626016260162601], \"y\": [1.0, 0.8673469387755102, 0.736734693877551, 0.6714285714285715, 0.5061224489795919, 0.48367346938775513, 0.4285714285714286, 0.5326530612244897, 0.44897959183673475, 0.33673469387755106, 0.2204081632653061, 0.2020408163265306, 0.17755102040816328, 0.09999999999999998, 0.0], \"type\": \"scatter\", \"uid\": \"6fc27359-c842-11e8-bd61-0005165e06fb\"}], {\"height\": 450, \"margin\": {\"b\": 0, \"l\": 0, \"r\": 0, \"t\": 0}, \"showlegend\": false, \"width\": 800, \"xaxis\": {\"showgrid\": false, \"showticklabels\": false, \"zeroline\": false}, \"yaxis\": {\"showgrid\": false, \"showticklabels\": false, \"zeroline\": false}}, {\"showLink\": false, \"linkText\": \"Export to plot.ly\", \"displayModeBar\": false})});</script>"
      ]
     },
     "metadata": {},
     "output_type": "display_data"
    }
   ],
   "source": [
    "g = sn.load_graph('Renaissance.gml', has_pos=True)\n",
    "\n",
    "sn.show_graph(g, nlab=True)"
   ]
  },
  {
   "cell_type": "markdown",
   "metadata": {},
   "source": [
    "Função que registra, em cada nó, seus sucessores em geodésicas de $s$ a $t$."
   ]
  },
  {
   "cell_type": "code",
   "execution_count": 5,
   "metadata": {},
   "outputs": [],
   "source": [
    "def set_geodesic_successors(g, s, t):\n",
    "    for n in g.nodes:\n",
    "        g.nodes[n]['geodesic_successors'] = set()\n",
    "\n",
    "    for p in nx.all_shortest_paths(g, s, t):\n",
    "        for i in range(len(p) - 1):\n",
    "            g.nodes[p[i]]['geodesic_successors'].add(p[i + 1])"
   ]
  },
  {
   "cell_type": "markdown",
   "metadata": {},
   "source": [
    "Funções que representam uma escolha aleatória de sucessor para diferentes tipos de trajetórias."
   ]
  },
  {
   "cell_type": "code",
   "execution_count": 6,
   "metadata": {},
   "outputs": [],
   "source": [
    "# Pense que o atributo 'passages' abaixo indica quantas\n",
    "# vezes um fluxo já passou por um nó ou por uma aresta.\n",
    "\n",
    "def random_geodesic_successor(g, n):\n",
    "    return choice([m for m in g.nodes[n]['geodesic_successors']])\n",
    "\n",
    "def random_path_successor(g, n):\n",
    "    return choice([m for m in g.neighbors(n) if g.nodes[m]['passages'] == 0])\n",
    "\n",
    "def random_trail_successor(g, n):\n",
    "    return choice([m for m in g.neighbors(n) if g.edges[n, m]['passages'] == 0])\n",
    "\n",
    "def random_walk_successor(g, n):\n",
    "    return choice([m for m in g.neighbors(n)])"
   ]
  },
  {
   "cell_type": "markdown",
   "metadata": {},
   "source": [
    "Função que faz uma simulação de fluxo de $s$ a $t$, que pode ou não ser bem-sucedida."
   ]
  },
  {
   "cell_type": "code",
   "execution_count": 7,
   "metadata": {},
   "outputs": [],
   "source": [
    "def simulate_single_flow(g, s, t, func, dup):\n",
    "    # Inicializa o atributo 'passages' de cada nó.\n",
    "    for n in g.nodes:\n",
    "        g.nodes[n]['passages'] = 0\n",
    "    g.nodes[s]['passages'] = 1\n",
    "\n",
    "    # Inicializa o atributo 'passages' de cada aresta.\n",
    "    for n, m in g.edges:\n",
    "        g.edges[n, m]['passages'] = 0\n",
    "\n",
    "    # Inicializa s como o único dono do insumo.\n",
    "    for n in g.nodes:\n",
    "        g.nodes[n]['owner'] = False\n",
    "    g.nodes[s]['owner'] = True\n",
    "\n",
    "    # Simula o fluxo, contando o número total de passos.\n",
    "    steps = 0\n",
    "\n",
    "    while True:\n",
    "        # O conjunto reached representa todos os nós\n",
    "        # que o fluxo consegue alcançar no passo atual.\n",
    "        reached = set()\n",
    "\n",
    "        # Verifica cada um dos donos atuais do insumo.\n",
    "        owners = [n for n in g.nodes if g.nodes[n]['owner']]\n",
    "\n",
    "        for n in owners:\n",
    "            # Escolhe aleatoriamente um dos sucessores.\n",
    "            try:\n",
    "                if ( func == 'geo'):\n",
    "                    m = random_geodesic_successor(g, n)\n",
    "                elif (func == 'path'):\n",
    "                    m = random_path_successor(g, n)\n",
    "                elif (func == 'trail'):\n",
    "                    m = random_trail_successor(g, n)\n",
    "                else:\n",
    "                     m = random_walk_successor(g, n)\n",
    "            except IndexError:\n",
    "                continue\n",
    "\n",
    "            # Deixa de ser dono do insumo.\n",
    "            if dup == 'dup':\n",
    "                g.nodes[n]['owner'] = True\n",
    "            else:\n",
    "                g.nodes[n]['owner'] = False\n",
    "\n",
    "            # Incrementa o atributo 'passages' do nó.\n",
    "            g.nodes[m]['passages'] += 1\n",
    "\n",
    "            # Incrementa o atributo 'passages' da aresta.\n",
    "            g.edges[n, m]['passages'] += 1\n",
    "\n",
    "            # Registra que consegue alcançar esse nó.\n",
    "            reached.add(m)\n",
    "\n",
    "        # Todo nó alcançado passa a ser dono do insumo.\n",
    "        for n in reached:\n",
    "            g.nodes[n]['owner'] = True\n",
    "\n",
    "        # Isso conclui o passo atual da simulação.\n",
    "        steps += 1\n",
    "\n",
    "        # Se o passo alcançou t, chegamos ao fim da simulação.\n",
    "        # Ela foi bem-sucedida: devolvemos o número de passos.\n",
    "        if t in reached:\n",
    "            return steps\n",
    "\n",
    "        # Se o passo não alcançou ninguém, chegamos ao fim da\n",
    "        # simulação. Ela não foi bem-sucedida: devolvemos -1.\n",
    "        if not reached:\n",
    "            return -1"
   ]
  },
  {
   "cell_type": "markdown",
   "metadata": {},
   "source": [
    "Função que faz simulações de fluxo de $s$ a $t$ até uma ser bem-sucedida."
   ]
  },
  {
   "cell_type": "code",
   "execution_count": 8,
   "metadata": {},
   "outputs": [],
   "source": [
    "def simulate_successful_flow(g, s, t, func, dup):\n",
    "    set_geodesic_successors(g, s, t)\n",
    "\n",
    "    while True:\n",
    "        steps = simulate_single_flow(g, s, t, func, dup)\n",
    "\n",
    "        if steps != -1:\n",
    "            return steps"
   ]
  },
  {
   "cell_type": "markdown",
   "metadata": {},
   "source": [
    "Função que faz simulações de fluxo para todo $s$ e $t$ possíveis, e tira disso um *closeness simulado* e um *betweenness simulado*."
   ]
  },
  {
   "cell_type": "code",
   "execution_count": 9,
   "metadata": {},
   "outputs": [],
   "source": [
    "def simulate_all_flows(g, func, dup):\n",
    "    for n in g.nodes:\n",
    "        g.nodes[n]['closeness'] = 0\n",
    "        g.nodes[n]['betweenness'] = 0\n",
    "\n",
    "    for s, t in permutations(g.nodes, 2):\n",
    "        steps = simulate_successful_flow(g, s, t, func, dup)\n",
    "\n",
    "        g.nodes[s]['closeness'] += steps\n",
    "        for n in g.nodes:\n",
    "            if n != s and n != t:\n",
    "                g.nodes[n]['betweenness'] += g.nodes[n]['passages']\n",
    "\n",
    "    # Normalizações necessárias para comparar com os\n",
    "    # resultados analíticos. Não é preciso entender.\n",
    "    for n in g.nodes:\n",
    "        g.nodes[n]['closeness'] = (g.number_of_nodes() - 1) / g.nodes[n]['closeness']\n",
    "        g.nodes[n]['betweenness'] /= (g.number_of_nodes() - 1) * (g.number_of_nodes() - 2)"
   ]
  },
  {
   "cell_type": "markdown",
   "metadata": {},
   "source": [
    "Média de *closeness simulado* e *betweenness simulado* para muitas repetições da simulação acima."
   ]
  },
  {
   "cell_type": "code",
   "execution_count": 10,
   "metadata": {},
   "outputs": [],
   "source": [
    "def main(tipo, dup):\n",
    "    TIMES = 100\n",
    "    \n",
    "    #Dicionário com valores de centralidade (closeness e betweenness) para todas as famíilas (porém de apenas um trajetória e com ou sem duplicação)\n",
    "    list_dict = {}\n",
    "\n",
    "    for n in g.nodes:\n",
    "#         g.nodes[n]['clos_list'] = []\n",
    "#         g.nodes[n]['bet_list'] =[]\n",
    "        \n",
    "        clos_list = []\n",
    "        bet_list = []\n",
    "#         list_dict[g.nodes[n]['label']+'_clos_'+tipo+'_'+dup+'_list'] = g.nodes[n]['clos_list']\n",
    "#         list_dict[g.nodes[n]['label']+'_bet_'+tipo+'_'+dup+'_list'] = g.nodes[n]['bet_list']\n",
    "        list_dict[g.nodes[n]['label']+'_clos_'+tipo+'_'+dup+'_list'] = clos_list\n",
    "        list_dict[g.nodes[n]['label']+'_bet_'+tipo+'_'+dup+'_list'] = bet_list\n",
    "#         print (g.nodes[n]['label']+'_bet_'+tipo+'_'+dup+'_list')\n",
    "\n",
    "    for _ in range(TIMES):\n",
    "        simulate_all_flows(g, tipo, dup)\n",
    "\n",
    "        for n in g.nodes:\n",
    "            list_dict[g.nodes[n]['label']+'_clos_'+tipo+'_'+dup+'_list'].append(g.nodes[n]['closeness'])\n",
    "            list_dict[g.nodes[n]['label']+'_bet_'+tipo+'_'+dup+'_list'].append(g.nodes[n]['betweenness'])\n",
    "#             clos_list.append(g.nodes[n]['closeness'])\n",
    "#             bet_list.append(g.nodes[n]['betweenness'])\n",
    "\n",
    "#             print(list_dict['medici_clos_geo_dup_list'])\n",
    "\n",
    "    return (list_dict)"
   ]
  },
  {
   "cell_type": "code",
   "execution_count": 11,
   "metadata": {},
   "outputs": [],
   "source": [
    "m = main('geo','notdup')"
   ]
  },
  {
   "cell_type": "markdown",
   "metadata": {},
   "source": [
    "Cálculo de *closeness* e *betweenness* a partir das funções prontas da NetworkX, para comparação."
   ]
  },
  {
   "cell_type": "code",
   "execution_count": 12,
   "metadata": {},
   "outputs": [],
   "source": [
    "# cc = nx.closeness_centrality(g)\n",
    "\n",
    "# bc = nx.betweenness_centrality(g)"
   ]
  },
  {
   "cell_type": "markdown",
   "metadata": {},
   "source": [
    "Construção de data frame só para comparar mais facilmente."
   ]
  },
  {
   "cell_type": "code",
   "execution_count": 13,
   "metadata": {},
   "outputs": [],
   "source": [
    "# pd.DataFrame({\n",
    "#     'família': [g.nodes[n]['label'] for n in g.nodes],\n",
    "#     'closeness simulado': [g.nodes[n]['mean_closeness'] for n in g.nodes],\n",
    "#     'closeness analítico': [cc[n] for n in g.nodes],\n",
    "#     'betweenness simulado': [g.nodes[n]['mean_betweenness'] for n in g.nodes],\n",
    "#     'betweenness analítico': [bc[n] for n in g.nodes],\n",
    "# })"
   ]
  },
  {
   "cell_type": "markdown",
   "metadata": {},
   "source": [
    "E agora, vamos pensar um pouco...\n",
    "\n",
    "* Onde você precisa mudar o código para usar uma *trajetória* que não seja a *geodésica*? (caminho, trilha, passeio)\n",
    "\n",
    "* Onde você precisa mudar o código para usar uma *difusão* que não seja a *transferência*? (duplicação)\n",
    "\n",
    "Considere então a seguinte **hipótese**:\n",
    "\n",
    ">Quando consideramos outros tipos de trajetória e outros tipos de difusão, os nós com maior *closeness simulado* e *betweenness simulado* não são necessariamente os nós com maior *closeness* e *betweenness* segundo as fórmulas clássicas. (que correspondem ao uso de geodésica e transferência na simulação)\n",
    "\n",
    "Queremos:\n",
    "\n",
    "1. Operacionalização e teste dessas hipótese. (Objetivo 3)\n",
    "2. Interpretação dos resultados na linguagem de Análise de Redes Sociais (Objetivo 4)\n",
    "\n",
    "Um *feedback* da atividade sobre *coreness no Jazz* será dado em breve, para vocês terem uma melhor referência do item 2."
   ]
  },
  {
   "cell_type": "markdown",
   "metadata": {},
   "source": [
    "Montando dicionários com os valores de centralidade (closeness e betweenness) para cada amostra (todas as famílias sendo testadas com todos os tipos de trajetória ora tendo transferência, ora não)"
   ]
  },
  {
   "cell_type": "code",
   "execution_count": 14,
   "metadata": {
    "scrolled": true
   },
   "outputs": [],
   "source": [
    "all_dict = {}\n",
    "\n",
    "all_dict['dup_geo_bet_clos_dict'] = main('geo','dup')\n",
    "all_dict['dup_path_bet_clos_dict'] = main('path','dup')\n",
    "all_dict['dup_trail_bet_clos_dict'] = main('trail','dup')\n",
    "all_dict['dup_walk_bet_clos_dict'] = main('walk','dup')\n",
    "all_dict['notdup_geo_bet_clos_dict'] = main('geo','notdup')\n",
    "all_dict['notdup_path_bet_clos_dict']= main('path','notdup')\n",
    "all_dict['notdup_trail_bet_clos_dict'] = main('trail','notdup')\n",
    "all_dict['notdup_walk_bet_clos_dict'] = main('walk','notdup')\n"
   ]
  },
  {
   "cell_type": "markdown",
   "metadata": {},
   "source": [
    "Analisando as listas dos valores de centralidade nos diferentes casos com os valores padrão (valores de centralidade utilizando geodésica com transferência)"
   ]
  },
  {
   "cell_type": "code",
   "execution_count": 45,
   "metadata": {
    "scrolled": true
   },
   "outputs": [
    {
     "name": "stdout",
     "output_type": "stream",
     "text": [
      "P-value de: ginori notdup geo clos COM: ginori dup geo clos          1.0 t-value:  0.0\n",
      "P-value de: ginori dup path clos COM: ginori dup geo clos          5.35930967137217e-159 t-value:  -86.23943945073403\n",
      "P-value de: ginori notdup path clos COM: ginori dup geo clos          9.576683773094161e-113 t-value:  -49.05731035000334\n",
      "P-value de: ginori dup trail clos COM: ginori dup geo clos          2.2080526506368615e-150 t-value:  -77.78871776488589\n",
      "P-value de: ginori notdup trail clos COM: ginori dup geo clos          1.2119741796010241e-106 t-value:  -45.41063033273417\n",
      "P-value de: ginori dup walk clos COM: ginori dup geo clos          9.146892324174714e-184 t-value:  -115.69113281043695\n",
      "P-value de: ginori notdup walk clos COM: ginori dup geo clos          1.745141839978688e-251 t-value:  -255.76276403337044\n",
      "P-value de: lambertes notdup geo clos COM: lambertes dup geo clos          1.0 t-value:  0.0\n",
      "P-value de: lambertes dup path clos COM: lambertes dup geo clos          6.336583227432351e-155 t-value:  -82.14181723454342\n",
      "P-value de: lambertes notdup path clos COM: lambertes dup geo clos          1.5639221430431348e-108 t-value:  -46.51456481690532\n",
      "P-value de: lambertes dup trail clos COM: lambertes dup geo clos          3.612111900025696e-158 t-value:  -85.3903631843021\n",
      "P-value de: lambertes notdup trail clos COM: lambertes dup geo clos          1.2642099341429007e-96 t-value:  -39.90708549874449\n",
      "P-value de: lambertes dup walk clos COM: lambertes dup geo clos          8.3940165387601e-169 t-value:  -96.91622714700664\n",
      "P-value de: lambertes notdup walk clos COM: lambertes dup geo clos          5.272293714434069e-256 t-value:  -269.60627458253646\n",
      "P-value de: albizzi notdup geo clos COM: albizzi dup geo clos          1.0 t-value:  0.0\n",
      "P-value de: albizzi dup path clos COM: albizzi dup geo clos          5.661429108821468e-196 t-value:  -133.5817120254324\n",
      "P-value de: albizzi notdup path clos COM: albizzi dup geo clos          1.718556820146364e-121 t-value:  -54.71697167932072\n",
      "P-value de: albizzi dup trail clos COM: albizzi dup geo clos          2.617058623851698e-194 t-value:  -130.99170996813356\n",
      "P-value de: albizzi notdup trail clos COM: albizzi dup geo clos          1.2688009651688828e-122 t-value:  -55.48924950392006\n",
      "P-value de: albizzi dup walk clos COM: albizzi dup geo clos          3.0164300733045356e-192 t-value:  -127.85237358303812\n",
      "P-value de: albizzi notdup walk clos COM: albizzi dup geo clos          2.2126308551093854e-279 t-value:  -354.03223890338876\n",
      "P-value de: guadagni notdup geo clos COM: guadagni dup geo clos          1.0 t-value:  0.0\n",
      "P-value de: guadagni dup path clos COM: guadagni dup geo clos          1.569564934918424e-184 t-value:  -116.74078200521899\n",
      "P-value de: guadagni notdup path clos COM: guadagni dup geo clos          9.02547738044554e-109 t-value:  -46.655640686020476\n",
      "P-value de: guadagni dup trail clos COM: guadagni dup geo clos          2.3276509239906467e-185 t-value:  -117.8877528873216\n",
      "P-value de: guadagni notdup trail clos COM: guadagni dup geo clos          1.3267012320133653e-126 t-value:  -58.28244354769798\n",
      "P-value de: guadagni dup walk clos COM: guadagni dup geo clos          1.4589001752881251e-192 t-value:  -128.32793227684948\n",
      "P-value de: guadagni notdup walk clos COM: guadagni dup geo clos          4.472222022813841e-283 t-value:  -369.5978411898801\n",
      "P-value de: pazzi notdup geo clos COM: pazzi dup geo clos          1.0 t-value:  0.0\n",
      "P-value de: pazzi dup path clos COM: pazzi dup geo clos          3.037370015878917e-145 t-value:  -73.124926917327\n",
      "P-value de: pazzi notdup path clos COM: pazzi dup geo clos          5.634018759081979e-115 t-value:  -50.450420177447114\n",
      "P-value de: pazzi dup trail clos COM: pazzi dup geo clos          1.983730183714582e-149 t-value:  -76.90286607026152\n",
      "P-value de: pazzi notdup trail clos COM: pazzi dup geo clos          3.359184345150264e-92 t-value:  -37.65088748638538\n",
      "P-value de: pazzi dup walk clos COM: pazzi dup geo clos          2.0373492582304265e-179 t-value:  -109.90087894199549\n",
      "P-value de: pazzi notdup walk clos COM: pazzi dup geo clos          1.4764397399825476e-238 t-value:  -219.94696897999356\n",
      "P-value de: salviati notdup geo clos COM: salviati dup geo clos          1.0 t-value:  0.0\n",
      "P-value de: salviati dup path clos COM: salviati dup geo clos          3.207443518794319e-188 t-value:  -121.93124681032894\n",
      "P-value de: salviati notdup path clos COM: salviati dup geo clos          7.86924623838279e-107 t-value:  -45.51924453013266\n",
      "P-value de: salviati dup trail clos COM: salviati dup geo clos          4.335175383476107e-189 t-value:  -123.1862532672869\n",
      "P-value de: salviati notdup trail clos COM: salviati dup geo clos          3.745780379806843e-110 t-value:  -47.479274034489556\n",
      "P-value de: salviati dup walk clos COM: salviati dup geo clos          5.92012077242873e-194 t-value:  -130.44657434494334\n",
      "P-value de: salviati notdup walk clos COM: salviati dup geo clos          8.166235336159464e-271 t-value:  -320.405006155105\n",
      "P-value de: medici notdup geo clos COM: medici dup geo clos          1.0 t-value:  0.0\n",
      "P-value de: medici dup path clos COM: medici dup geo clos          9.250677801233954e-187 t-value:  -119.85103734376486\n",
      "P-value de: medici notdup path clos COM: medici dup geo clos          1.0204462896472113e-101 t-value:  -42.63349008206231\n",
      "P-value de: medici dup trail clos COM: medici dup geo clos          3.521073412542701e-182 t-value:  -113.5462804610916\n",
      "P-value de: medici notdup trail clos COM: medici dup geo clos          2.85353605556594e-127 t-value:  -58.76276825847682\n",
      "P-value de: medici dup walk clos COM: medici dup geo clos          6.783625246513913e-202 t-value:  -143.20613139145527\n",
      "P-value de: medici notdup walk clos COM: medici dup geo clos          4.1460974281714474e-297 t-value:  -435.20088325839896\n",
      "P-value de: tornabuon notdup geo clos COM: tornabuon dup geo clos          1.0 t-value:  0.0\n",
      "P-value de: tornabuon dup path clos COM: tornabuon dup geo clos          3.13853475231587e-194 t-value:  -130.8701735936696\n",
      "P-value de: tornabuon notdup path clos COM: tornabuon dup geo clos          7.47807340325764e-132 t-value:  -62.15698733065687\n",
      "P-value de: tornabuon dup trail clos COM: tornabuon dup geo clos          2.3222468642612274e-186 t-value:  -119.28754928970355\n",
      "P-value de: tornabuon notdup trail clos COM: tornabuon dup geo clos          1.5036302199159617e-140 t-value:  -69.09240293346974\n",
      "P-value de: tornabuon dup walk clos COM: tornabuon dup geo clos          3.0580613380213487e-183 t-value:  -114.97767725138743\n",
      "P-value de: tornabuon notdup walk clos COM: tornabuon dup geo clos          1.1083169125044783e-284 t-value:  -376.57484641348043\n",
      "P-value de: bischeri notdup geo clos COM: bischeri dup geo clos          1.0 t-value:  0.0\n",
      "P-value de: bischeri dup path clos COM: bischeri dup geo clos          1.6963551965266758e-169 t-value:  -97.7185000857701\n",
      "P-value de: bischeri notdup path clos COM: bischeri dup geo clos          1.6114227848342563e-110 t-value:  -47.69964121002338\n",
      "P-value de: bischeri dup trail clos COM: bischeri dup geo clos          2.699969507613238e-169 t-value:  -97.48466587953907\n",
      "P-value de: bischeri notdup trail clos COM: bischeri dup geo clos          4.416474328715804e-130 t-value:  -60.82442138659636\n",
      "P-value de: bischeri dup walk clos COM: bischeri dup geo clos          5.684567970591411e-177 t-value:  -106.76824314434843\n",
      "P-value de: bischeri notdup walk clos COM: bischeri dup geo clos          3.8529622733462546e-258 t-value:  -276.4059794468101\n",
      "P-value de: ridolfi notdup geo clos COM: ridolfi dup geo clos          1.0 t-value:  0.0\n",
      "P-value de: ridolfi dup path clos COM: ridolfi dup geo clos          1.4510479663616277e-189 t-value:  -123.87790950488207\n",
      "P-value de: ridolfi notdup path clos COM: ridolfi dup geo clos          3.423538168736159e-135 t-value:  -64.74121765014617\n",
      "P-value de: ridolfi dup trail clos COM: ridolfi dup geo clos          3.020380113209693e-186 t-value:  -119.12710629724903\n",
      "P-value de: ridolfi notdup trail clos COM: ridolfi dup geo clos          1.4606813077998228e-140 t-value:  -69.10293330867069\n",
      "P-value de: ridolfi dup walk clos COM: ridolfi dup geo clos          6.547141736874133e-210 t-value:  -157.32508238919777\n",
      "P-value de: ridolfi notdup walk clos COM: ridolfi dup geo clos          3.732147929930749e-281 t-value:  -361.41892751746303\n",
      "P-value de: acciaiuol notdup geo clos COM: acciaiuol dup geo clos          1.0 t-value:  0.0\n",
      "P-value de: acciaiuol dup path clos COM: acciaiuol dup geo clos          1.9612065795137965e-161 t-value:  -88.78274274743609\n",
      "P-value de: acciaiuol notdup path clos COM: acciaiuol dup geo clos          2.389201904055378e-105 t-value:  -44.666660246866776\n",
      "P-value de: acciaiuol dup trail clos COM: acciaiuol dup geo clos          1.206421927348602e-156 t-value:  -83.84969403309624\n",
      "P-value de: acciaiuol notdup trail clos COM: acciaiuol dup geo clos          1.2433634965677986e-115 t-value:  -50.86667732890405\n",
      "P-value de: acciaiuol dup walk clos COM: acciaiuol dup geo clos          1.0889562836361934e-165 t-value:  -93.39676515376807\n",
      "P-value de: acciaiuol notdup walk clos COM: acciaiuol dup geo clos          2.363747982789624e-253 t-value:  -261.3970161781404\n",
      "P-value de: strozzi notdup geo clos COM: strozzi dup geo clos          1.0 t-value:  0.0\n",
      "P-value de: strozzi dup path clos COM: strozzi dup geo clos          5.545413021407649e-174 t-value:  -103.05631272031388\n",
      "P-value de: strozzi notdup path clos COM: strozzi dup geo clos          1.8751185028854194e-134 t-value:  -64.16141383675765\n",
      "P-value de: strozzi dup trail clos COM: strozzi dup geo clos          8.098321666944933e-184 t-value:  -115.76334443324346\n",
      "P-value de: strozzi notdup trail clos COM: strozzi dup geo clos          4.6299353394912446e-147 t-value:  -74.74334921766938\n",
      "P-value de: strozzi dup walk clos COM: strozzi dup geo clos          6.1869857290936974e-186 t-value:  -118.69047376082999\n",
      "P-value de: strozzi notdup walk clos COM: strozzi dup geo clos          1.6133961511250377e-274 t-value:  -334.5354755610667\n",
      "P-value de: peruzzi notdup geo clos COM: peruzzi dup geo clos          1.0 t-value:  0.0\n",
      "P-value de: peruzzi dup path clos COM: peruzzi dup geo clos          5.512784391574132e-170 t-value:  -98.28624454562205\n",
      "P-value de: peruzzi notdup path clos COM: peruzzi dup geo clos          6.395873185994379e-118 t-value:  -52.34166841862912\n",
      "P-value de: peruzzi dup trail clos COM: peruzzi dup geo clos          7.489429369436749e-162 t-value:  -89.22623149660879\n",
      "P-value de: peruzzi notdup trail clos COM: peruzzi dup geo clos          1.3994871101481037e-99 t-value:  -41.4719919715159\n",
      "P-value de: peruzzi dup walk clos COM: peruzzi dup geo clos          9.585707665020528e-171 t-value:  -99.1761834352227\n",
      "P-value de: peruzzi notdup walk clos COM: peruzzi dup geo clos          7.523063244397684e-269 t-value:  -313.15455759087376\n",
      "P-value de: barbadori notdup geo clos COM: barbadori dup geo clos          nan t-value:  nan\n",
      "P-value de: barbadori dup path clos COM: barbadori dup geo clos          5.738361390421815e-162 t-value:  -89.34929496466303\n",
      "P-value de: barbadori notdup path clos COM: barbadori dup geo clos          2.9447812523413267e-136 t-value:  -65.58603765607965\n",
      "P-value de: barbadori dup trail clos COM: barbadori dup geo clos          2.0668798621159356e-166 t-value:  -94.20161963197216\n",
      "P-value de: barbadori notdup trail clos COM: barbadori dup geo clos          4.0591756676880036e-115 t-value:  -50.54048676122827\n",
      "P-value de: barbadori dup walk clos COM: barbadori dup geo clos          9.215550671204326e-172 t-value:  -100.37970695542795\n",
      "P-value de: barbadori notdup walk clos COM: barbadori dup geo clos          3.217909838425776e-275 t-value:  -337.2753107811516\n",
      "P-value de: castellan notdup geo clos COM: castellan dup geo clos          1.0 t-value:  0.0\n",
      "P-value de: castellan dup path clos COM: castellan dup geo clos          1.5216209865988152e-170 t-value:  -98.94036246954286\n",
      "P-value de: castellan notdup path clos COM: castellan dup geo clos          3.1757667896644604e-109 t-value:  -46.9246722348798\n",
      "P-value de: castellan dup trail clos COM: castellan dup geo clos          1.3470908992807672e-173 t-value:  -102.58681401368226\n",
      "P-value de: castellan notdup trail clos COM: castellan dup geo clos          4.997482279406228e-122 t-value:  -55.0818147990511\n",
      "P-value de: castellan dup walk clos COM: castellan dup geo clos          6.569191856126593e-175 t-value:  -104.19319075377533\n",
      "P-value de: castellan notdup walk clos COM: castellan dup geo clos          1.0447415725172697e-281 t-value:  -363.75398048113857\n",
      "P-value de: ginori notdup geo bet COM: ginori dup geo bet          nan t-value:  nan\n",
      "P-value de: ginori dup path bet COM: ginori dup geo bet          4.48769582534071e-198 t-value:  136.92158581157693\n",
      "P-value de: ginori notdup path bet COM: ginori dup geo bet          nan t-value:  nan\n",
      "P-value de: ginori dup trail bet COM: ginori dup geo bet          1.5655641159368782e-195 t-value:  132.8896666133349\n",
      "P-value de: ginori notdup trail bet COM: ginori dup geo bet          nan t-value:  nan\n",
      "P-value de: ginori dup walk bet COM: ginori dup geo bet          1.7602292995127464e-154 t-value:  81.70667809428181\n",
      "P-value de: ginori notdup walk bet COM: ginori dup geo bet          3.385540635804614e-131 t-value:  61.66055364876369\n",
      "P-value de: lambertes notdup geo bet COM: lambertes dup geo bet          nan t-value:  nan\n",
      "P-value de: lambertes dup path bet COM: lambertes dup geo bet          6.4973264423420914e-198 t-value:  136.66323666440456\n",
      "P-value de: lambertes notdup path bet COM: lambertes dup geo bet          nan t-value:  nan\n",
      "P-value de: lambertes dup trail bet COM: lambertes dup geo bet          6.366689925357764e-193 t-value:  128.87290199922535\n",
      "P-value de: lambertes notdup trail bet COM: lambertes dup geo bet          nan t-value:  nan\n",
      "P-value de: lambertes dup walk bet COM: lambertes dup geo bet          1.0494994361175657e-158 t-value:  85.93946332880076\n",
      "P-value de: lambertes notdup walk bet COM: lambertes dup geo bet          1.8096997519276407e-126 t-value:  58.18582889644358\n",
      "P-value de: albizzi notdup geo bet COM: albizzi dup geo bet          7.314554195650036e-195 t-value:  -131.8474679302648\n",
      "P-value de: albizzi dup path bet COM: albizzi dup geo bet          1.4454846409811933e-27 t-value:  12.7474496097044\n",
      "P-value de: albizzi notdup path bet COM: albizzi dup geo bet          8.321198883751981e-184 t-value:  -115.74723886580496\n",
      "P-value de: albizzi dup trail bet COM: albizzi dup geo bet          4.958524173434549e-73 t-value:  28.928484498942193\n",
      "P-value de: albizzi notdup trail bet COM: albizzi dup geo bet          8.882200165666829e-162 t-value:  -89.14750361010621\n",
      "P-value de: albizzi dup walk bet COM: albizzi dup geo bet          8.381514646315899e-148 t-value:  75.41405730575998\n",
      "P-value de: albizzi notdup walk bet COM: albizzi dup geo bet          4.1507348124785603e-138 t-value:  67.07768683294742\n",
      "P-value de: guadagni notdup geo bet COM: guadagni dup geo bet          1.0937307118603246e-218 t-value:  -174.3596049148441\n",
      "P-value de: guadagni dup path bet COM: guadagni dup geo bet          1.927238428747777e-45 t-value:  18.638633140657166\n",
      "P-value de: guadagni notdup path bet COM: guadagni dup geo bet          8.802999993583013e-152 t-value:  -79.10618276758933\n",
      "P-value de: guadagni dup trail bet COM: guadagni dup geo bet          2.4282004044831765e-113 t-value:  49.42628072133485\n",
      "P-value de: guadagni notdup trail bet COM: guadagni dup geo bet          2.4173714957265933e-143 t-value:  -71.46663637395056\n",
      "P-value de: guadagni dup walk bet COM: guadagni dup geo bet          2.0037392319749368e-160 t-value:  87.72069342037763\n",
      "P-value de: guadagni notdup walk bet COM: guadagni dup geo bet          1.4697431858312984e-145 t-value:  73.40338317856568\n",
      "P-value de: pazzi notdup geo bet COM: pazzi dup geo bet          nan t-value:  nan\n",
      "P-value de: pazzi dup path bet COM: pazzi dup geo bet          2.352770939584227e-172 t-value:  101.08779305736584\n",
      "P-value de: pazzi notdup path bet COM: pazzi dup geo bet          nan t-value:  nan\n",
      "P-value de: pazzi dup trail bet COM: pazzi dup geo bet          4.951331875870086e-185 t-value:  117.43283734427291\n",
      "P-value de: pazzi notdup trail bet COM: pazzi dup geo bet          nan t-value:  nan\n",
      "P-value de: pazzi dup walk bet COM: pazzi dup geo bet          2.629489202282495e-134 t-value:  64.04669869133183\n",
      "P-value de: pazzi notdup walk bet COM: pazzi dup geo bet          1.3172413791722514e-121 t-value:  54.7953488571046\n",
      "P-value de: salviati notdup geo bet COM: salviati dup geo bet          0.0 t-value:  -2.1140838588969296e+16\n",
      "P-value de: salviati dup path bet COM: salviati dup geo bet          5.464524782166403e-23 t-value:  11.239340870701703\n",
      "P-value de: salviati notdup path bet COM: salviati dup geo bet          0.0 t-value:  -2.1140838588969296e+16\n",
      "P-value de: salviati dup trail bet COM: salviati dup geo bet          2.0554248982293603e-08 t-value:  5.845286366173157\n",
      "P-value de: salviati notdup trail bet COM: salviati dup geo bet          0.0 t-value:  -2.1140838588969296e+16\n",
      "P-value de: salviati dup walk bet COM: salviati dup geo bet          3.143902735851425e-137 t-value:  66.36520494461742\n",
      "P-value de: salviati notdup walk bet COM: salviati dup geo bet          4.266703287134597e-131 t-value:  61.584824275026655\n",
      "P-value de: medici notdup geo bet COM: medici dup geo bet          1.8189160033010833e-291 t-value:  -407.5325185416284\n",
      "P-value de: medici dup path bet COM: medici dup geo bet          5.5661994409723786e-238 t-value:  -218.471718108472\n",
      "P-value de: medici notdup path bet COM: medici dup geo bet          5.896148658523616e-246 t-value:  -239.78645095099256\n",
      "P-value de: medici dup trail bet COM: medici dup geo bet          2.219012525592629e-65 t-value:  -25.852782150081207\n",
      "P-value de: medici notdup trail bet COM: medici dup geo bet          5.473766168812582e-217 t-value:  -170.92533195402814\n",
      "P-value de: medici dup walk bet COM: medici dup geo bet          5.376338818286079e-165 t-value:  92.62957679928992\n",
      "P-value de: medici notdup walk bet COM: medici dup geo bet          1.2532537368708464e-151 t-value:  78.96073923922398\n",
      "P-value de: tornabuon notdup geo bet COM: tornabuon dup geo bet          2.9324184137157017e-126 t-value:  -58.035909492144036\n",
      "P-value de: tornabuon dup path bet COM: tornabuon dup geo bet          4.2276999211917585e-191 t-value:  126.13833388683531\n",
      "P-value de: tornabuon notdup path bet COM: tornabuon dup geo bet          1.4614551849042948e-52 t-value:  21.103585048505895\n",
      "P-value de: tornabuon dup trail bet COM: tornabuon dup geo bet          2.3502472573874963e-199 t-value:  138.99786459566337\n",
      "P-value de: tornabuon notdup trail bet COM: tornabuon dup geo bet          1.3077199461522242e-42 t-value:  17.68437438524658\n",
      "P-value de: tornabuon dup walk bet COM: tornabuon dup geo bet          1.1083464559863567e-169 t-value:  97.93311089209942\n",
      "P-value de: tornabuon notdup walk bet COM: tornabuon dup geo bet          3.1169024526574075e-158 t-value:  85.45569599633824\n",
      "P-value de: bischeri notdup geo bet COM: bischeri dup geo bet          2.427701064602275e-191 t-value:  -126.49659165816594\n",
      "P-value de: bischeri dup path bet COM: bischeri dup geo bet          2.9544870415019056e-189 t-value:  123.428137679868\n",
      "P-value de: bischeri notdup path bet COM: bischeri dup geo bet          1.4104759124986268e-31 t-value:  14.054994720093218\n",
      "P-value de: bischeri dup trail bet COM: bischeri dup geo bet          6.151561738627973e-183 t-value:  114.56648223659032\n",
      "P-value de: bischeri notdup trail bet COM: bischeri dup geo bet          5.81667074253088e-16 t-value:  8.823609697873833\n",
      "P-value de: bischeri dup walk bet COM: bischeri dup geo bet          1.4813379263614075e-166 t-value:  94.36374579380453\n",
      "P-value de: bischeri notdup walk bet COM: bischeri dup geo bet          2.2510452350967333e-144 t-value:  72.36166201427173\n",
      "P-value de: ridolfi notdup geo bet COM: ridolfi dup geo bet          8.882708357740102e-149 t-value:  -76.30341044454377\n",
      "P-value de: ridolfi dup path bet COM: ridolfi dup geo bet          7.816900449442332e-206 t-value:  149.98062781630676\n",
      "P-value de: ridolfi notdup path bet COM: ridolfi dup geo bet          3.1017698135446357e-76 t-value:  30.27904660960658\n",
      "P-value de: ridolfi dup trail bet COM: ridolfi dup geo bet          1.158264147998203e-209 t-value:  156.86884075979168\n",
      "P-value de: ridolfi notdup trail bet COM: ridolfi dup geo bet          3.2185204320192296e-55 t-value:  22.05190128643855\n",
      "P-value de: ridolfi dup walk bet COM: ridolfi dup geo bet          5.264169604128573e-165 t-value:  92.63966752461593\n",
      "P-value de: ridolfi notdup walk bet COM: ridolfi dup geo bet          2.2384342613029982e-160 t-value:  87.67037982119986\n",
      "P-value de: acciaiuol notdup geo bet COM: acciaiuol dup geo bet          nan t-value:  nan\n",
      "P-value de: acciaiuol dup path bet COM: acciaiuol dup geo bet          7.352369714143454e-190 t-value:  124.3094451935082\n",
      "P-value de: acciaiuol notdup path bet COM: acciaiuol dup geo bet          nan t-value:  nan\n",
      "P-value de: acciaiuol dup trail bet COM: acciaiuol dup geo bet          6.197358392392535e-196 t-value:  133.52003190753658\n",
      "P-value de: acciaiuol notdup trail bet COM: acciaiuol dup geo bet          nan t-value:  nan\n",
      "P-value de: acciaiuol dup walk bet COM: acciaiuol dup geo bet          3.0309290527277502e-161 t-value:  88.58288737111728\n",
      "P-value de: acciaiuol notdup walk bet COM: acciaiuol dup geo bet          9.436198311001805e-139 t-value:  67.60336885472053\n",
      "P-value de: strozzi notdup geo bet COM: strozzi dup geo bet          8.106122543889838e-129 t-value:  -59.88945618154448\n",
      "P-value de: strozzi dup path bet COM: strozzi dup geo bet          3.272595608268977e-206 t-value:  150.64739575255027\n",
      "P-value de: strozzi notdup path bet COM: strozzi dup geo bet          7.745526210252042e-107 t-value:  45.523234024299924\n",
      "P-value de: strozzi dup trail bet COM: strozzi dup geo bet          1.2929218797973367e-206 t-value:  151.36176976936426\n",
      "P-value de: strozzi notdup trail bet COM: strozzi dup geo bet          7.863871670525647e-78 t-value:  30.966676589129364\n",
      "P-value de: strozzi dup walk bet COM: strozzi dup geo bet          3.1108180848582994e-172 t-value:  100.94255379011199\n",
      "P-value de: strozzi notdup walk bet COM: strozzi dup geo bet          1.7674462728133544e-156 t-value:  83.68360040039936\n",
      "P-value de: peruzzi notdup geo bet COM: peruzzi dup geo bet          1.4092912211347959e-57 t-value:  -22.908445082685294\n",
      "P-value de: peruzzi dup path bet COM: peruzzi dup geo bet          7.2819012771482324e-211 t-value:  159.093739798173\n",
      "P-value de: peruzzi notdup path bet COM: peruzzi dup geo bet          2.405338213348789e-127 t-value:  58.816393097018384\n",
      "P-value de: peruzzi dup trail bet COM: peruzzi dup geo bet          1.7144914580235436e-187 t-value:  120.88968035533512\n",
      "P-value de: peruzzi notdup trail bet COM: peruzzi dup geo bet          7.516169899940563e-119 t-value:  52.95143929115383\n",
      "P-value de: peruzzi dup walk bet COM: peruzzi dup geo bet          2.172543006234842e-165 t-value:  93.06418141268765\n",
      "P-value de: peruzzi notdup walk bet COM: peruzzi dup geo bet          2.5794461047240703e-148 t-value:  75.87978829491152\n",
      "P-value de: barbadori notdup geo bet COM: barbadori dup geo bet          6.865841041498489e-256 t-value:  -269.24593793872515\n",
      "P-value de: barbadori dup path bet COM: barbadori dup geo bet          7.64108828538936e-167 t-value:  94.68674758839032\n",
      "P-value de: barbadori notdup path bet COM: barbadori dup geo bet          1.1587599795121262e-68 t-value:  -27.14760816265323\n",
      "P-value de: barbadori dup trail bet COM: barbadori dup geo bet          1.7780110147257665e-150 t-value:  77.87663686786634\n",
      "P-value de: barbadori notdup trail bet COM: barbadori dup geo bet          2.642739463312231e-35 t-value:  -15.270662522528985\n",
      "P-value de: barbadori dup walk bet COM: barbadori dup geo bet          3.742785420985624e-158 t-value:  85.37462446449078\n",
      "P-value de: barbadori notdup walk bet COM: barbadori dup geo bet          2.260448983945155e-148 t-value:  75.9321267214662\n",
      "P-value de: castellan notdup geo bet COM: castellan dup geo bet          1.0360570298094675e-200 t-value:  -141.229026459478\n",
      "P-value de: castellan dup path bet COM: castellan dup geo bet          3.884131478888224e-194 t-value:  130.72774962757643\n",
      "P-value de: castellan notdup path bet COM: castellan dup geo bet          1.0546083756228948e-113 t-value:  49.65168387718159\n",
      "P-value de: castellan dup trail bet COM: castellan dup geo bet          1.6158311453743265e-187 t-value:  120.92635927200003\n",
      "P-value de: castellan notdup trail bet COM: castellan dup geo bet          1.893447107397996e-104 t-value:  44.15600345082269\n",
      "P-value de: castellan dup walk bet COM: castellan dup geo bet          3.4442739576387464e-172 t-value:  100.88965079606162\n",
      "P-value de: castellan notdup walk bet COM: castellan dup geo bet          1.0292117886296557e-152 t-value:  79.99533799758375\n"
     ]
    }
   ],
   "source": [
    "fam_list = []\n",
    "traject_list = ['geo', 'path', 'trail', 'walk']\n",
    "dup_list = ['dup', 'notdup']\n",
    "bet_clos_list = ['bet', 'clos']\n",
    "\n",
    "# bench = all_dict['dup_geo_bet_clos_dict']['ginori_bet_geo_dup_list']\n",
    "\n",
    "#Adicionando nomes das famílias na lista\n",
    "for n in g.nodes:\n",
    "    fam_list.append(g.nodes[n]['label'])\n",
    "\n",
    "\n",
    "#Realizando testes-t para combinações entre famílias, tipos de trajetórias e difusão\n",
    "t_p_value_dict = {}\n",
    "tvalue_list = []\n",
    "#Realizando teste t para betweenness, comparando o 'benchmark' (famíliax com geodésica e com transferência)\n",
    "for fam in fam_list:\n",
    "    for traject in traject_list:\n",
    "        for dup in dup_list:\n",
    "            if dup != 'dup' or traject != 'geo':\n",
    "                ttest = stats.ttest_ind(all_dict[''+dup+'_'+traject+'_bet_clos_dict'][''+fam+'_clos_'+traject+'_'+dup+'_list'], all_dict['dup_geo_bet_clos_dict'][''+fam+'_clos_geo_dup_list']) \n",
    "                if not(math.isnan(ttest[0])):\n",
    "                    if  not(math.isnan(ttest[1])):\n",
    "                        if ttest[1] != 1:\n",
    "                            t_p_value_dict[ttest[0]] = ttest[1]\n",
    "#                     tvalue_list.append(ttest[0])\n",
    "                print('P-value de: '+fam+' '+dup+' '+traject+' clos COM: '+fam+' dup geo clos         ', ttest[1], 't-value: ', ttest[0])\n",
    "\n",
    "#Realizando teste t para closeness, comparando o 'benchmark' (famíliax com geodésica e com transferência)\n",
    "for fam in fam_list:\n",
    "    for traject in traject_list:\n",
    "        for dup in dup_list:\n",
    "            if dup != 'dup' or traject != 'geo':\n",
    "                ttest = stats.ttest_ind(all_dict[''+dup+'_'+traject+'_bet_clos_dict'][''+fam+'_bet_'+traject+'_'+dup+'_list'], all_dict['dup_geo_bet_clos_dict'][''+fam+'_bet_geo_dup_list']) \n",
    "                if not(math.isnan(ttest[0])):\n",
    "                    if  not(math.isnan(ttest[1])):\n",
    "                        if ttest[1] != 1:\n",
    "                            t_p_value_dict[ttest[0]] = ttest[1]\n",
    "#                     tvalue_list.append(ttest[0])\n",
    "                print('P-value de: '+fam+' '+dup+' '+traject+' bet COM: '+fam+' dup geo bet         ', ttest[1], 't-value: ', ttest[0])\n",
    "# print(stats.ttest_ind(all_dict['dup_geo_bet_clos_dict']['ginori_bet_geo_dup_list'],all_dict['dup_geo_bet_clos_dict']['medici_bet_geo_dup_list']))"
   ]
  },
  {
   "cell_type": "markdown",
   "metadata": {},
   "source": [
    "Hipótese nula:  Quando os tipos de trajetória e difusão são alterados, as famílias que anteriormente tinham altas medidas de centralidade, tentem a ser as mesmas.\n",
    "\n",
    "Hipótese alternativa: Quando mudamos os tipos de trajetória e difusão, as famílias com maiores medidas de centraildade tendem não ser as mesmas."
   ]
  },
  {
   "cell_type": "code",
   "execution_count": 54,
   "metadata": {
    "scrolled": false
   },
   "outputs": [
    {
     "data": {
      "text/plain": [
       "Text(0.5,1,'Scatter plot')"
      ]
     },
     "execution_count": 54,
     "metadata": {},
     "output_type": "execute_result"
    },
    {
     "data": {
      "image/png": "[encoded data removed]",
      "text/plain": [
       "<Figure size 432x288 with 1 Axes>"
      ]
     },
     "metadata": {},
     "output_type": "display_data"
    }
   ],
   "source": [
    "plt.ylim(-500,200)\n",
    "# tvalue_list.sort()\n",
    "# print(sorted(t_p_value_dict))\n",
    "\n",
    "pvalue_list = []\n",
    "for key in sorted(t_p_value_dict):\n",
    "    pvalue_list.append(t_p_value_dict[key])\n",
    "plt.scatter(x = pvalue_list, y = sorted(t_p_value_dict))\n",
    "\n",
    "plt.xlabel('p-value')\n",
    "plt.ylabel('t-value')\n",
    "plt.title('Scatter plot')"
   ]
  },
  {
   "cell_type": "code",
   "execution_count": 61,
   "metadata": {},
   "outputs": [
    {
     "name": "stdout",
     "output_type": "stream",
     "text": [
      "t-valores negativos: 111\n",
      "t-valores positivos:  70\n"
     ]
    },
    {
     "data": {
      "image/png": "[encoded data removed]",
      "text/plain": [
       "<Figure size 432x288 with 1 Axes>"
      ]
     },
     "metadata": {},
     "output_type": "display_data"
    }
   ],
   "source": [
    "plt.ylim(-500,160)\n",
    "\n",
    "plt.plot(sorted(t_p_value_dict))\n",
    "\n",
    "# plt.xlabel('p-value')\n",
    "plt.ylabel('t-value')\n",
    "plt.title('t-values')\n",
    "\n",
    "count = 0\n",
    "for i in sorted(t_p_value_dict):\n",
    "    if i < 0:\n",
    "        count += 1\n",
    "\n",
    "print('t-valores negativos:', count)\n",
    "print('t-valores positivos: ', len(sorted(t_p_value_dict)) - count)"
   ]
  },
  {
   "cell_type": "markdown",
   "metadata": {},
   "source": [
    "Analisando o primeiro gráfico, percebemos que os p-valores são extremamente baixos (na escala de e-100), significando que as nossas respostas são bastante confiáveis, ou seja, não ocorreram por acaso. E quais seriam estas respostas? Para isso usamos os t-valores obtidos nos testes t-student realizados. Os t-valores representam o quanto os dois grupos são diferentes ou parecidos, tendo valores altos se os grupos forem diferentes, e valores baixos caso sejam similares.\n",
    "Analisando o segundo gráfico reparamos que há um número não tão diferente de valores negativos de valores positivos, o que é confirmado realizando-se a contagem (111 t-valores negativos e 70 positivos), isto indica que das nossas amostras, uma boa parte das famílias que possuíam altas medidas de centralidade, se mantiveram com altos valores ao mudarmos o tipo de trajetória e difusão. Porém, uma grande parte das famílias que possuíam altos valores, não se mantiveram no topo, uma vez que mudamos o tipo de trajetória e difusão.\n",
    "\n",
    "https://www.statisticshowto.datasciencecentral.com/probability-and-statistics/t-test/"
   ]
  },
  {
   "cell_type": "code",
   "execution_count": null,
   "metadata": {},
   "outputs": [],
   "source": []
  }
 ],
 "metadata": {
  "kernelspec": {
   "display_name": "Python 3",
   "language": "python",
   "name": "python3"
  },
  "language_info": {
   "codemirror_mode": {
    "name": "ipython",
    "version": 3
   },
   "file_extension": ".py",
   "mimetype": "text/x-python",
   "name": "python",
   "nbconvert_exporter": "python",
   "pygments_lexer": "ipython3",
   "version": "3.6.5"
  }
 },
 "nbformat": 4,
 "nbformat_minor": 1
}
