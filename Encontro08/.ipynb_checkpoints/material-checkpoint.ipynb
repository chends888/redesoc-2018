{
 "cells": [
  {
   "cell_type": "markdown",
   "metadata": {},
   "source": [
    "# Encontro 8: Centro e Periferia"
   ]
  },
  {
   "cell_type": "code",
   "execution_count": 22,
   "metadata": {
    "scrolled": true
   },
   "outputs": [],
   "source": [
    "import sys\n",
    "sys.path.append('..')\n",
    "\n",
    "import numpy as np\n",
    "import matplotlib.pyplot as plt\n",
    "import pandas as pd\n",
    "import seaborn as sns\n",
    "\n",
    "import socnet as sn\n",
    "\n",
    "from scipy.stats.stats import pearsonr\n",
    "from scipy.optimize import minimize\n",
    "\n",
    "%matplotlib inline"
   ]
  },
  {
   "cell_type": "markdown",
   "metadata": {},
   "source": [
    "## Inovação no Jazz: no Centro ou na Periferia?\n",
    "\n",
    "Nesta atividade, vamos explorar onde surgem as inovações no Jazz. O período de análise inclui os anos 50 e 60 do século passado, quando músicos como Dave Brubeck e Miles Davis ficaram extremamente famosos. \n",
    "\n",
    "De onde vem as inovações? São tantas as possibilidades! Será que o artista genial tem uma personalidade distinta? Será que a estrutura neurológica de seu cérebro produz acordes dissonantes e improvisações geniais? Será que escutou uma britadeira quando era pequeno e com isso obteve inspiração para um novo ritmo? De que forma sua história de vida conta? É importante que seus pais tenham lhe incentivado? Será que é importante ter sido órfão e ganhar sustento como trombonista na bandinha da cidade?\n",
    "\n",
    "São tantas as possíveis explicações! Possivelmente são infinitas as explicações e por isso nunca poderíamos ficar satisfeitos, certo? Errado: o trabalho científico precisa assumir que não conhecerá tudo sobre um fenômeno, mas ainda assim buscar o que for possível e relevante. Toda investigação científica necessita de alguma forma iniciar com o contexto, com as teorias conhecidas e delinear os principais mecanismos que se espera que estejam em operação para explicar o fenômeno.\n",
    "\n",
    "\n",
    "### Scaffold 1: Entendimento do Contexto e Delineamento dos Mecanismos\n",
    "\n",
    "Nesse estudo, tomaremos algumas decisões de redução do contexto para alguns mecanismos específicos. Em primeiro lugar, não nos importará a biografia do músico: não iremos ler a biografia de cada músico inovador. Ainda assim, poderemos em algum momento tentar capturar um pouco dessa história de vida a partir de variáveis como *gênero*, *idade*, *raça* e *local de nascimento*. De forma análoga, não iremos nos deter em variáveis que não podemos observar ou só podemos observar a alto custo, como a personalidade e minúcias da vida do artista.\n",
    "\n",
    "A *localização* do artista pode ser extremamente interessante: será que é importante que o artista esteja tocando em Nova Iorque ou em Bruxelas? Sabemos que Nova Iorque foi e ainda é o principal centro de produção de Jazz no mundo. Então poderíamos também indagar se faria diferença verificar quais artistas frequentavam os principais clubes no SoHo, ou as sessões de improvisação no Harlem.\n",
    "\n",
    "Mas por que assumimos que *geografia*, *espaço* e *local* são importantes? São importantes porque os artistas conhecem novos estilos ao encontrar face-a-face com outros músicos. Desta forma, são capazes de ter acesso direto a essas músicas, muito antes que alcancem as estações de rádio e os estúdios de gravação. A partir da ideia de que o contato direto entre os músicos é condição importante para a troca de informações, aprendizado mútuo, podemos dar um passo adicional e afirmar que o que realmente importa para um músico é a sua posição na rede de relacionamentos no mundo do Jazz.\n",
    "\n",
    "A ideia de que inovação no jazz está relacionada com a posição do músico no mundo do Jazz é uma proposição interessante, mas ainda muito genérica para poder ser transformada em uma hipótese testável. A ideia de *posição* pode ser definida de muitas formas, pode estar associada a muitos mecanismos distintos, e pode ser operacionalizada de formas múltiplas. Possivelmente a intuição de posição é uma das mais populares em Análise de Redes Sociais e por isso o \"mercado de ideias\" sobre como definir essa intuição esteja tão abarrotado de propostas.\n",
    "\n",
    "Entre as diversas possibilidades de entendimento do que significa posição, assumiremos um pressuposto importante: para caracterizar um indivíduo, precisamos pensar em qual *região* da rede ele pertence. Geralmente, em um mundo artístico, os padrões de relacionamento entre os músicos formam uma rede com um *centro* com membros altamente relacionados entre si e uma *periferia* na qual os membros se relacionam com o centro mas não entre si. Podemos observar esse fenômeno em outros contextos também: lembra da rede dos usuários que o Trump segue no Twitter? Vários *pundits* eram periféricos.\n",
    "\n",
    "O surgimento de um centro se dá por várias razões, incluindo o *Efeito Mateus* que vimos na primeira aula no contexto de citações. Por motivos de simplificação, pensaremos em apenas duas regiões um centro e uma periferia, embora modelos mais complexos, como por exemplo modelos de múltiplos centros, sejam possíveis. Precisamos ainda de um pressuposto adicional: o centro de uma rede é onde o “burburinho” ocorre. Esses dois pressupostos são razoáveis: é plausível que o centro de uma rede seja onde haja mais densidade de relações, e também assumimos que mesmo que um indivíduo não seja particularmente bem conectado, basta que ele pertença ao centro para estar exposto a esse “caldo criativo”.\n",
    "\n",
    "Entretanto, sem abandonar essa abordagem de “centro e periferia”, poderíamos também argumentar de forma plausível que inovações surgem na periferia do mundo do jazz em vez do centro. Se o sucesso comercial exige que os músicos centrais sigam certos padrões consagrados, apenas músicos periféricos são livres (Ou irrelevantes? Ou insignificantes?) o suficiente para testarem soluções novas. Eles não têm muito a perder, certo? \n",
    "\n",
    "Nos parágrafos acima exploramos o contexto do jazz e, de forma bastante informal, identificamos alguns mecanismos que poderiam explicar o surgimento de inovações. Na próxima seção, adotaremos uma abordagem mais formal para traduzir mecanismos a hipóteses.\n",
    "\n",
    "\n",
    "### Scaffold 2: Tradução dos Mecanismos em Hipóteses\n",
    "\n",
    "Músicos presentes no centro da rede têm mais acesso a outros músicos do jazz, e isso os leva a conhecer novos estilos de forma mais rápida. Esse acesso privilegiado possibilita o aprendizado mais rápido de novos estilos e rápida recombinação de elementos musicais. A recombinação de elementos musicais leva à emersão de novos estilos e inovações. Logo:\n",
    "\n",
    "> Hipótese 1: músicos no centro da rede apresentam maiores chances de inovar\n",
    "\n",
    "Em contrapartida, músicos na periferia tem menor pressão para se conformar aos padrões estabelecidos pela Indústria Fonográfica e pela comunidade de músicos. Desta forma, são mais livres para experimentar novas combinações artísticas. Assim:\n",
    "\n",
    "> Hipótese 2: músicos na periferia da rede apresentam maiores chances de inovar\n",
    "\n",
    "Eu sei o que vocês estão pensando: peraí, que migué é esse? Fazer um conjunto de hipóteses que cobrem todo o universo de possibilidades é fácil!\n",
    "\n",
    "Mas não foi isso o que fizemos! Repare que:\n",
    "\n",
    "* ambas as hipóteses são sustentadas por argumentos coerentes com o contexto apresentado; e\n",
    "* elas **NÃO** cobrem todo o universo de possibilidades. Ambas podem estar erradas, por exemplo.\n",
    "\n",
    "Mas eu concordo com uma coisa: a formulação ainda não está completa. Para estar completa, precisa de uma formalização do que é centro, uma formalização do que é periferia e uma formalização de que grandezas esperamos estar relacionadas.\n",
    "\n",
    "Em dado momento, os professores vão fazer uma exposição sobre o conceito de *coreness*. Use o espaço abaixo para anotações."
   ]
  },
  {
   "cell_type": "raw",
   "metadata": {},
   "source": []
  },
  {
   "cell_type": "markdown",
   "metadata": {},
   "source": [
    "### Scaffold 3: Operacionalização e Teste das Hipóteses"
   ]
  },
  {
   "cell_type": "code",
   "execution_count": 2,
   "metadata": {},
   "outputs": [],
   "source": [
    "def cost(c, A):\n",
    "    row = np.matrix(c)\n",
    "\n",
    "    C = np.multiply(row.transpose(), row)\n",
    "\n",
    "    correlation, _ = pearsonr(C.flat, A.flat)\n",
    "\n",
    "    return -correlation\n",
    "\n",
    "\n",
    "def write_coreness(g):\n",
    "    length = g.number_of_nodes()\n",
    "\n",
    "    c = np.random.rand(length)\n",
    "\n",
    "    A = sn.build_matrix(g)\n",
    "\n",
    "    bounds = [(0, 1) for _ in range(length)]\n",
    "\n",
    "    result = minimize(cost, c, args=(A,), bounds=bounds)\n",
    "\n",
    "    norm = 0\n",
    "\n",
    "    for i, n in enumerate(g.nodes):\n",
    "        g.nodes[n]['coreness'] = result['x'][i]\n",
    "\n",
    "        norm += g.nodes[n]['coreness'] ** 2\n",
    "\n",
    "    for n in g.nodes:\n",
    "        g.nodes[n]['coreness'] /= norm"
   ]
  },
  {
   "cell_type": "markdown",
   "metadata": {},
   "source": [
    "Dados disponíveis:\n",
    "* as redes cobrem os períodos de 1930 a 1969 e estão separados por ano;\n",
    "* os nós são artistas e existe uma aresta entre dois artistas se eles participaram de uma mesma sessão de gravação;\n",
    "* cada nó tem um atributo `sessions` que indica de quantas sessões ele participu e um atributo `innovats` que indica de quantas sessões *iovadoras* ele participou.\n",
    "* cada aresta possui um peso que é inversamente proporcional ao tamanho das sessões."
   ]
  },
  {
   "cell_type": "code",
   "execution_count": 3,
   "metadata": {},
   "outputs": [],
   "source": [
    "g = sn.load_graph('graphs/1965.gml')\n",
    "\n",
    "# sns.distplot([g.nodes[n]['sessions'] for n in g.nodes], kde=False);"
   ]
  },
  {
   "cell_type": "markdown",
   "metadata": {},
   "source": [
    "Por simplicidade, vou remover da rede os artistas que participaram de poucas sessões."
   ]
  },
  {
   "cell_type": "code",
   "execution_count": 4,
   "metadata": {},
   "outputs": [],
   "source": [
    "sg = g.copy()\n",
    "\n",
    "nodes = list(sg.nodes)\n",
    "\n",
    "for n in nodes:\n",
    "    if sg.nodes[n]['sessions'] < 10:\n",
    "        sg.remove_node(n)\n",
    "\n",
    "# sns.distplot([sg.nodes[n]['sessions'] for n in sg.nodes], kde=False);"
   ]
  },
  {
   "cell_type": "markdown",
   "metadata": {},
   "source": [
    "Agora estamos prontos para calcular o coreness."
   ]
  },
  {
   "cell_type": "code",
   "execution_count": 5,
   "metadata": {},
   "outputs": [],
   "source": [
    "write_coreness(sg)"
   ]
  },
  {
   "cell_type": "markdown",
   "metadata": {},
   "source": [
    "### Verificando relação"
   ]
  },
  {
   "cell_type": "code",
   "execution_count": 6,
   "metadata": {
    "scrolled": false
   },
   "outputs": [],
   "source": [
    "data = pd.DataFrame({\n",
    "    'coreness': [sg.nodes[n]['coreness'] for n in sg.nodes],\n",
    "    'innovats': [sg.nodes[n]['innovats'] for n in sg.nodes],\n",
    "})\n",
    "\n",
    "# sns.relplot(data=data, x='coreness', y='innovats')"
   ]
  },
  {
   "cell_type": "code",
   "execution_count": 7,
   "metadata": {
    "scrolled": false
   },
   "outputs": [
    {
     "data": {
      "text/plain": [
       "<seaborn.axisgrid.FacetGrid at 0x28426405780>"
      ]
     },
     "execution_count": 7,
     "metadata": {},
     "output_type": "execute_result"
    },
    {
     "data": {
      "image/png": "[encoded data removed]",
      "text/plain": [
       "<Figure size 360x360 with 1 Axes>"
      ]
     },
     "metadata": {},
     "output_type": "display_data"
    }
   ],
   "source": [
    "g = sn.load_graph('graphs/1965.gml')\n",
    "\n",
    "sg = g.copy()\n",
    "\n",
    "nodes = list(sg.nodes)\n",
    "\n",
    "for n in nodes:\n",
    "    if sg.nodes[n]['sessions'] < 15:\n",
    "        sg.remove_node(n)\n",
    "\n",
    "#Músicos X Número de sessions\n",
    "# sns.distplot([sg.nodes[n]['sessions'] for n in sg.nodes], kde=False);\n",
    "\n",
    "\n",
    "#Transformando innovats em innovats relativo ao número total de sessions de cada músico\n",
    "for n in g.nodes:\n",
    "        g.nodes[n]['innovats'] /= g.nodes[n]['sessions']\n",
    "\n",
    "\n",
    "        \n",
    "write_coreness(sg)\n",
    "data = pd.DataFrame({\n",
    "    'innovats': [sg.nodes[n]['innovats'] for n in sg.nodes],\n",
    "    'coreness': [sg.nodes[n]['coreness'] for n in sg.nodes],\n",
    "})\n",
    "\n",
    "sns.relplot(data=data, x='innovats', y='coreness')"
   ]
  },
  {
   "cell_type": "code",
   "execution_count": 8,
   "metadata": {},
   "outputs": [
    {
     "data": {
      "text/plain": [
       "<seaborn.axisgrid.FacetGrid at 0x28433e75b70>"
      ]
     },
     "execution_count": 8,
     "metadata": {},
     "output_type": "execute_result"
    },
    {
     "data": {
      "image/png": "[encoded data removed]",
      "text/plain": [
       "<Figure size 360x360 with 1 Axes>"
      ]
     },
     "metadata": {},
     "output_type": "display_data"
    }
   ],
   "source": [
    "g = sn.load_graph('graphs/1966.gml')\n",
    "\n",
    "sg = g.copy()\n",
    "\n",
    "nodes = list(sg.nodes)\n",
    "\n",
    "for n in nodes:\n",
    "    if sg.nodes[n]['sessions'] < 15:\n",
    "        sg.remove_node(n)\n",
    "\n",
    "#Músicos X Número de sessions (para músicos com 15 ou mais sessions)\n",
    "# sns.distplot([sg.nodes[n]['sessions'] for n in sg.nodes], kde=False);\n",
    "\n",
    "\n",
    "#Transformando innovats em innovats relativo ao número total de sessions de cada músico\n",
    "for n in g.nodes:\n",
    "        g.nodes[n]['innovats'] /= g.nodes[n]['sessions']\n",
    "\n",
    "\n",
    "        \n",
    "write_coreness(sg)\n",
    "data = pd.DataFrame({\n",
    "    'innovats': [sg.nodes[n]['innovats'] for n in sg.nodes],\n",
    "    'coreness': [sg.nodes[n]['coreness'] for n in sg.nodes],\n",
    "})\n",
    "\n",
    "sns.relplot(data=data, x='innovats', y='coreness')"
   ]
  },
  {
   "cell_type": "code",
   "execution_count": 9,
   "metadata": {},
   "outputs": [
    {
     "data": {
      "text/plain": [
       "<seaborn.axisgrid.FacetGrid at 0x2843291a0f0>"
      ]
     },
     "execution_count": 9,
     "metadata": {},
     "output_type": "execute_result"
    },
    {
     "data": {
      "image/png": "[encoded data removed]",
      "text/plain": [
       "<Figure size 360x360 with 1 Axes>"
      ]
     },
     "metadata": {},
     "output_type": "display_data"
    }
   ],
   "source": [
    "g = sn.load_graph('graphs/1967.gml')\n",
    "\n",
    "sg = g.copy()\n",
    "\n",
    "nodes = list(sg.nodes)\n",
    "\n",
    "for n in nodes:\n",
    "    if sg.nodes[n]['sessions'] < 15:\n",
    "        sg.remove_node(n)\n",
    "\n",
    "#Músicos X Número de sessions (para músicos com 15 ou mais sessions)\n",
    "# sns.distplot([sg.nodes[n]['sessions'] for n in sg.nodes], kde=False);\n",
    "\n",
    "\n",
    "#Transformando innovats em innovats relativo ao número total de sessions de cada músico\n",
    "for n in g.nodes:\n",
    "        g.nodes[n]['innovats'] /= g.nodes[n]['sessions']\n",
    "\n",
    "\n",
    "        \n",
    "write_coreness(sg)\n",
    "data = pd.DataFrame({\n",
    "    'innovats': [sg.nodes[n]['innovats'] for n in sg.nodes],\n",
    "    'coreness': [sg.nodes[n]['coreness'] for n in sg.nodes],\n",
    "})\n",
    "\n",
    "sns.relplot(data=data, x='innovats', y='coreness')"
   ]
  },
  {
   "cell_type": "code",
   "execution_count": 10,
   "metadata": {},
   "outputs": [
    {
     "data": {
      "text/plain": [
       "<seaborn.axisgrid.FacetGrid at 0x28430c93860>"
      ]
     },
     "execution_count": 10,
     "metadata": {},
     "output_type": "execute_result"
    },
    {
     "data": {
      "image/png": "[encoded data removed]",
      "text/plain": [
       "<Figure size 360x360 with 1 Axes>"
      ]
     },
     "metadata": {},
     "output_type": "display_data"
    }
   ],
   "source": [
    "g = sn.load_graph('graphs/1968.gml')\n",
    "\n",
    "sg = g.copy()\n",
    "\n",
    "nodes = list(sg.nodes)\n",
    "\n",
    "for n in nodes:\n",
    "    if sg.nodes[n]['sessions'] < 15:\n",
    "        sg.remove_node(n)\n",
    "\n",
    "#Músicos X Número de sessions (para músicos com 15 ou mais sessions)\n",
    "# sns.distplot([sg.nodes[n]['sessions'] for n in sg.nodes], kde=False);\n",
    "\n",
    "\n",
    "#Transformando innovats em innovats relativo ao número total de sessions de cada músico\n",
    "for n in g.nodes:\n",
    "        g.nodes[n]['innovats'] /= g.nodes[n]['sessions']\n",
    "\n",
    "\n",
    "        \n",
    "write_coreness(sg)\n",
    "data = pd.DataFrame({\n",
    "    'innovats': [sg.nodes[n]['innovats'] for n in sg.nodes],\n",
    "    'coreness': [sg.nodes[n]['coreness'] for n in sg.nodes],\n",
    "})\n",
    "\n",
    "sns.relplot(data=data, x='innovats', y='coreness')"
   ]
  },
  {
   "cell_type": "code",
   "execution_count": 11,
   "metadata": {},
   "outputs": [
    {
     "data": {
      "text/plain": [
       "<seaborn.axisgrid.FacetGrid at 0x28432111a58>"
      ]
     },
     "execution_count": 11,
     "metadata": {},
     "output_type": "execute_result"
    },
    {
     "data": {
      "image/png": "[encoded data removed]",
      "text/plain": [
       "<Figure size 360x360 with 1 Axes>"
      ]
     },
     "metadata": {},
     "output_type": "display_data"
    }
   ],
   "source": [
    "g = sn.load_graph('graphs/1964.gml')\n",
    "\n",
    "sg = g.copy()\n",
    "\n",
    "nodes = list(sg.nodes)\n",
    "\n",
    "for n in nodes:\n",
    "    if sg.nodes[n]['sessions'] < 15:\n",
    "        sg.remove_node(n)\n",
    "\n",
    "#Músicos X Número de sessions (para músicos com 15 ou mais sessions)\n",
    "# sns.distplot([sg.nodes[n]['sessions'] for n in sg.nodes], kde=False);\n",
    "\n",
    "\n",
    "#Transformando innovats em innovats relativo ao número total de sessions de cada músico\n",
    "for n in g.nodes:\n",
    "        g.nodes[n]['innovats'] /= g.nodes[n]['sessions']\n",
    "\n",
    "\n",
    "        \n",
    "write_coreness(sg)\n",
    "data = pd.DataFrame({\n",
    "    'innovats': [sg.nodes[n]['innovats'] for n in sg.nodes],\n",
    "    'coreness': [sg.nodes[n]['coreness'] for n in sg.nodes],\n",
    "})\n",
    "\n",
    "sns.relplot(data=data, x='innovats', y='coreness')"
   ]
  },
  {
   "cell_type": "code",
   "execution_count": 12,
   "metadata": {},
   "outputs": [
    {
     "data": {
      "text/plain": [
       "<seaborn.axisgrid.FacetGrid at 0x28433f958d0>"
      ]
     },
     "execution_count": 12,
     "metadata": {},
     "output_type": "execute_result"
    },
    {
     "data": {
      "image/png": "[encoded data removed]",
      "text/plain": [
       "<Figure size 360x360 with 1 Axes>"
      ]
     },
     "metadata": {},
     "output_type": "display_data"
    }
   ],
   "source": [
    "g = sn.load_graph('graphs/1963.gml')\n",
    "\n",
    "sg = g.copy()\n",
    "\n",
    "nodes = list(sg.nodes)\n",
    "\n",
    "for n in nodes:\n",
    "    if sg.nodes[n]['sessions'] < 15:\n",
    "        sg.remove_node(n)\n",
    "\n",
    "#Músicos X Número de sessions (para músicos com 15 ou mais sessions)\n",
    "# sns.distplot([sg.nodes[n]['sessions'] for n in sg.nodes], kde=False);\n",
    "\n",
    "\n",
    "#Transformando innovats em innovats relativo ao número total de sessions de cada músico\n",
    "for n in g.nodes:\n",
    "        g.nodes[n]['innovats'] /= g.nodes[n]['sessions']\n",
    "\n",
    "\n",
    "        \n",
    "write_coreness(sg)\n",
    "data = pd.DataFrame({\n",
    "    'innovats': [sg.nodes[n]['innovats'] for n in sg.nodes],\n",
    "    'coreness': [sg.nodes[n]['coreness'] for n in sg.nodes],\n",
    "})\n",
    "\n",
    "sns.relplot(data=data, x='innovats', y='coreness')"
   ]
  },
  {
   "cell_type": "code",
   "execution_count": 13,
   "metadata": {},
   "outputs": [
    {
     "data": {
      "text/plain": [
       "<seaborn.axisgrid.FacetGrid at 0x28433f76b38>"
      ]
     },
     "execution_count": 13,
     "metadata": {},
     "output_type": "execute_result"
    },
    {
     "data": {
      "image/png": "[encoded data removed]",
      "text/plain": [
       "<Figure size 360x360 with 1 Axes>"
      ]
     },
     "metadata": {},
     "output_type": "display_data"
    }
   ],
   "source": [
    "g = sn.load_graph('graphs/1950.gml')\n",
    "\n",
    "sg = g.copy()\n",
    "\n",
    "nodes = list(sg.nodes)\n",
    "\n",
    "for n in nodes:\n",
    "    if sg.nodes[n]['sessions'] < 15:\n",
    "        sg.remove_node(n)\n",
    "\n",
    "#Músicos X Número de sessions (para músicos com 15 ou mais sessions)\n",
    "# sns.distplot([sg.nodes[n]['sessions'] for n in sg.nodes], kde=False);\n",
    "\n",
    "\n",
    "#Transformando innovats em innovats relativo ao número total de sessions de cada músico\n",
    "for n in g.nodes:\n",
    "        g.nodes[n]['innovats'] /= g.nodes[n]['sessions']\n",
    "\n",
    "\n",
    "        \n",
    "write_coreness(sg)\n",
    "data = pd.DataFrame({\n",
    "    'innovats': [sg.nodes[n]['innovats'] for n in sg.nodes],\n",
    "    'coreness': [sg.nodes[n]['coreness'] for n in sg.nodes],\n",
    "})\n",
    "\n",
    "sns.relplot(data=data, x='innovats', y='coreness')"
   ]
  },
  {
   "cell_type": "code",
   "execution_count": 14,
   "metadata": {},
   "outputs": [
    {
     "data": {
      "text/plain": [
       "<seaborn.axisgrid.FacetGrid at 0x28433c8d390>"
      ]
     },
     "execution_count": 14,
     "metadata": {},
     "output_type": "execute_result"
    },
    {
     "data": {
      "image/png": "[encoded data removed]",
      "text/plain": [
       "<Figure size 360x360 with 1 Axes>"
      ]
     },
     "metadata": {},
     "output_type": "display_data"
    }
   ],
   "source": [
    "g = sn.load_graph('graphs/1951.gml')\n",
    "\n",
    "sg = g.copy()\n",
    "\n",
    "nodes = list(sg.nodes)\n",
    "\n",
    "for n in nodes:\n",
    "    if sg.nodes[n]['sessions'] < 15:\n",
    "        sg.remove_node(n)\n",
    "\n",
    "#Músicos X Número de sessions (para músicos com 15 ou mais sessions)\n",
    "# sns.distplot([sg.nodes[n]['sessions'] for n in sg.nodes], kde=False);\n",
    "\n",
    "\n",
    "#Transformando innovats em innovats relativo ao número total de sessions de cada músico\n",
    "for n in g.nodes:\n",
    "        g.nodes[n]['innovats'] /= g.nodes[n]['sessions']\n",
    "\n",
    "\n",
    "        \n",
    "write_coreness(sg)\n",
    "data = pd.DataFrame({\n",
    "    'innovats': [sg.nodes[n]['innovats'] for n in sg.nodes],\n",
    "    'coreness': [sg.nodes[n]['coreness'] for n in sg.nodes],\n",
    "})\n",
    "\n",
    "sns.relplot(data=data, x='innovats', y='coreness')"
   ]
  },
  {
   "cell_type": "code",
   "execution_count": 15,
   "metadata": {},
   "outputs": [
    {
     "data": {
      "text/plain": [
       "<seaborn.axisgrid.FacetGrid at 0x284321a29e8>"
      ]
     },
     "execution_count": 15,
     "metadata": {},
     "output_type": "execute_result"
    },
    {
     "data": {
      "image/png": "[encoded data removed]",
      "text/plain": [
       "<Figure size 360x360 with 1 Axes>"
      ]
     },
     "metadata": {},
     "output_type": "display_data"
    }
   ],
   "source": [
    "g = sn.load_graph('graphs/1952.gml')\n",
    "\n",
    "sg = g.copy()\n",
    "\n",
    "nodes = list(sg.nodes)\n",
    "\n",
    "for n in nodes:\n",
    "    if sg.nodes[n]['sessions'] < 15:\n",
    "        sg.remove_node(n)\n",
    "\n",
    "#Músicos X Número de sessions (para músicos com 15 ou mais sessions)\n",
    "# sns.distplot([sg.nodes[n]['sessions'] for n in sg.nodes], kde=False);\n",
    "\n",
    "\n",
    "#Transformando innovats em innovats relativo ao número total de sessions de cada músico\n",
    "for n in g.nodes:\n",
    "        g.nodes[n]['innovats'] /= g.nodes[n]['sessions']\n",
    "\n",
    "\n",
    "        \n",
    "write_coreness(sg)\n",
    "data = pd.DataFrame({\n",
    "    'innovats': [sg.nodes[n]['innovats'] for n in sg.nodes],\n",
    "    'coreness': [sg.nodes[n]['coreness'] for n in sg.nodes],\n",
    "})\n",
    "\n",
    "sns.relplot(data=data, x='innovats', y='coreness')"
   ]
  },
  {
   "cell_type": "code",
   "execution_count": 16,
   "metadata": {},
   "outputs": [
    {
     "data": {
      "text/plain": [
       "<seaborn.axisgrid.FacetGrid at 0x28433da85f8>"
      ]
     },
     "execution_count": 16,
     "metadata": {},
     "output_type": "execute_result"
    },
    {
     "data": {
      "image/png": "[encoded data removed]",
      "text/plain": [
       "<Figure size 360x360 with 1 Axes>"
      ]
     },
     "metadata": {},
     "output_type": "display_data"
    }
   ],
   "source": [
    "g = sn.load_graph('graphs/1956.gml')\n",
    "\n",
    "sg = g.copy()\n",
    "\n",
    "nodes = list(sg.nodes)\n",
    "\n",
    "for n in nodes:\n",
    "    if sg.nodes[n]['sessions'] < 15:\n",
    "        sg.remove_node(n)\n",
    "\n",
    "#Músicos X Número de sessions (para músicos com 15 ou mais sessions)\n",
    "# sns.distplot([sg.nodes[n]['sessions'] for n in sg.nodes], kde=False);\n",
    "\n",
    "\n",
    "#Transformando innovats em innovats relativo ao número total de sessions de cada músico\n",
    "for n in g.nodes:\n",
    "        g.nodes[n]['innovats'] /= g.nodes[n]['sessions']\n",
    "\n",
    "\n",
    "        \n",
    "write_coreness(sg)\n",
    "data = pd.DataFrame({\n",
    "    'innovats': [sg.nodes[n]['innovats'] for n in sg.nodes],\n",
    "    'coreness': [sg.nodes[n]['coreness'] for n in sg.nodes],\n",
    "})\n",
    "\n",
    "sns.relplot(data=data, x='innovats', y='coreness')"
   ]
  },
  {
   "cell_type": "code",
   "execution_count": null,
   "metadata": {},
   "outputs": [],
   "source": []
  },
  {
   "cell_type": "code",
   "execution_count": null,
   "metadata": {},
   "outputs": [],
   "source": []
  },
  {
   "cell_type": "code",
   "execution_count": null,
   "metadata": {},
   "outputs": [],
   "source": []
  },
  {
   "cell_type": "code",
   "execution_count": null,
   "metadata": {},
   "outputs": [],
   "source": []
  },
  {
   "cell_type": "code",
   "execution_count": 17,
   "metadata": {},
   "outputs": [],
   "source": [
    "# data = pd.DataFrame({\n",
    "#     'sessions': [sg.nodes[n]['sessions'] for n in sg.nodes],\n",
    "#     'innovats': [sg.nodes[n]['innovats'] for n in sg.nodes],\n",
    "# })\n",
    "\n",
    "# sns.relplot(data=data, x='sessions', y='innovats')"
   ]
  },
  {
   "cell_type": "markdown",
   "metadata": {},
   "source": [
    "Como podemos analisar essa relação de forma mais analítica?\n",
    "\n",
    "\n",
    "## Das análises à revisão da teoria\n",
    "\n",
    "Muitas vezes, em um método científico lógico-dedutivo, geramos hipóteses que esperamos corroborar, e não estamos prontos para enfrentar resultados que fujam daquilo que é esperado. Por exemplo: deduzimos a hipótese de que a força da gravidade age de forma homogênea: corpos lançados simultaneamente de uma certa altura deverão cair na mesma velocidade. Se o experimento é “bem realizado”, obtemos o mesmo tempo de percurso de queda. Se os corpos chegam em momentos distintos, é possível que redesenhemos o experimento até acharmos o que esperamos. Por exemplo: se lançarmos uma bola de chumbo e uma folha de papel aberta de um prédio, é óbvio que a bola de chumbo chegará mais rápido. Mas fomos “treinados” a refazer o experimento e tomar algum objeto comparável à bola de chumbo, do que modelar a resistência do ar à folha de papel.\n",
    "\n",
    "Entretanto, os resultados de um experimento ou de uma pesquisa podem “falhar” em corroborar as hipóteses desenvolvidas e dar pistas que nossa teoria não é completa. Esse é o final do ciclo de investigação científica e corresponde aos passos **4** (Interpretação dos resultados na linguagem de SNA) e **5** (Extrapolação/generalização dos resultados, reinterpretação do contexto, identificação de implicações e próximos passos) de nosso curso. Antes de definir e dar diretrizes para esses passos, oferecemos um exemplo de uma pesquisa que realizou esses últimos passos.\n",
    "\n",
    "Nosso exemplo se inicia com a diferença entre “laços fortes” e “laços fracos”, uma das teorias centrais na Sociologia (ver Granovetter, 1977). Essa teoria traz as seguintes ideias conectadas:\n",
    "\n",
    "1.\tHá diferença entre “laços fracos” e “laços fortes”. “Laços fortes” são relacionamentos com as pessoas próximas, íntimas; “laços fracos”, em contraste, são relacionamentos onde o elemento “confiança” não é tão forte.\n",
    "\n",
    "2.\tÉ preciso confiança para confidenciar assuntos sérios.\n",
    "\n",
    "3.\tLogo, as pessoas confidenciam assuntos sérios com laços fortes.\n",
    "\n",
    "A partir dessa estrutura “dedutiva”, a pesquisa de “capital social” cresceu e desenvolveu uma ampla gama de ferramentas e abordagens, incluindo a “Core Discussion Network” (CDN), que foi incluído no censo americano (Burt, 1984). Através dessa ferramenta, se pergunta “com quem você discute assuntos importantes” e através dessa pergunta se identifica as pessoas que são “laços fortes” do entrevistado. Com o tempo, passou-se a inverter a ordem:\n",
    "\n",
    "1.\tCDN explicita laços fortes.\n",
    "\n",
    "2.\tLaços fortes do CDN serão ativados para confidências de assuntos importantes.\n",
    "\n",
    "Mario Luis Small (2013) investigou de que forma o CDN muda no tempo. Seu intuito inicial era apenas explorar de que forma as pessoas eram agregadas ou expulsas da rede de laços fortes identificada através do CDN. Entretanto, ele percebeu que havia algumas inconsistências:\n",
    "\n",
    "* Nem todos os “assuntos importantes” eram realmente “confidências” (Bearman & Parigi, 2004). Por exemplo, falar sobre “política” (um assunto importante que nem sempre se abre para um colega do trabalho) é muito diferente de falar sobre “divórcio” (um assunto emocionalmente forte que implicava em um grau de intimidade e confiança muito alto).\n",
    "\n",
    "* Nem sempre as pessoas confidenciavam assuntos realmente importantes com as pessoas próximas citadas no CDN. Muitas vezes, Small percebeu, as pessoas preferiam falar sobre a possibilidade de abandonar o doutorado com um doutorando mais ou menos desconhecido na mesa do bar do que falar sobre isso com os pais.\n",
    "\n",
    "* Ou seja: é possível confidenciar assuntos importantes com “laços fracos” não incluídos no CDN.\n",
    "\n",
    "Essa descoberta (passo **4** em nosso ciclo), trazia uma série de problemas para a teoria. Se é possível tomar um laço fraco como confidente, isso significa que não há diferença entre “laços fracos” e “laços fortes”? Um dos pilares da Sociologia parecia se instabilizar.\n",
    "\n",
    "A partir desses achados, Mario Luis Small percebeu que havia sérias limitações na pesquisa (nosso passo **5**: extrapolação/generalização dos resultados, reinterpretação do contexto, identificação de implicações e próximos passos). Sabia-se que “laços fracos” eram eventualmente confidentes, mas não se sabia porque isso ocorria. Por isso, foi levado a realizar uma pesquisa qualitativa com vários doutorandos (Small, 2017). Ele descobriu que havia algumas circunstâncias que levavam os alunos a confidenciarem com “desconhecidos” ao invés de pessoas próximas:\n",
    "\n",
    "* situações onde a pessoa próxima estava distante geograficamente;\n",
    "* situações onde havia o risco de pessoas próximas falarem os segredos para outras pessoas próximas;\n",
    "* situações onde as pessoas próximas não conheciam bem o assunto e isso poderia levar a conselhos ruins ou expectativas distorcidas.\n",
    "\n",
    "Frente a essas situações, “estranhos” eram escolhidos quando:\n",
    "\n",
    "* estavam disponíveis;\n",
    "* conheciam o assunto e por isso poderiam dar conselhos relevantes;\n",
    "\n",
    "Vemos um movimento de “ida e volta” do passo 5 à realização de uma nova pesquisa (passos 1 a 4), para obter-se novos resultados, até que as novas interpretações permitam a articulação dos achados em uma nova teoria mais geral. Voltando ao contexto dessa pesquisa, as novas descobertas não invalidam a teoria anterior, mas complementam.\n",
    "\n",
    "O último ciclo quando ingressa no passo 5 traz a seguinte revisão à teoria:\n",
    "\n",
    "* laços fortes ainda são utilizados para muitos temas importantes e confidências, mas não para todos os assuntos importantes e confidências. \n",
    "* as situações que exigem a confidência a estranhos são aquelas onde esses “confidentes” estão próximos, disponíveis e entendem do assunto em questão\n",
    "* isso implica em uma escolha que é guiada por algum tipo de “cálculo” do indivíduo que busca se aconselhar\n",
    "\n",
    "Podemos agora definir e explicitar o que ocorre nesses últimos passos. Para os três primeiros, vocês tiveram *scaffold*. Para estes dois últimos, terão que escrever e entregar!\n",
    "\n",
    "### 4: Interpretação dos resultados na linguagem de SNA (Social Network Analysis)\n",
    "\n",
    "A partir dos resultados obtidos das análises, descreva o que está acontecendo. Isso inclui explicitar:\n",
    "•\tquais hipóteses foram corroboradas\n",
    "•\tquais hipóteses foram rejeitadas\n",
    "•\ttrazer análises suplementares que testem a robustez dos achados\n",
    "•\tBuscar situações onde as hipóteses corroboradas poderiam ser rejeitadas (condições de fronteira)\n",
    "•\tIdentificar situações alternativas também que corroboram as hipóteses\n",
    "\n",
    "Essa interpretação pode ser feita a partir da citação dos dados obtidos nas análises e não precisa ser “didática”. Basta um “de para” dos resultados às hipóteses originalmente elaboradas para guiar o leitor."
   ]
  },
  {
   "cell_type": "markdown",
   "metadata": {},
   "source": [
    "De acordo com a análise dos gráficos dos dados dos anos de 51, 63 e 64, a hipótese 2 é (músicos na periferia inovam mais) corroborada, pois observamos uma grande concentração de músicos inovadores com poucas sessões inovadoras relativas (ao número total de sessões deste músico) tendo um 'coreness' alto, o contrário para músicos com mais sessões inovadoras relativas. Porém, de acordo com os gráficos dos anos de 68 e 66, é observado exatamente o contrário, corroborando a hipótese 1."
   ]
  },
  {
   "cell_type": "markdown",
   "metadata": {},
   "source": [
    "### 5: Extrapolação/generalização dos resultados, reinterpretação do contexto, identificação de implicações e próximos passos\n",
    "\n",
    "A partir da interpretação técnica realizada, nesse passo se procede uma discussão do que isso significa à luz do que foi elaborado nos passos 1 e 2 originalmente:\n",
    "\n",
    "* Por que houve hipóteses rejeitadas? Isso diz respeito ao contexto específico onde foram testadas?\n",
    "\n",
    "* Há explicações alternativas ou motivos obscuros para algo acontecer que justificaria pesquisas futuras? Essas indagações remetem às limitações da pesquisa.\n",
    "\n",
    "* Os achados permitem aprimorar a teoria? Por exemplo, na pesquisa citada, agregou-se situações específicas e a escolha individual que se origina na interpretação da situação e avaliação das alternativas existentes."
   ]
  },
  {
   "cell_type": "markdown",
   "metadata": {},
   "source": [
    "* As hipóteses foram ambas rejeitadas por evidências suficiente para rejeitá-las, como citado no item 4. Isso provavelmente diz respeito ao contexto em que foram testadas, dado que os métodos foram os mesmos para todos anos de testes.\n",
    "\n",
    "* Sim, dado que não foi possível justificar o porquê de ambas hipóteses (que supostamente cobririam uma boa parte do universo de testes) terem sido rejeitadas torna-se bastante possível a existência de fatores não contemplados nesta pesquisa/coleta de dados, justificando assim pesquisas futuras sobre o mesmo tema.\n",
    "\n",
    "* Também é possível, poderíamos por exemplo supor que existe uma onda de inovação devido aos lançamentos de CD's de jazz, dado os anos que corroboraram a hipótese 1 ou anos que corroboraram a hipótese 2. Porém também seriam necessárias pesquisas futuras."
   ]
  },
  {
   "cell_type": "markdown",
   "metadata": {},
   "source": [
    "## Referências\n",
    "\n",
    "Bearman, P., & Parigi, P. (2004). Cloning headless frogs and other important matters: Conversation topics and network structure. Social Forces, 83(2), 535-557.\n",
    "\n",
    "Burt, R. S. (1984). Network items and the general social survey. Social networks, 6(4), 293-339.\n",
    "\n",
    "Granovetter, Mark S. \"The strength of weak ties.\" Social networks. 1977. 347-367.\n",
    "\n",
    "Small, M. L. (2013). Weak ties and the core discussion network: Why people regularly discuss important matters with unimportant alters. Social networks, 35(3), 470-483.\n",
    "\n",
    "Small, M. L. (2017). Someone to Talk to. Oxford University Press.\n",
    "\n",
    "### Observações"
   ]
  },
  {
   "cell_type": "raw",
   "metadata": {},
   "source": []
  }
 ],
 "metadata": {
  "kernelspec": {
   "display_name": "Python 3",
   "language": "python",
   "name": "python3"
  },
  "language_info": {
   "codemirror_mode": {
    "name": "ipython",
    "version": 3
   },
   "file_extension": ".py",
   "mimetype": "text/x-python",
   "name": "python",
   "nbconvert_exporter": "python",
   "pygments_lexer": "ipython3",
   "version": "3.5.5"
  }
 },
 "nbformat": 4,
 "nbformat_minor": 1
}
